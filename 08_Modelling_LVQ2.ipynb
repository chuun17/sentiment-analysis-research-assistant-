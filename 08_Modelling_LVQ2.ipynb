{
 "cells": [
  {
   "cell_type": "markdown",
   "metadata": {},
   "source": [
    "source = http://neupy.com/apidocs/neupy.algorithms.competitive.lvq.html"
   ]
  },
  {
   "cell_type": "code",
   "execution_count": 2,
   "metadata": {},
   "outputs": [
    {
     "name": "stderr",
     "output_type": "stream",
     "text": [
      "e:\\asisten riset\\sentiment analysis\\project_env\\lib\\site-packages\\tensorflow\\python\\framework\\dtypes.py:526: FutureWarning: Passing (type, 1) or '1type' as a synonym of type is deprecated; in a future version of numpy, it will be understood as (type, (1,)) / '(1,)type'.\n",
      "  _np_qint8 = np.dtype([(\"qint8\", np.int8, 1)])\n",
      "e:\\asisten riset\\sentiment analysis\\project_env\\lib\\site-packages\\tensorflow\\python\\framework\\dtypes.py:527: FutureWarning: Passing (type, 1) or '1type' as a synonym of type is deprecated; in a future version of numpy, it will be understood as (type, (1,)) / '(1,)type'.\n",
      "  _np_quint8 = np.dtype([(\"quint8\", np.uint8, 1)])\n",
      "e:\\asisten riset\\sentiment analysis\\project_env\\lib\\site-packages\\tensorflow\\python\\framework\\dtypes.py:528: FutureWarning: Passing (type, 1) or '1type' as a synonym of type is deprecated; in a future version of numpy, it will be understood as (type, (1,)) / '(1,)type'.\n",
      "  _np_qint16 = np.dtype([(\"qint16\", np.int16, 1)])\n",
      "e:\\asisten riset\\sentiment analysis\\project_env\\lib\\site-packages\\tensorflow\\python\\framework\\dtypes.py:529: FutureWarning: Passing (type, 1) or '1type' as a synonym of type is deprecated; in a future version of numpy, it will be understood as (type, (1,)) / '(1,)type'.\n",
      "  _np_quint16 = np.dtype([(\"quint16\", np.uint16, 1)])\n",
      "e:\\asisten riset\\sentiment analysis\\project_env\\lib\\site-packages\\tensorflow\\python\\framework\\dtypes.py:530: FutureWarning: Passing (type, 1) or '1type' as a synonym of type is deprecated; in a future version of numpy, it will be understood as (type, (1,)) / '(1,)type'.\n",
      "  _np_qint32 = np.dtype([(\"qint32\", np.int32, 1)])\n",
      "e:\\asisten riset\\sentiment analysis\\project_env\\lib\\site-packages\\tensorflow\\python\\framework\\dtypes.py:535: FutureWarning: Passing (type, 1) or '1type' as a synonym of type is deprecated; in a future version of numpy, it will be understood as (type, (1,)) / '(1,)type'.\n",
      "  np_resource = np.dtype([(\"resource\", np.ubyte, 1)])\n"
     ]
    }
   ],
   "source": [
    "import matplotlib.pyplot as plt\n",
    "import numpy as np\n",
    "import pandas as pd\n",
    "import seaborn as sns\n",
    "\n",
    "from collections import Counter\n",
    "from neupy.algorithms import LVQ2\n",
    "from sklearn.feature_extraction.text import CountVectorizer, TfidfVectorizer\n",
    "from sklearn.feature_selection import chi2, mutual_info_classif\n",
    "from Sastrawi.Stemmer.StemmerFactory import StemmerFactory\n",
    "from itertools import product"
   ]
  },
  {
   "cell_type": "code",
   "execution_count": 2,
   "metadata": {},
   "outputs": [
    {
     "data": {
      "text/plain": [
       "(152, 2)"
      ]
     },
     "execution_count": 2,
     "metadata": {},
     "output_type": "execute_result"
    }
   ],
   "source": [
    "df = pd.read_excel('dataset/Data 1.xlsx', names=['comment', 'polarity'])\n",
    "df.shape"
   ]
  },
  {
   "cell_type": "code",
   "execution_count": 3,
   "metadata": {},
   "outputs": [
    {
     "data": {
      "text/html": [
       "<div>\n",
       "<style scoped>\n",
       "    .dataframe tbody tr th:only-of-type {\n",
       "        vertical-align: middle;\n",
       "    }\n",
       "\n",
       "    .dataframe tbody tr th {\n",
       "        vertical-align: top;\n",
       "    }\n",
       "\n",
       "    .dataframe thead th {\n",
       "        text-align: right;\n",
       "    }\n",
       "</style>\n",
       "<table border=\"1\" class=\"dataframe\">\n",
       "  <thead>\n",
       "    <tr style=\"text-align: right;\">\n",
       "      <th></th>\n",
       "      <th>comment</th>\n",
       "      <th>polarity</th>\n",
       "    </tr>\n",
       "  </thead>\n",
       "  <tbody>\n",
       "    <tr>\n",
       "      <th>0</th>\n",
       "      <td>min bnyk yg kecewa lo dgn update terbaru alih ...</td>\n",
       "      <td>1</td>\n",
       "    </tr>\n",
       "    <tr>\n",
       "      <th>1</th>\n",
       "      <td>user id password mesti ke bank ya gpplah yg pe...</td>\n",
       "      <td>1</td>\n",
       "    </tr>\n",
       "    <tr>\n",
       "      <th>2</th>\n",
       "      <td>saat transfer kadang ada muncul keterangan kon...</td>\n",
       "      <td>1</td>\n",
       "    </tr>\n",
       "    <tr>\n",
       "      <th>3</th>\n",
       "      <td>begitu saya update dan no tlpn saya statusnya ...</td>\n",
       "      <td>1</td>\n",
       "    </tr>\n",
       "    <tr>\n",
       "      <th>4</th>\n",
       "      <td>tolong tambahkan fitur fingerprint atau face r...</td>\n",
       "      <td>1</td>\n",
       "    </tr>\n",
       "  </tbody>\n",
       "</table>\n",
       "</div>"
      ],
      "text/plain": [
       "                                             comment  polarity\n",
       "0  min bnyk yg kecewa lo dgn update terbaru alih ...         1\n",
       "1  user id password mesti ke bank ya gpplah yg pe...         1\n",
       "2  saat transfer kadang ada muncul keterangan kon...         1\n",
       "3  begitu saya update dan no tlpn saya statusnya ...         1\n",
       "4  tolong tambahkan fitur fingerprint atau face r...         1"
      ]
     },
     "execution_count": 3,
     "metadata": {},
     "output_type": "execute_result"
    }
   ],
   "source": [
    "df.head()"
   ]
  },
  {
   "cell_type": "markdown",
   "metadata": {},
   "source": [
    "## Preprocessing\n",
    "\n",
    "<ol>\n",
    "    <li>Case folding <b>(done at previous notebook)</b></li>\n",
    "    <li>Cleansing <b>(done at previous notebook)</b></li>\n",
    "    <li>Formalization</li>\n",
    "    <li>Stemming</li>\n",
    "    <li>Stopword Removal</li>\n",
    "    <li>Tokenizing</li>\n",
    "</ol>\n",
    "    "
   ]
  },
  {
   "cell_type": "markdown",
   "metadata": {},
   "source": [
    "### Formalization (Manual)"
   ]
  },
  {
   "cell_type": "code",
   "execution_count": 4,
   "metadata": {},
   "outputs": [
    {
     "name": "stdout",
     "output_type": "stream",
     "text": [
      "There are 51 token pairs\n"
     ]
    }
   ],
   "source": [
    "formal_dict = {}\n",
    "with open('resources/formalization_dict.txt', 'r') as file:\n",
    "    i = 1\n",
    "    for row in file:\n",
    "        old, new = row.split('\\t')\n",
    "        i += 1\n",
    "        formal_dict[old] = new.lower().strip()\n",
    "\n",
    "print(f'There are {len(formal_dict)} token pairs')"
   ]
  },
  {
   "cell_type": "code",
   "execution_count": 5,
   "metadata": {},
   "outputs": [
    {
     "name": "stdout",
     "output_type": "stream",
     "text": [
      "We have 152 comments\n"
     ]
    }
   ],
   "source": [
    "formal_comment = []\n",
    "\n",
    "for comment in df.comment:\n",
    "    sentence = ' '+comment+' '\n",
    "    for false_word, true_word in formal_dict.items():\n",
    "        word = ' '+false_word+' '\n",
    "        sentence = sentence.replace(word, ' '+true_word+' ')\n",
    "    formal_comment.append(sentence)\n",
    "    \n",
    "print(f'We have {len(formal_comment)} comments')"
   ]
  },
  {
   "cell_type": "markdown",
   "metadata": {},
   "source": [
    "### Stemming (Sastrawi)"
   ]
  },
  {
   "cell_type": "code",
   "execution_count": 6,
   "metadata": {},
   "outputs": [
    {
     "data": {
      "text/plain": [
       "'min bnyk yang kecewa lo dengan update baru alih alih sempurna malah susah nasabah mandiri masuk saya agar kurang tindak tipu jahat waktu ada transaksi yang lebih rb rp maka bisa di tambah security upa kirim nomor verifikasi yang kirim ke nomor hp sms banking trus harus di masuk dalam applikasi mandiri online agar benar bahwa si nasabah sedang laku transaksi dengan demikian pasti tetap aman mohon perhati ya min terimakasih'"
      ]
     },
     "execution_count": 6,
     "metadata": {},
     "output_type": "execute_result"
    }
   ],
   "source": [
    "stemmer = StemmerFactory().create_stemmer()\n",
    "comment_stemmed = [stemmer.stem(formal_comment[i]) for i in range(df.shape[0])]\n",
    "\n",
    "comment_stemmed[0]"
   ]
  },
  {
   "cell_type": "code",
   "execution_count": 7,
   "metadata": {},
   "outputs": [
    {
     "data": {
      "text/plain": [
       "' min bnyk yang kecewa lo dengan update terbaru alih alih penyempurnaan malah menyusahkan nasabah mandiri masukan saya agar mengurangi tindak penipuan kejahatan sewaktu ada transaksi yang lebih rb rp maka bisa di tambahkan security berupa pengiriman nomor verifikasi yang dikirimkan ke nomor hp sms banking trus harus di masukkan dalam applikasi mandiri online agar benar bahwa si nasabah sedang melakukan transaksi dengan demikian pasti tetap aman mohon diperhatikan ya min terimakasih '"
      ]
     },
     "execution_count": 7,
     "metadata": {},
     "output_type": "execute_result"
    }
   ],
   "source": [
    "formal_comment[0]"
   ]
  },
  {
   "cell_type": "markdown",
   "metadata": {},
   "source": [
    "### Stopwords Removal (Manual)"
   ]
  },
  {
   "cell_type": "code",
   "execution_count": 8,
   "metadata": {},
   "outputs": [],
   "source": [
    "def remove_token(bad_token, dataset):\n",
    "    clean_dataset = []\n",
    "    for comment in dataset:\n",
    "        comment = ' '+comment+' '\n",
    "        for token in bad_token:\n",
    "            word = ' '+token+' '\n",
    "            comment = comment.replace(word, ' ')\n",
    "        \n",
    "        clean_dataset.append(comment.strip())\n",
    "    \n",
    "    assert len(dataset) == len(clean_dataset)\n",
    "    \n",
    "    return np.array(clean_dataset)"
   ]
  },
  {
   "cell_type": "code",
   "execution_count": 9,
   "metadata": {},
   "outputs": [
    {
     "name": "stdout",
     "output_type": "stream",
     "text": [
      "There are 23 stopword list\n"
     ]
    }
   ],
   "source": [
    "stopwords = [\n",
    "    'yang', 'untuk', 'pada', 'antara', 'dan' , 'di', 'dari', 'hal', \n",
    "    'dalam', 'atau', 'kah', 'pun', 'dsb', 'dst', 'dll', 'toh', 'ya',\n",
    "    'saya', 'dengan', 'nya', 'ke', 'si', 'dah'\n",
    "]\n",
    "\n",
    "print(f'There are {len(stopwords)} stopword list')"
   ]
  },
  {
   "cell_type": "code",
   "execution_count": 10,
   "metadata": {},
   "outputs": [
    {
     "name": "stdout",
     "output_type": "stream",
     "text": [
      "We have 152 comments\n"
     ]
    }
   ],
   "source": [
    "clean_comment = []\n",
    "for comment in comment_stemmed:\n",
    "    for token in stopwords:\n",
    "        word = ' '+token+' '\n",
    "        comment = comment.replace(word, ' ')\n",
    "    if sentence.strip():\n",
    "        clean_comment.append(comment.strip())\n",
    "        \n",
    "print(f'We have {len(clean_comment)} comments')"
   ]
  },
  {
   "cell_type": "code",
   "execution_count": 11,
   "metadata": {},
   "outputs": [
    {
     "data": {
      "text/plain": [
       "'min bnyk kecewa lo update baru alih alih sempurna malah susah nasabah mandiri masuk agar kurang tindak tipu jahat waktu ada transaksi lebih rb rp maka bisa tambah security upa kirim nomor verifikasi kirim nomor hp sms banking trus harus masuk applikasi mandiri online agar benar bahwa nasabah sedang laku transaksi demikian pasti tetap aman mohon perhati min terimakasih'"
      ]
     },
     "execution_count": 11,
     "metadata": {},
     "output_type": "execute_result"
    }
   ],
   "source": [
    "clean_comment[0]"
   ]
  },
  {
   "cell_type": "markdown",
   "metadata": {},
   "source": [
    "### Tokenizing"
   ]
  },
  {
   "cell_type": "code",
   "execution_count": 12,
   "metadata": {
    "scrolled": true
   },
   "outputs": [
    {
     "name": "stderr",
     "output_type": "stream",
     "text": [
      "e:\\asisten riset\\sentiment analysis\\project_env\\lib\\site-packages\\ipykernel_launcher.py:1: VisibleDeprecationWarning: Creating an ndarray from ragged nested sequences (which is a list-or-tuple of lists-or-tuples-or ndarrays with different lengths or shapes) is deprecated. If you meant to do this, you must specify 'dtype=object' when creating the ndarray\n",
      "  \"\"\"Entry point for launching an IPython kernel.\n"
     ]
    },
    {
     "data": {
      "text/plain": [
       "array([array(['min', 'bnyk', 'kecewa', 'lo', 'update', 'baru', 'alih', 'alih',\n",
       "       'sempurna', 'malah', 'susah', 'nasabah', 'mandiri', 'masuk',\n",
       "       'agar', 'kurang', 'tindak', 'tipu', 'jahat', 'waktu', 'ada',\n",
       "       'transaksi', 'lebih', 'rb', 'rp', 'maka', 'bisa', 'tambah',\n",
       "       'security', 'upa', 'kirim', 'nomor', 'verifikasi', 'kirim',\n",
       "       'nomor', 'hp', 'sms', 'banking', 'trus', 'harus', 'masuk',\n",
       "       'applikasi', 'mandiri', 'online', 'agar', 'benar', 'bahwa',\n",
       "       'nasabah', 'sedang', 'laku', 'transaksi', 'demikian', 'pasti',\n",
       "       'tetap', 'aman', 'mohon', 'perhati', 'min', 'terimakasih'],\n",
       "      dtype='<U11'),\n",
       "       array(['user', 'id', 'password', 'mesti', 'bank', 'gpplah', 'penting',\n",
       "       'aman', 'transaksi'], dtype='<U9')], dtype=object)"
      ]
     },
     "execution_count": 12,
     "metadata": {},
     "output_type": "execute_result"
    }
   ],
   "source": [
    "features = np.array([np.array(comment.split()) for comment in clean_comment])\n",
    "features[:2]"
   ]
  },
  {
   "cell_type": "code",
   "execution_count": null,
   "metadata": {},
   "outputs": [],
   "source": []
  },
  {
   "cell_type": "markdown",
   "metadata": {},
   "source": [
    "## Modelling"
   ]
  },
  {
   "cell_type": "markdown",
   "metadata": {},
   "source": [
    "### LVQ-2 + TF-IDF"
   ]
  },
  {
   "cell_type": "markdown",
   "metadata": {},
   "source": [
    "<h3>Important</h3>\n",
    "<ol>\n",
    "    <li><b>max_df</b>: occurred in too many documents(common word)</li>\n",
    "    <li><b>min_df</b>: occurred in too few documents (typo, alay)</li>\n",
    "    <li><b>step</b>: Learning rate.</li>\n",
    "    <li><b>prototypes_per_class</b>: Defines number of prototypes per each class.</li>\n",
    "    <li><b>n_updates_to_stepdrop</b>: If this options is not equal to ``None`` then after every\n",
    "    update LVQ reduces step size and do it until number of\n",
    "    applied updates would reach the ``n_updates_to_stepdrop``\n",
    "    value. The minimum possible step size defined in the\n",
    "    ``minstep`` parameter. Be aware that number of updates is not the same as number\n",
    "    of epochs. LVQ applies update after each propagated sample\n",
    "    through the network.</li>\n",
    "</ol>"
   ]
  },
  {
   "cell_type": "code",
   "execution_count": 13,
   "metadata": {},
   "outputs": [],
   "source": [
    "def compute_score(y_true, y_pred):\n",
    "    true_predict = 0\n",
    "    for i in range(y_pred.shape[0]):\n",
    "        if y_true[i]==y_pred[i]:\n",
    "            true_predict += 1\n",
    "    return true_predict/y_pred.shape[0]"
   ]
  },
  {
   "cell_type": "code",
   "execution_count": 92,
   "metadata": {},
   "outputs": [
    {
     "data": {
      "text/plain": [
       "3072"
      ]
     },
     "execution_count": 92,
     "metadata": {},
     "output_type": "execute_result"
    }
   ],
   "source": [
    "min_df = [0.0, .1, .2, .3]\n",
    "max_df = [.5, .6, .7 , .8, .9, 1.0]\n",
    "step = [.1, .5]\n",
    "prototypes_per_class = [[1, 1], [2, 2], [3, 3], [5, 5]]\n",
    "n_updates_to_stepdrop = [None, 3, 5, 10]\n",
    "epochs = [50, 100, 150, 200]\n",
    "\n",
    "param_combinations = list(product(min_df, max_df, step, prototypes_per_class,\n",
    "                                  n_updates_to_stepdrop, epochs))\n",
    "len(param_combinations)"
   ]
  },
  {
   "cell_type": "code",
   "execution_count": 95,
   "metadata": {
    "scrolled": true
   },
   "outputs": [
    {
     "name": "stdout",
     "output_type": "stream",
     "text": [
      "===============0===============\n"
     ]
    },
    {
     "name": "stderr",
     "output_type": "stream",
     "text": [
      "                                                                               \r"
     ]
    },
    {
     "name": "stdout",
     "output_type": "stream",
     "text": [
      "===============1===============\n"
     ]
    },
    {
     "name": "stderr",
     "output_type": "stream",
     "text": [
      "                                                                               \r"
     ]
    },
    {
     "name": "stdout",
     "output_type": "stream",
     "text": [
      "===============2===============\n"
     ]
    },
    {
     "name": "stderr",
     "output_type": "stream",
     "text": [
      "                                                                               \r"
     ]
    },
    {
     "name": "stdout",
     "output_type": "stream",
     "text": [
      "===============3===============\n"
     ]
    },
    {
     "name": "stderr",
     "output_type": "stream",
     "text": [
      "                                                                               \r"
     ]
    },
    {
     "name": "stdout",
     "output_type": "stream",
     "text": [
      "===============4===============\n"
     ]
    },
    {
     "name": "stderr",
     "output_type": "stream",
     "text": [
      "                                                                               \r"
     ]
    },
    {
     "name": "stdout",
     "output_type": "stream",
     "text": [
      "Train and evaluate 3072 permutation of model completed\n"
     ]
    },
    {
     "name": "stderr",
     "output_type": "stream",
     "text": [
      "\r",
      "                                                                               \r",
      "\r",
      "                                                                               \r",
      "\r",
      "                                                                               \r",
      "\r",
      "                                                                               \r",
      "\r",
      "                                                                               \r",
      "\r",
      "                                                                               \r",
      "\r",
      "                                                                               \r",
      "\r",
      "                                                                               \r",
      "\r",
      "                                                                               \r",
      "\r",
      "                                                                               \r",
      "\r",
      "                                                                               \r",
      "\r",
      "                                                                               \r",
      "\r",
      "                                                                               \r",
      "\r",
      "                                                                               \r",
      "\r",
      "                                                                               \r",
      "\r",
      "                                                                               \r",
      "\r",
      "                                                                               \r",
      "\r",
      "                                                                               \r",
      "\r",
      "                                                                               \r",
      "\r",
      "                                                                               \r",
      "\r",
      "                                                                               \r",
      "\r",
      "                                                                               \r",
      "\r",
      "                                                                               \r",
      "\r",
      "                                                                               \r",
      "\r",
      "                                                                               \r"
     ]
    }
   ],
   "source": [
    "NUM_BATCHES = 5\n",
    "features = np.array(clean_comment)\n",
    "labels = np.array(df.polarity)\n",
    "train_eval, test_eval = [], []\n",
    "\n",
    "for i in range(NUM_BATCHES):\n",
    "\n",
    "    train_idx = np.load(f'dataset/train_{i+1}.npy')\n",
    "    test_idx = np.load(f'dataset/test_{i+1}.npy')\n",
    "    train_labels = labels[train_idx]\n",
    "    test_labels = labels[test_idx]\n",
    "    print(f'==============={i}===============')\n",
    "    \n",
    "    for param in param_combinations:\n",
    "        tfidf_vectorizer = TfidfVectorizer(min_df=param[0], max_df=param[1])\n",
    "        train_features = tfidf_vectorizer.fit_transform(features[train_idx]).toarray()\n",
    "        test_features = tfidf_vectorizer.transform(features[test_idx]).toarray()\n",
    "            \n",
    "        # train and evaluate\n",
    "        clf = LVQ2(n_inputs=train_features.shape[1], n_classes=2, step=param[2],\n",
    "                   n_subclasses = sum(param[3]), prototypes_per_class=param[3],\n",
    "                   n_updates_to_stepdrop=param[4]*train_features.shape[0] if param[4]!=None else None)\n",
    "        clf.train(train_features, train_labels, epochs=param[5])\n",
    "        train_acc = compute_score(train_labels, clf.predict(train_features))\n",
    "        test_acc = compute_score(test_labels, clf.predict(test_features))\n",
    "\n",
    "        train_eval.append(train_acc)\n",
    "        test_eval.append(test_acc)\n",
    "        \n",
    "print(f'Train and evaluate {len(param_combinations)} permutation of model completed')"
   ]
  },
  {
   "cell_type": "code",
   "execution_count": 96,
   "metadata": {},
   "outputs": [
    {
     "name": "stdout",
     "output_type": "stream",
     "text": [
      "Done\n"
     ]
    }
   ],
   "source": [
    "NUM_PARAMS = len(param_combinations)\n",
    "train_history = [[] for i in range(NUM_PARAMS)]\n",
    "test_history = [[] for i in range(NUM_PARAMS)]\n",
    "\n",
    "for i in range(len(train_eval)):\n",
    "    idx = i % NUM_PARAMS\n",
    "    train_history[idx].append(train_eval[i])\n",
    "    test_history[idx].append(test_eval[i])\n",
    "\n",
    "# append the average accuracy\n",
    "for i in range(NUM_PARAMS):\n",
    "    train_history[i].append(sum(train_history[i])/NUM_BATCHES)\n",
    "    test_history[i].append(sum(test_history[i])/NUM_BATCHES)\n",
    "\n",
    "if len(train_history[-1]) == NUM_BATCHES+1:\n",
    "    print('Done')"
   ]
  },
  {
   "cell_type": "code",
   "execution_count": 64,
   "metadata": {},
   "outputs": [
    {
     "data": {
      "text/plain": [
       "3072"
      ]
     },
     "execution_count": 64,
     "metadata": {},
     "output_type": "execute_result"
    }
   ],
   "source": [
    "min_df = [0.0, .1, .2, .3]\n",
    "max_df = [.5, .6, .7 , .8, .9, 1.0]\n",
    "step = [.1, .5]\n",
    "prototypes_per_class = [[1, 1], [2, 2], [3, 3], [5, 5]]\n",
    "n_updates_to_stepdrop = [None, 3, 5, 10]\n",
    "epochs = [50, 100, 150, 200]\n",
    "\n",
    "param_combinations = list(product(min_df, max_df, step, prototypes_per_class,\n",
    "                                  n_updates_to_stepdrop, epochs))\n",
    "len(param_combinations)"
   ]
  },
  {
   "cell_type": "code",
   "execution_count": 97,
   "metadata": {},
   "outputs": [
    {
     "data": {
      "text/html": [
       "<div>\n",
       "<style scoped>\n",
       "    .dataframe tbody tr th:only-of-type {\n",
       "        vertical-align: middle;\n",
       "    }\n",
       "\n",
       "    .dataframe tbody tr th {\n",
       "        vertical-align: top;\n",
       "    }\n",
       "\n",
       "    .dataframe thead th {\n",
       "        text-align: right;\n",
       "    }\n",
       "</style>\n",
       "<table border=\"1\" class=\"dataframe\">\n",
       "  <thead>\n",
       "    <tr style=\"text-align: right;\">\n",
       "      <th></th>\n",
       "      <th>Train Acc (min_df=0.0, max_df=0.5, lr=0.1, n_prototypes=[1, 1], n_updates_to_stepdrop=None, epoch=50)</th>\n",
       "      <th>Test Acc (min_df=0.0, max_df=0.5, lr=0.1, n_prototypes=[1, 1], n_updates_to_stepdrop=None, epoch=50)</th>\n",
       "      <th>Train Acc (min_df=0.0, max_df=0.5, lr=0.1, n_prototypes=[1, 1], n_updates_to_stepdrop=None, epoch=100)</th>\n",
       "      <th>Test Acc (min_df=0.0, max_df=0.5, lr=0.1, n_prototypes=[1, 1], n_updates_to_stepdrop=None, epoch=100)</th>\n",
       "      <th>Train Acc (min_df=0.0, max_df=0.5, lr=0.1, n_prototypes=[1, 1], n_updates_to_stepdrop=None, epoch=150)</th>\n",
       "      <th>Test Acc (min_df=0.0, max_df=0.5, lr=0.1, n_prototypes=[1, 1], n_updates_to_stepdrop=None, epoch=150)</th>\n",
       "      <th>Train Acc (min_df=0.0, max_df=0.5, lr=0.1, n_prototypes=[1, 1], n_updates_to_stepdrop=None, epoch=200)</th>\n",
       "      <th>Test Acc (min_df=0.0, max_df=0.5, lr=0.1, n_prototypes=[1, 1], n_updates_to_stepdrop=None, epoch=200)</th>\n",
       "      <th>Train Acc (min_df=0.0, max_df=0.5, lr=0.1, n_prototypes=[1, 1], n_updates_to_stepdrop=3, epoch=50)</th>\n",
       "      <th>Test Acc (min_df=0.0, max_df=0.5, lr=0.1, n_prototypes=[1, 1], n_updates_to_stepdrop=3, epoch=50)</th>\n",
       "      <th>...</th>\n",
       "      <th>Train Acc (min_df=0.3, max_df=1.0, lr=0.5, n_prototypes=[5, 5], n_updates_to_stepdrop=5, epoch=200)</th>\n",
       "      <th>Test Acc (min_df=0.3, max_df=1.0, lr=0.5, n_prototypes=[5, 5], n_updates_to_stepdrop=5, epoch=200)</th>\n",
       "      <th>Train Acc (min_df=0.3, max_df=1.0, lr=0.5, n_prototypes=[5, 5], n_updates_to_stepdrop=10, epoch=50)</th>\n",
       "      <th>Test Acc (min_df=0.3, max_df=1.0, lr=0.5, n_prototypes=[5, 5], n_updates_to_stepdrop=10, epoch=50)</th>\n",
       "      <th>Train Acc (min_df=0.3, max_df=1.0, lr=0.5, n_prototypes=[5, 5], n_updates_to_stepdrop=10, epoch=100)</th>\n",
       "      <th>Test Acc (min_df=0.3, max_df=1.0, lr=0.5, n_prototypes=[5, 5], n_updates_to_stepdrop=10, epoch=100)</th>\n",
       "      <th>Train Acc (min_df=0.3, max_df=1.0, lr=0.5, n_prototypes=[5, 5], n_updates_to_stepdrop=10, epoch=150)</th>\n",
       "      <th>Test Acc (min_df=0.3, max_df=1.0, lr=0.5, n_prototypes=[5, 5], n_updates_to_stepdrop=10, epoch=150)</th>\n",
       "      <th>Train Acc (min_df=0.3, max_df=1.0, lr=0.5, n_prototypes=[5, 5], n_updates_to_stepdrop=10, epoch=200)</th>\n",
       "      <th>Test Acc (min_df=0.3, max_df=1.0, lr=0.5, n_prototypes=[5, 5], n_updates_to_stepdrop=10, epoch=200)</th>\n",
       "    </tr>\n",
       "  </thead>\n",
       "  <tbody>\n",
       "    <tr>\n",
       "      <th>Batch-1</th>\n",
       "      <td>0.801653</td>\n",
       "      <td>0.580645</td>\n",
       "      <td>0.826446</td>\n",
       "      <td>0.612903</td>\n",
       "      <td>0.826446</td>\n",
       "      <td>0.612903</td>\n",
       "      <td>0.826446</td>\n",
       "      <td>0.612903</td>\n",
       "      <td>0.826446</td>\n",
       "      <td>0.612903</td>\n",
       "      <td>...</td>\n",
       "      <td>0.553719</td>\n",
       "      <td>0.548387</td>\n",
       "      <td>0.553719</td>\n",
       "      <td>0.548387</td>\n",
       "      <td>0.553719</td>\n",
       "      <td>0.548387</td>\n",
       "      <td>0.553719</td>\n",
       "      <td>0.548387</td>\n",
       "      <td>0.752066</td>\n",
       "      <td>0.806452</td>\n",
       "    </tr>\n",
       "    <tr>\n",
       "      <th>Batch-2</th>\n",
       "      <td>0.867769</td>\n",
       "      <td>0.741935</td>\n",
       "      <td>0.867769</td>\n",
       "      <td>0.741935</td>\n",
       "      <td>0.867769</td>\n",
       "      <td>0.741935</td>\n",
       "      <td>0.867769</td>\n",
       "      <td>0.741935</td>\n",
       "      <td>0.867769</td>\n",
       "      <td>0.741935</td>\n",
       "      <td>...</td>\n",
       "      <td>0.553719</td>\n",
       "      <td>0.548387</td>\n",
       "      <td>0.553719</td>\n",
       "      <td>0.548387</td>\n",
       "      <td>0.661157</td>\n",
       "      <td>0.677419</td>\n",
       "      <td>0.661157</td>\n",
       "      <td>0.677419</td>\n",
       "      <td>0.553719</td>\n",
       "      <td>0.548387</td>\n",
       "    </tr>\n",
       "    <tr>\n",
       "      <th>Batch-3</th>\n",
       "      <td>0.836066</td>\n",
       "      <td>0.666667</td>\n",
       "      <td>0.836066</td>\n",
       "      <td>0.666667</td>\n",
       "      <td>0.836066</td>\n",
       "      <td>0.666667</td>\n",
       "      <td>0.836066</td>\n",
       "      <td>0.666667</td>\n",
       "      <td>0.836066</td>\n",
       "      <td>0.666667</td>\n",
       "      <td>...</td>\n",
       "      <td>0.557377</td>\n",
       "      <td>0.533333</td>\n",
       "      <td>0.557377</td>\n",
       "      <td>0.533333</td>\n",
       "      <td>0.557377</td>\n",
       "      <td>0.533333</td>\n",
       "      <td>0.557377</td>\n",
       "      <td>0.533333</td>\n",
       "      <td>0.860656</td>\n",
       "      <td>0.900000</td>\n",
       "    </tr>\n",
       "    <tr>\n",
       "      <th>Batch-4</th>\n",
       "      <td>0.795082</td>\n",
       "      <td>0.700000</td>\n",
       "      <td>0.795082</td>\n",
       "      <td>0.700000</td>\n",
       "      <td>0.795082</td>\n",
       "      <td>0.700000</td>\n",
       "      <td>0.795082</td>\n",
       "      <td>0.700000</td>\n",
       "      <td>0.795082</td>\n",
       "      <td>0.700000</td>\n",
       "      <td>...</td>\n",
       "      <td>0.860656</td>\n",
       "      <td>0.866667</td>\n",
       "      <td>0.549180</td>\n",
       "      <td>0.566667</td>\n",
       "      <td>0.860656</td>\n",
       "      <td>0.900000</td>\n",
       "      <td>0.549180</td>\n",
       "      <td>0.566667</td>\n",
       "      <td>0.860656</td>\n",
       "      <td>0.900000</td>\n",
       "    </tr>\n",
       "    <tr>\n",
       "      <th>Batch-5</th>\n",
       "      <td>0.737705</td>\n",
       "      <td>0.566667</td>\n",
       "      <td>0.737705</td>\n",
       "      <td>0.566667</td>\n",
       "      <td>0.737705</td>\n",
       "      <td>0.566667</td>\n",
       "      <td>0.737705</td>\n",
       "      <td>0.566667</td>\n",
       "      <td>0.737705</td>\n",
       "      <td>0.566667</td>\n",
       "      <td>...</td>\n",
       "      <td>0.877049</td>\n",
       "      <td>0.566667</td>\n",
       "      <td>0.934426</td>\n",
       "      <td>0.566667</td>\n",
       "      <td>0.729508</td>\n",
       "      <td>0.533333</td>\n",
       "      <td>0.909836</td>\n",
       "      <td>0.600000</td>\n",
       "      <td>0.729508</td>\n",
       "      <td>0.533333</td>\n",
       "    </tr>\n",
       "    <tr>\n",
       "      <th>Average</th>\n",
       "      <td>0.807655</td>\n",
       "      <td>0.651183</td>\n",
       "      <td>0.812613</td>\n",
       "      <td>0.657634</td>\n",
       "      <td>0.812613</td>\n",
       "      <td>0.657634</td>\n",
       "      <td>0.812613</td>\n",
       "      <td>0.657634</td>\n",
       "      <td>0.812613</td>\n",
       "      <td>0.657634</td>\n",
       "      <td>...</td>\n",
       "      <td>0.680504</td>\n",
       "      <td>0.612688</td>\n",
       "      <td>0.629684</td>\n",
       "      <td>0.552688</td>\n",
       "      <td>0.672483</td>\n",
       "      <td>0.638495</td>\n",
       "      <td>0.646254</td>\n",
       "      <td>0.585161</td>\n",
       "      <td>0.751321</td>\n",
       "      <td>0.737634</td>\n",
       "    </tr>\n",
       "  </tbody>\n",
       "</table>\n",
       "<p>6 rows × 6144 columns</p>\n",
       "</div>"
      ],
      "text/plain": [
       "         Train Acc (min_df=0.0, max_df=0.5, lr=0.1, n_prototypes=[1, 1], n_updates_to_stepdrop=None, epoch=50)  \\\n",
       "Batch-1                                           0.801653                                                       \n",
       "Batch-2                                           0.867769                                                       \n",
       "Batch-3                                           0.836066                                                       \n",
       "Batch-4                                           0.795082                                                       \n",
       "Batch-5                                           0.737705                                                       \n",
       "Average                                           0.807655                                                       \n",
       "\n",
       "         Test Acc (min_df=0.0, max_df=0.5, lr=0.1, n_prototypes=[1, 1], n_updates_to_stepdrop=None, epoch=50)  \\\n",
       "Batch-1                                           0.580645                                                      \n",
       "Batch-2                                           0.741935                                                      \n",
       "Batch-3                                           0.666667                                                      \n",
       "Batch-4                                           0.700000                                                      \n",
       "Batch-5                                           0.566667                                                      \n",
       "Average                                           0.651183                                                      \n",
       "\n",
       "         Train Acc (min_df=0.0, max_df=0.5, lr=0.1, n_prototypes=[1, 1], n_updates_to_stepdrop=None, epoch=100)  \\\n",
       "Batch-1                                           0.826446                                                        \n",
       "Batch-2                                           0.867769                                                        \n",
       "Batch-3                                           0.836066                                                        \n",
       "Batch-4                                           0.795082                                                        \n",
       "Batch-5                                           0.737705                                                        \n",
       "Average                                           0.812613                                                        \n",
       "\n",
       "         Test Acc (min_df=0.0, max_df=0.5, lr=0.1, n_prototypes=[1, 1], n_updates_to_stepdrop=None, epoch=100)  \\\n",
       "Batch-1                                           0.612903                                                       \n",
       "Batch-2                                           0.741935                                                       \n",
       "Batch-3                                           0.666667                                                       \n",
       "Batch-4                                           0.700000                                                       \n",
       "Batch-5                                           0.566667                                                       \n",
       "Average                                           0.657634                                                       \n",
       "\n",
       "         Train Acc (min_df=0.0, max_df=0.5, lr=0.1, n_prototypes=[1, 1], n_updates_to_stepdrop=None, epoch=150)  \\\n",
       "Batch-1                                           0.826446                                                        \n",
       "Batch-2                                           0.867769                                                        \n",
       "Batch-3                                           0.836066                                                        \n",
       "Batch-4                                           0.795082                                                        \n",
       "Batch-5                                           0.737705                                                        \n",
       "Average                                           0.812613                                                        \n",
       "\n",
       "         Test Acc (min_df=0.0, max_df=0.5, lr=0.1, n_prototypes=[1, 1], n_updates_to_stepdrop=None, epoch=150)  \\\n",
       "Batch-1                                           0.612903                                                       \n",
       "Batch-2                                           0.741935                                                       \n",
       "Batch-3                                           0.666667                                                       \n",
       "Batch-4                                           0.700000                                                       \n",
       "Batch-5                                           0.566667                                                       \n",
       "Average                                           0.657634                                                       \n",
       "\n",
       "         Train Acc (min_df=0.0, max_df=0.5, lr=0.1, n_prototypes=[1, 1], n_updates_to_stepdrop=None, epoch=200)  \\\n",
       "Batch-1                                           0.826446                                                        \n",
       "Batch-2                                           0.867769                                                        \n",
       "Batch-3                                           0.836066                                                        \n",
       "Batch-4                                           0.795082                                                        \n",
       "Batch-5                                           0.737705                                                        \n",
       "Average                                           0.812613                                                        \n",
       "\n",
       "         Test Acc (min_df=0.0, max_df=0.5, lr=0.1, n_prototypes=[1, 1], n_updates_to_stepdrop=None, epoch=200)  \\\n",
       "Batch-1                                           0.612903                                                       \n",
       "Batch-2                                           0.741935                                                       \n",
       "Batch-3                                           0.666667                                                       \n",
       "Batch-4                                           0.700000                                                       \n",
       "Batch-5                                           0.566667                                                       \n",
       "Average                                           0.657634                                                       \n",
       "\n",
       "         Train Acc (min_df=0.0, max_df=0.5, lr=0.1, n_prototypes=[1, 1], n_updates_to_stepdrop=3, epoch=50)  \\\n",
       "Batch-1                                           0.826446                                                    \n",
       "Batch-2                                           0.867769                                                    \n",
       "Batch-3                                           0.836066                                                    \n",
       "Batch-4                                           0.795082                                                    \n",
       "Batch-5                                           0.737705                                                    \n",
       "Average                                           0.812613                                                    \n",
       "\n",
       "         Test Acc (min_df=0.0, max_df=0.5, lr=0.1, n_prototypes=[1, 1], n_updates_to_stepdrop=3, epoch=50)  \\\n",
       "Batch-1                                           0.612903                                                   \n",
       "Batch-2                                           0.741935                                                   \n",
       "Batch-3                                           0.666667                                                   \n",
       "Batch-4                                           0.700000                                                   \n",
       "Batch-5                                           0.566667                                                   \n",
       "Average                                           0.657634                                                   \n",
       "\n",
       "         ...  \\\n",
       "Batch-1  ...   \n",
       "Batch-2  ...   \n",
       "Batch-3  ...   \n",
       "Batch-4  ...   \n",
       "Batch-5  ...   \n",
       "Average  ...   \n",
       "\n",
       "         Train Acc (min_df=0.3, max_df=1.0, lr=0.5, n_prototypes=[5, 5], n_updates_to_stepdrop=5, epoch=200)  \\\n",
       "Batch-1                                           0.553719                                                     \n",
       "Batch-2                                           0.553719                                                     \n",
       "Batch-3                                           0.557377                                                     \n",
       "Batch-4                                           0.860656                                                     \n",
       "Batch-5                                           0.877049                                                     \n",
       "Average                                           0.680504                                                     \n",
       "\n",
       "         Test Acc (min_df=0.3, max_df=1.0, lr=0.5, n_prototypes=[5, 5], n_updates_to_stepdrop=5, epoch=200)  \\\n",
       "Batch-1                                           0.548387                                                    \n",
       "Batch-2                                           0.548387                                                    \n",
       "Batch-3                                           0.533333                                                    \n",
       "Batch-4                                           0.866667                                                    \n",
       "Batch-5                                           0.566667                                                    \n",
       "Average                                           0.612688                                                    \n",
       "\n",
       "         Train Acc (min_df=0.3, max_df=1.0, lr=0.5, n_prototypes=[5, 5], n_updates_to_stepdrop=10, epoch=50)  \\\n",
       "Batch-1                                           0.553719                                                     \n",
       "Batch-2                                           0.553719                                                     \n",
       "Batch-3                                           0.557377                                                     \n",
       "Batch-4                                           0.549180                                                     \n",
       "Batch-5                                           0.934426                                                     \n",
       "Average                                           0.629684                                                     \n",
       "\n",
       "         Test Acc (min_df=0.3, max_df=1.0, lr=0.5, n_prototypes=[5, 5], n_updates_to_stepdrop=10, epoch=50)  \\\n",
       "Batch-1                                           0.548387                                                    \n",
       "Batch-2                                           0.548387                                                    \n",
       "Batch-3                                           0.533333                                                    \n",
       "Batch-4                                           0.566667                                                    \n",
       "Batch-5                                           0.566667                                                    \n",
       "Average                                           0.552688                                                    \n",
       "\n",
       "         Train Acc (min_df=0.3, max_df=1.0, lr=0.5, n_prototypes=[5, 5], n_updates_to_stepdrop=10, epoch=100)  \\\n",
       "Batch-1                                           0.553719                                                      \n",
       "Batch-2                                           0.661157                                                      \n",
       "Batch-3                                           0.557377                                                      \n",
       "Batch-4                                           0.860656                                                      \n",
       "Batch-5                                           0.729508                                                      \n",
       "Average                                           0.672483                                                      \n",
       "\n",
       "         Test Acc (min_df=0.3, max_df=1.0, lr=0.5, n_prototypes=[5, 5], n_updates_to_stepdrop=10, epoch=100)  \\\n",
       "Batch-1                                           0.548387                                                     \n",
       "Batch-2                                           0.677419                                                     \n",
       "Batch-3                                           0.533333                                                     \n",
       "Batch-4                                           0.900000                                                     \n",
       "Batch-5                                           0.533333                                                     \n",
       "Average                                           0.638495                                                     \n",
       "\n",
       "         Train Acc (min_df=0.3, max_df=1.0, lr=0.5, n_prototypes=[5, 5], n_updates_to_stepdrop=10, epoch=150)  \\\n",
       "Batch-1                                           0.553719                                                      \n",
       "Batch-2                                           0.661157                                                      \n",
       "Batch-3                                           0.557377                                                      \n",
       "Batch-4                                           0.549180                                                      \n",
       "Batch-5                                           0.909836                                                      \n",
       "Average                                           0.646254                                                      \n",
       "\n",
       "         Test Acc (min_df=0.3, max_df=1.0, lr=0.5, n_prototypes=[5, 5], n_updates_to_stepdrop=10, epoch=150)  \\\n",
       "Batch-1                                           0.548387                                                     \n",
       "Batch-2                                           0.677419                                                     \n",
       "Batch-3                                           0.533333                                                     \n",
       "Batch-4                                           0.566667                                                     \n",
       "Batch-5                                           0.600000                                                     \n",
       "Average                                           0.585161                                                     \n",
       "\n",
       "         Train Acc (min_df=0.3, max_df=1.0, lr=0.5, n_prototypes=[5, 5], n_updates_to_stepdrop=10, epoch=200)  \\\n",
       "Batch-1                                           0.752066                                                      \n",
       "Batch-2                                           0.553719                                                      \n",
       "Batch-3                                           0.860656                                                      \n",
       "Batch-4                                           0.860656                                                      \n",
       "Batch-5                                           0.729508                                                      \n",
       "Average                                           0.751321                                                      \n",
       "\n",
       "         Test Acc (min_df=0.3, max_df=1.0, lr=0.5, n_prototypes=[5, 5], n_updates_to_stepdrop=10, epoch=200)  \n",
       "Batch-1                                           0.806452                                                    \n",
       "Batch-2                                           0.548387                                                    \n",
       "Batch-3                                           0.900000                                                    \n",
       "Batch-4                                           0.900000                                                    \n",
       "Batch-5                                           0.533333                                                    \n",
       "Average                                           0.737634                                                    \n",
       "\n",
       "[6 rows x 6144 columns]"
      ]
     },
     "execution_count": 97,
     "metadata": {},
     "output_type": "execute_result"
    }
   ],
   "source": [
    "eval_history = {}\n",
    "for i in range(NUM_PARAMS):\n",
    "    eval_history[f'Train Acc (min_df={param_combinations[i][0]}, max_df={param_combinations[i][1]}, lr={param_combinations[i][2]}, n_prototypes={param_combinations[i][3]}, n_updates_to_stepdrop={param_combinations[i][4]}, epoch={param_combinations[i][5]})'] = train_history[i] \n",
    "    eval_history[f'Test Acc (min_df={param_combinations[i][0]}, max_df={param_combinations[i][1]}, lr={param_combinations[i][2]}, n_prototypes={param_combinations[i][3]}, n_updates_to_stepdrop={param_combinations[i][4]}, epoch={param_combinations[i][5]})'] = test_history[i]\n",
    "    \n",
    "history_tfidf = pd.DataFrame(eval_history, index=['Batch-1', 'Batch-2', 'Batch-3', \n",
    "                                                  'Batch-4', 'Batch-5', 'Average'])\n",
    "history_tfidf"
   ]
  },
  {
   "cell_type": "code",
   "execution_count": 98,
   "metadata": {},
   "outputs": [
    {
     "data": {
      "text/plain": [
       "'Test Acc (min_df=0.3, max_df=0.8, lr=0.1, n_prototypes=[5, 5], n_updates_to_stepdrop=None, epoch=150)'"
      ]
     },
     "execution_count": 98,
     "metadata": {},
     "output_type": "execute_result"
    }
   ],
   "source": [
    "test_col = [col for col in history_tfidf.columns if col.startswith('Test')]\n",
    "test_col[history_tfidf.loc['Average', test_col].argmax()]"
   ]
  },
  {
   "cell_type": "code",
   "execution_count": 99,
   "metadata": {},
   "outputs": [
    {
     "data": {
      "text/html": [
       "<div>\n",
       "<style scoped>\n",
       "    .dataframe tbody tr th:only-of-type {\n",
       "        vertical-align: middle;\n",
       "    }\n",
       "\n",
       "    .dataframe tbody tr th {\n",
       "        vertical-align: top;\n",
       "    }\n",
       "\n",
       "    .dataframe thead th {\n",
       "        text-align: right;\n",
       "    }\n",
       "</style>\n",
       "<table border=\"1\" class=\"dataframe\">\n",
       "  <thead>\n",
       "    <tr style=\"text-align: right;\">\n",
       "      <th></th>\n",
       "      <th>Train Acc (min_df=0.3, max_df=0.8, lr=0.1, n_prototypes=[5, 5], n_updates_to_stepdrop=None, epoch=150)</th>\n",
       "      <th>Test Acc (min_df=0.3, max_df=0.8, lr=0.1, n_prototypes=[5, 5], n_updates_to_stepdrop=None, epoch=150)</th>\n",
       "    </tr>\n",
       "  </thead>\n",
       "  <tbody>\n",
       "    <tr>\n",
       "      <th>Batch-1</th>\n",
       "      <td>0.851240</td>\n",
       "      <td>1.000000</td>\n",
       "    </tr>\n",
       "    <tr>\n",
       "      <th>Batch-2</th>\n",
       "      <td>0.851240</td>\n",
       "      <td>0.967742</td>\n",
       "    </tr>\n",
       "    <tr>\n",
       "      <th>Batch-3</th>\n",
       "      <td>0.877049</td>\n",
       "      <td>0.933333</td>\n",
       "    </tr>\n",
       "    <tr>\n",
       "      <th>Batch-4</th>\n",
       "      <td>0.877049</td>\n",
       "      <td>0.933333</td>\n",
       "    </tr>\n",
       "    <tr>\n",
       "      <th>Batch-5</th>\n",
       "      <td>0.942623</td>\n",
       "      <td>0.600000</td>\n",
       "    </tr>\n",
       "    <tr>\n",
       "      <th>Average</th>\n",
       "      <td>0.879840</td>\n",
       "      <td>0.886882</td>\n",
       "    </tr>\n",
       "  </tbody>\n",
       "</table>\n",
       "</div>"
      ],
      "text/plain": [
       "         Train Acc (min_df=0.3, max_df=0.8, lr=0.1, n_prototypes=[5, 5], n_updates_to_stepdrop=None, epoch=150)  \\\n",
       "Batch-1                                           0.851240                                                        \n",
       "Batch-2                                           0.851240                                                        \n",
       "Batch-3                                           0.877049                                                        \n",
       "Batch-4                                           0.877049                                                        \n",
       "Batch-5                                           0.942623                                                        \n",
       "Average                                           0.879840                                                        \n",
       "\n",
       "         Test Acc (min_df=0.3, max_df=0.8, lr=0.1, n_prototypes=[5, 5], n_updates_to_stepdrop=None, epoch=150)  \n",
       "Batch-1                                           1.000000                                                      \n",
       "Batch-2                                           0.967742                                                      \n",
       "Batch-3                                           0.933333                                                      \n",
       "Batch-4                                           0.933333                                                      \n",
       "Batch-5                                           0.600000                                                      \n",
       "Average                                           0.886882                                                      "
      ]
     },
     "execution_count": 99,
     "metadata": {},
     "output_type": "execute_result"
    }
   ],
   "source": [
    "history_tfidf[['Train Acc (min_df=0.3, max_df=0.8, lr=0.1, n_prototypes=[5, 5], n_updates_to_stepdrop=None, epoch=150)', 'Test Acc (min_df=0.3, max_df=0.8, lr=0.1, n_prototypes=[5, 5], n_updates_to_stepdrop=None, epoch=150)']]"
   ]
  },
  {
   "cell_type": "markdown",
   "metadata": {},
   "source": [
    "\n",
    "We got <b>the best result</b> from LVQ-2 Model with \n",
    "<b>minimum</b> of word's occurrences is <b>30%</b> of total documents, \n",
    "<b>maximum</b> of word's occurrences is <b>80%</b> of total documents, \n",
    "with using <b>learning rate = 0.1</b> with <b>5 prototypes</b> each class,\n",
    "<b>None epochs to drop learning rate</b>, and <b>epochs = 150</b>,\n",
    "that is: <h3>88.69%</h3>"
   ]
  },
  {
   "cell_type": "markdown",
   "metadata": {},
   "source": [
    "### LVQ-2 +  Information Gain + TF-IDF"
   ]
  },
  {
   "cell_type": "code",
   "execution_count": 14,
   "metadata": {},
   "outputs": [
    {
     "data": {
      "text/plain": [
       "12288"
      ]
     },
     "execution_count": 14,
     "metadata": {},
     "output_type": "execute_result"
    }
   ],
   "source": [
    "min_df = [0.0, .1, .2, .3]\n",
    "max_df = [.5, .6, .7 , .8, .9, 1.0]\n",
    "step = [.1, .5]\n",
    "prototypes_per_class = [[1, 1], [2, 2], [3, 3], [5, 5]]\n",
    "n_updates_to_stepdrop = [None, 3, 5, 10]\n",
    "epochs = [50, 100, 150, 200]\n",
    "ig_tresh = [1e-2, 1e-3, 1e-4, 1e-100]\n",
    "\n",
    "param_combinations = list(product(min_df, max_df, step, prototypes_per_class,\n",
    "                                  n_updates_to_stepdrop, epochs, ig_tresh))\n",
    "len(param_combinations)"
   ]
  },
  {
   "cell_type": "code",
   "execution_count": 15,
   "metadata": {
    "scrolled": true
   },
   "outputs": [
    {
     "name": "stdout",
     "output_type": "stream",
     "text": [
      "===============0===============\n"
     ]
    },
    {
     "name": "stderr",
     "output_type": "stream",
     "text": [
      "                                                                               \r"
     ]
    },
    {
     "name": "stdout",
     "output_type": "stream",
     "text": [
      "1000\n"
     ]
    },
    {
     "name": "stderr",
     "output_type": "stream",
     "text": [
      "                                                                               \r"
     ]
    },
    {
     "name": "stdout",
     "output_type": "stream",
     "text": [
      "2000\n"
     ]
    },
    {
     "name": "stderr",
     "output_type": "stream",
     "text": [
      "                                                                               \r"
     ]
    },
    {
     "name": "stdout",
     "output_type": "stream",
     "text": [
      "3000\n"
     ]
    },
    {
     "name": "stderr",
     "output_type": "stream",
     "text": [
      "                                                                               \r"
     ]
    },
    {
     "name": "stdout",
     "output_type": "stream",
     "text": [
      "4000\n"
     ]
    },
    {
     "name": "stderr",
     "output_type": "stream",
     "text": [
      "                                                                               \r"
     ]
    },
    {
     "name": "stdout",
     "output_type": "stream",
     "text": [
      "5000\n"
     ]
    },
    {
     "name": "stderr",
     "output_type": "stream",
     "text": [
      "                                                                               \r"
     ]
    },
    {
     "name": "stdout",
     "output_type": "stream",
     "text": [
      "6000\n"
     ]
    },
    {
     "name": "stderr",
     "output_type": "stream",
     "text": [
      "                                                                               \r"
     ]
    },
    {
     "name": "stdout",
     "output_type": "stream",
     "text": [
      "7000\n"
     ]
    },
    {
     "name": "stderr",
     "output_type": "stream",
     "text": [
      "                                                                               \r"
     ]
    },
    {
     "name": "stdout",
     "output_type": "stream",
     "text": [
      "8000\n"
     ]
    },
    {
     "name": "stderr",
     "output_type": "stream",
     "text": [
      "                                                                               \r"
     ]
    },
    {
     "name": "stdout",
     "output_type": "stream",
     "text": [
      "9000\n"
     ]
    },
    {
     "name": "stderr",
     "output_type": "stream",
     "text": [
      "                                                                               \r"
     ]
    },
    {
     "name": "stdout",
     "output_type": "stream",
     "text": [
      "10000\n"
     ]
    },
    {
     "name": "stderr",
     "output_type": "stream",
     "text": [
      "                                                                               \r"
     ]
    },
    {
     "name": "stdout",
     "output_type": "stream",
     "text": [
      "11000\n"
     ]
    },
    {
     "name": "stderr",
     "output_type": "stream",
     "text": [
      "                                                                               \r"
     ]
    },
    {
     "name": "stdout",
     "output_type": "stream",
     "text": [
      "12000\n"
     ]
    },
    {
     "name": "stderr",
     "output_type": "stream",
     "text": [
      "                                                                               \r"
     ]
    },
    {
     "name": "stdout",
     "output_type": "stream",
     "text": [
      "===============1===============\n"
     ]
    },
    {
     "name": "stderr",
     "output_type": "stream",
     "text": [
      "                                                                               \r"
     ]
    },
    {
     "name": "stdout",
     "output_type": "stream",
     "text": [
      "13000\n"
     ]
    },
    {
     "name": "stderr",
     "output_type": "stream",
     "text": [
      "                                                                               \r"
     ]
    },
    {
     "name": "stdout",
     "output_type": "stream",
     "text": [
      "14000\n"
     ]
    },
    {
     "name": "stderr",
     "output_type": "stream",
     "text": [
      "                                                                               \r"
     ]
    },
    {
     "name": "stdout",
     "output_type": "stream",
     "text": [
      "15000\n"
     ]
    },
    {
     "name": "stderr",
     "output_type": "stream",
     "text": [
      "                                                                               \r"
     ]
    },
    {
     "name": "stdout",
     "output_type": "stream",
     "text": [
      "16000\n"
     ]
    },
    {
     "name": "stderr",
     "output_type": "stream",
     "text": [
      "                                                                               \r"
     ]
    },
    {
     "name": "stdout",
     "output_type": "stream",
     "text": [
      "17000\n"
     ]
    },
    {
     "name": "stderr",
     "output_type": "stream",
     "text": [
      "                                                                               \r"
     ]
    },
    {
     "name": "stdout",
     "output_type": "stream",
     "text": [
      "18000\n"
     ]
    },
    {
     "name": "stderr",
     "output_type": "stream",
     "text": [
      "                                                                               \r"
     ]
    },
    {
     "name": "stdout",
     "output_type": "stream",
     "text": [
      "19000\n"
     ]
    },
    {
     "name": "stderr",
     "output_type": "stream",
     "text": [
      "                                                                               \r"
     ]
    },
    {
     "name": "stdout",
     "output_type": "stream",
     "text": [
      "20000\n"
     ]
    },
    {
     "name": "stderr",
     "output_type": "stream",
     "text": [
      "                                                                               \r"
     ]
    },
    {
     "name": "stdout",
     "output_type": "stream",
     "text": [
      "21000\n"
     ]
    },
    {
     "name": "stderr",
     "output_type": "stream",
     "text": [
      "                                                                               \r"
     ]
    },
    {
     "name": "stdout",
     "output_type": "stream",
     "text": [
      "22000\n"
     ]
    },
    {
     "name": "stderr",
     "output_type": "stream",
     "text": [
      "                                                                               \r"
     ]
    },
    {
     "name": "stdout",
     "output_type": "stream",
     "text": [
      "23000\n"
     ]
    },
    {
     "name": "stderr",
     "output_type": "stream",
     "text": [
      "                                                                               \r"
     ]
    },
    {
     "name": "stdout",
     "output_type": "stream",
     "text": [
      "24000\n"
     ]
    },
    {
     "name": "stderr",
     "output_type": "stream",
     "text": [
      "                                                                               \r"
     ]
    },
    {
     "name": "stdout",
     "output_type": "stream",
     "text": [
      "===============2===============\n"
     ]
    },
    {
     "name": "stderr",
     "output_type": "stream",
     "text": [
      "                                                                               \r"
     ]
    },
    {
     "name": "stdout",
     "output_type": "stream",
     "text": [
      "25000\n"
     ]
    },
    {
     "name": "stderr",
     "output_type": "stream",
     "text": [
      "                                                                               \r"
     ]
    },
    {
     "name": "stdout",
     "output_type": "stream",
     "text": [
      "26000\n"
     ]
    },
    {
     "name": "stderr",
     "output_type": "stream",
     "text": [
      "                                                                               \r"
     ]
    },
    {
     "name": "stdout",
     "output_type": "stream",
     "text": [
      "27000\n"
     ]
    },
    {
     "name": "stderr",
     "output_type": "stream",
     "text": [
      "                                                                               \r"
     ]
    },
    {
     "name": "stdout",
     "output_type": "stream",
     "text": [
      "28000\n"
     ]
    },
    {
     "name": "stderr",
     "output_type": "stream",
     "text": [
      "                                                                               \r"
     ]
    },
    {
     "name": "stdout",
     "output_type": "stream",
     "text": [
      "29000\n"
     ]
    },
    {
     "name": "stderr",
     "output_type": "stream",
     "text": [
      "                                                                               \r"
     ]
    },
    {
     "name": "stdout",
     "output_type": "stream",
     "text": [
      "30000\n"
     ]
    },
    {
     "name": "stderr",
     "output_type": "stream",
     "text": [
      "                                                                               \r"
     ]
    },
    {
     "name": "stdout",
     "output_type": "stream",
     "text": [
      "31000\n"
     ]
    },
    {
     "name": "stderr",
     "output_type": "stream",
     "text": [
      "                                                                               \r"
     ]
    },
    {
     "name": "stdout",
     "output_type": "stream",
     "text": [
      "32000\n"
     ]
    },
    {
     "name": "stderr",
     "output_type": "stream",
     "text": [
      "                                                                               \r"
     ]
    },
    {
     "name": "stdout",
     "output_type": "stream",
     "text": [
      "33000\n"
     ]
    },
    {
     "name": "stderr",
     "output_type": "stream",
     "text": [
      "                                                                               \r"
     ]
    },
    {
     "name": "stdout",
     "output_type": "stream",
     "text": [
      "34000\n"
     ]
    },
    {
     "name": "stderr",
     "output_type": "stream",
     "text": [
      "                                                                               \r"
     ]
    },
    {
     "name": "stdout",
     "output_type": "stream",
     "text": [
      "35000\n"
     ]
    },
    {
     "name": "stderr",
     "output_type": "stream",
     "text": [
      "                                                                               \r"
     ]
    },
    {
     "name": "stdout",
     "output_type": "stream",
     "text": [
      "36000\n"
     ]
    },
    {
     "name": "stderr",
     "output_type": "stream",
     "text": [
      "                                                                               \r"
     ]
    },
    {
     "name": "stdout",
     "output_type": "stream",
     "text": [
      "===============3===============\n"
     ]
    },
    {
     "name": "stderr",
     "output_type": "stream",
     "text": [
      "                                                                               \r"
     ]
    },
    {
     "name": "stdout",
     "output_type": "stream",
     "text": [
      "37000\n"
     ]
    },
    {
     "name": "stderr",
     "output_type": "stream",
     "text": [
      "                                                                               \r"
     ]
    },
    {
     "name": "stdout",
     "output_type": "stream",
     "text": [
      "38000\n"
     ]
    },
    {
     "name": "stderr",
     "output_type": "stream",
     "text": [
      "                                                                               \r"
     ]
    },
    {
     "name": "stdout",
     "output_type": "stream",
     "text": [
      "39000\n"
     ]
    },
    {
     "name": "stderr",
     "output_type": "stream",
     "text": [
      "                                                                               \r"
     ]
    },
    {
     "name": "stdout",
     "output_type": "stream",
     "text": [
      "40000\n"
     ]
    },
    {
     "name": "stderr",
     "output_type": "stream",
     "text": [
      "                                                                               \r"
     ]
    },
    {
     "name": "stdout",
     "output_type": "stream",
     "text": [
      "41000\n"
     ]
    },
    {
     "name": "stderr",
     "output_type": "stream",
     "text": [
      "                                                                               \r"
     ]
    },
    {
     "name": "stdout",
     "output_type": "stream",
     "text": [
      "42000\n"
     ]
    },
    {
     "name": "stderr",
     "output_type": "stream",
     "text": [
      "                                                                               \r"
     ]
    },
    {
     "name": "stdout",
     "output_type": "stream",
     "text": [
      "43000\n"
     ]
    },
    {
     "name": "stderr",
     "output_type": "stream",
     "text": [
      "                                                                               \r"
     ]
    },
    {
     "name": "stdout",
     "output_type": "stream",
     "text": [
      "44000\n"
     ]
    },
    {
     "name": "stderr",
     "output_type": "stream",
     "text": [
      "                                                                               \r"
     ]
    },
    {
     "name": "stdout",
     "output_type": "stream",
     "text": [
      "45000\n"
     ]
    },
    {
     "name": "stderr",
     "output_type": "stream",
     "text": [
      "                                                                               \r"
     ]
    },
    {
     "name": "stdout",
     "output_type": "stream",
     "text": [
      "46000\n"
     ]
    },
    {
     "name": "stderr",
     "output_type": "stream",
     "text": [
      "                                                                               \r"
     ]
    },
    {
     "name": "stdout",
     "output_type": "stream",
     "text": [
      "47000\n"
     ]
    },
    {
     "name": "stderr",
     "output_type": "stream",
     "text": [
      "                                                                               \r"
     ]
    },
    {
     "name": "stdout",
     "output_type": "stream",
     "text": [
      "48000\n"
     ]
    },
    {
     "name": "stderr",
     "output_type": "stream",
     "text": [
      "                                                                               \r"
     ]
    },
    {
     "name": "stdout",
     "output_type": "stream",
     "text": [
      "49000\n"
     ]
    },
    {
     "name": "stderr",
     "output_type": "stream",
     "text": [
      "                                                                               \r"
     ]
    },
    {
     "name": "stdout",
     "output_type": "stream",
     "text": [
      "===============4===============\n"
     ]
    },
    {
     "name": "stderr",
     "output_type": "stream",
     "text": [
      "                                                                               \r"
     ]
    },
    {
     "name": "stdout",
     "output_type": "stream",
     "text": [
      "50000\n"
     ]
    },
    {
     "name": "stderr",
     "output_type": "stream",
     "text": [
      "                                                                               \r"
     ]
    },
    {
     "name": "stdout",
     "output_type": "stream",
     "text": [
      "51000\n"
     ]
    },
    {
     "name": "stderr",
     "output_type": "stream",
     "text": [
      "                                                                               \r"
     ]
    },
    {
     "name": "stdout",
     "output_type": "stream",
     "text": [
      "52000\n"
     ]
    },
    {
     "name": "stderr",
     "output_type": "stream",
     "text": [
      "                                                                               \r"
     ]
    },
    {
     "name": "stdout",
     "output_type": "stream",
     "text": [
      "53000\n"
     ]
    },
    {
     "name": "stderr",
     "output_type": "stream",
     "text": [
      "                                                                               \r"
     ]
    },
    {
     "name": "stdout",
     "output_type": "stream",
     "text": [
      "54000\n"
     ]
    },
    {
     "name": "stderr",
     "output_type": "stream",
     "text": [
      "                                                                               \r"
     ]
    },
    {
     "name": "stdout",
     "output_type": "stream",
     "text": [
      "55000\n"
     ]
    },
    {
     "name": "stderr",
     "output_type": "stream",
     "text": [
      "                                                                               \r"
     ]
    },
    {
     "name": "stdout",
     "output_type": "stream",
     "text": [
      "56000\n"
     ]
    },
    {
     "name": "stderr",
     "output_type": "stream",
     "text": [
      "                                                                               \r"
     ]
    },
    {
     "name": "stdout",
     "output_type": "stream",
     "text": [
      "57000\n"
     ]
    },
    {
     "name": "stderr",
     "output_type": "stream",
     "text": [
      "                                                                               \r"
     ]
    },
    {
     "name": "stdout",
     "output_type": "stream",
     "text": [
      "58000\n"
     ]
    },
    {
     "name": "stderr",
     "output_type": "stream",
     "text": [
      "                                                                               \r"
     ]
    },
    {
     "name": "stdout",
     "output_type": "stream",
     "text": [
      "59000\n"
     ]
    },
    {
     "name": "stderr",
     "output_type": "stream",
     "text": [
      "                                                                               \r"
     ]
    },
    {
     "name": "stdout",
     "output_type": "stream",
     "text": [
      "60000\n"
     ]
    },
    {
     "name": "stderr",
     "output_type": "stream",
     "text": [
      "                                                                               \r"
     ]
    },
    {
     "name": "stdout",
     "output_type": "stream",
     "text": [
      "61000\n"
     ]
    },
    {
     "name": "stderr",
     "output_type": "stream",
     "text": [
      "                                                                               \r"
     ]
    },
    {
     "name": "stdout",
     "output_type": "stream",
     "text": [
      "Train and evaluate 12288 permutation of model completed\n"
     ]
    },
    {
     "name": "stderr",
     "output_type": "stream",
     "text": [
      "\r",
      "                                                                               \r",
      "\r",
      "                                                                               \r",
      "\r",
      "                                                                               \r",
      "\r",
      "                                                                               \r",
      "\r",
      "                                                                               \r",
      "\r",
      "                                                                               \r",
      "\r",
      "                                                                               \r",
      "\r",
      "                                                                               \r",
      "\r",
      "                                                                               \r",
      "\r",
      "                                                                               \r",
      "\r",
      "                                                                               \r",
      "\r",
      "                                                                               \r",
      "\r",
      "                                                                               \r",
      "\r",
      "                                                                               \r",
      "\r",
      "                                                                               \r"
     ]
    }
   ],
   "source": [
    "NUM_BATCHES = 5\n",
    "features = np.array(clean_comment)\n",
    "labels = np.array(df.polarity)\n",
    "train_eval, test_eval = [], []\n",
    "j = 0\n",
    "\n",
    "for i in range(NUM_BATCHES):\n",
    "\n",
    "    train_idx = np.load(f'dataset/train_{i+1}.npy')\n",
    "    test_idx = np.load(f'dataset/test_{i+1}.npy')\n",
    "    train_labels = labels[train_idx]\n",
    "    test_labels = labels[test_idx]\n",
    "    print(f'==============={i}===============')\n",
    "    \n",
    "    vectorizer = CountVectorizer()\n",
    "    train_count_features = vectorizer.fit_transform(features[train_idx])\n",
    "    test_count_features = vectorizer.transform(features[test_idx])\n",
    "\n",
    "    ig_res = dict(zip(vectorizer.get_feature_names(),\n",
    "                      mutual_info_classif(train_count_features, train_labels, discrete_features=True)\n",
    "                   ))\n",
    "    ig_res = sorted(ig_res.items(), key=lambda x: x[1], reverse=True)\n",
    "    \n",
    "    for param in param_combinations:\n",
    "        below_tresh = [ig[0] for ig in ig_res if ig[1] < param[-1]]\n",
    "        new_features = remove_token(below_tresh, features)\n",
    "        \n",
    "        tfidf_vectorizer = TfidfVectorizer(min_df=param[0], max_df=param[1])\n",
    "        train_features = tfidf_vectorizer.fit_transform(new_features[train_idx]).toarray()\n",
    "        test_features = tfidf_vectorizer.transform(new_features[test_idx]).toarray()\n",
    "        j += 1\n",
    "        if j%1000==0:\n",
    "            print(j)\n",
    "            \n",
    "        # train and evaluate\n",
    "        clf = LVQ2(n_inputs=train_features.shape[1], n_classes=2, step=param[2],\n",
    "                   n_subclasses = sum(param[3]), prototypes_per_class=param[3],\n",
    "                   n_updates_to_stepdrop=param[4]*train_features.shape[0] if param[4]!=None else None)\n",
    "        clf.train(train_features, train_labels, epochs=param[5])\n",
    "        train_acc = compute_score(train_labels, clf.predict(train_features))\n",
    "        test_acc = compute_score(test_labels, clf.predict(test_features))\n",
    "\n",
    "        train_eval.append(train_acc)\n",
    "        test_eval.append(test_acc)\n",
    "        \n",
    "print(f'Train and evaluate {len(param_combinations)} permutation of model completed')"
   ]
  },
  {
   "cell_type": "code",
   "execution_count": 15,
   "metadata": {},
   "outputs": [
    {
     "data": {
      "text/plain": [
       "61440"
      ]
     },
     "execution_count": 15,
     "metadata": {},
     "output_type": "execute_result"
    }
   ],
   "source": [
    "len(param_combinations)*5"
   ]
  },
  {
   "cell_type": "code",
   "execution_count": 16,
   "metadata": {},
   "outputs": [
    {
     "name": "stdout",
     "output_type": "stream",
     "text": [
      "Done\n"
     ]
    }
   ],
   "source": [
    "NUM_PARAMS = len(param_combinations)\n",
    "train_history = [[] for i in range(NUM_PARAMS)]\n",
    "test_history = [[] for i in range(NUM_PARAMS)]\n",
    "\n",
    "for i in range(len(train_eval)):\n",
    "    idx = i % NUM_PARAMS\n",
    "    train_history[idx].append(train_eval[i])\n",
    "    test_history[idx].append(test_eval[i])\n",
    "\n",
    "# append the average accuracy\n",
    "for i in range(NUM_PARAMS):\n",
    "    train_history[i].append(sum(train_history[i])/NUM_BATCHES)\n",
    "    test_history[i].append(sum(test_history[i])/NUM_BATCHES)\n",
    "\n",
    "if len(train_history[-1]) == NUM_BATCHES+1:\n",
    "    print('Done')"
   ]
  },
  {
   "cell_type": "code",
   "execution_count": 17,
   "metadata": {},
   "outputs": [
    {
     "data": {
      "text/html": [
       "<div>\n",
       "<style scoped>\n",
       "    .dataframe tbody tr th:only-of-type {\n",
       "        vertical-align: middle;\n",
       "    }\n",
       "\n",
       "    .dataframe tbody tr th {\n",
       "        vertical-align: top;\n",
       "    }\n",
       "\n",
       "    .dataframe thead th {\n",
       "        text-align: right;\n",
       "    }\n",
       "</style>\n",
       "<table border=\"1\" class=\"dataframe\">\n",
       "  <thead>\n",
       "    <tr style=\"text-align: right;\">\n",
       "      <th></th>\n",
       "      <th>Train Acc (min_df=0.0, max_df=0.5, lr=0.1, n_prototypes=[1, 1], n_updates_to_stepdrop=None, epoch=50, tresh=0.01)</th>\n",
       "      <th>Test Acc (min_df=0.0, max_df=0.5, lr=0.1, n_prototypes=[1, 1], n_updates_to_stepdrop=None, epoch=50, tresh=0.01)</th>\n",
       "      <th>Train Acc (min_df=0.0, max_df=0.5, lr=0.1, n_prototypes=[1, 1], n_updates_to_stepdrop=None, epoch=50, tresh=0.001)</th>\n",
       "      <th>Test Acc (min_df=0.0, max_df=0.5, lr=0.1, n_prototypes=[1, 1], n_updates_to_stepdrop=None, epoch=50, tresh=0.001)</th>\n",
       "      <th>Train Acc (min_df=0.0, max_df=0.5, lr=0.1, n_prototypes=[1, 1], n_updates_to_stepdrop=None, epoch=50, tresh=0.0001)</th>\n",
       "      <th>Test Acc (min_df=0.0, max_df=0.5, lr=0.1, n_prototypes=[1, 1], n_updates_to_stepdrop=None, epoch=50, tresh=0.0001)</th>\n",
       "      <th>Train Acc (min_df=0.0, max_df=0.5, lr=0.1, n_prototypes=[1, 1], n_updates_to_stepdrop=None, epoch=50, tresh=1e-100)</th>\n",
       "      <th>Test Acc (min_df=0.0, max_df=0.5, lr=0.1, n_prototypes=[1, 1], n_updates_to_stepdrop=None, epoch=50, tresh=1e-100)</th>\n",
       "      <th>Train Acc (min_df=0.0, max_df=0.5, lr=0.1, n_prototypes=[1, 1], n_updates_to_stepdrop=None, epoch=100, tresh=0.01)</th>\n",
       "      <th>Test Acc (min_df=0.0, max_df=0.5, lr=0.1, n_prototypes=[1, 1], n_updates_to_stepdrop=None, epoch=100, tresh=0.01)</th>\n",
       "      <th>...</th>\n",
       "      <th>Train Acc (min_df=0.3, max_df=1.0, lr=0.5, n_prototypes=[5, 5], n_updates_to_stepdrop=10, epoch=150, tresh=1e-100)</th>\n",
       "      <th>Test Acc (min_df=0.3, max_df=1.0, lr=0.5, n_prototypes=[5, 5], n_updates_to_stepdrop=10, epoch=150, tresh=1e-100)</th>\n",
       "      <th>Train Acc (min_df=0.3, max_df=1.0, lr=0.5, n_prototypes=[5, 5], n_updates_to_stepdrop=10, epoch=200, tresh=0.01)</th>\n",
       "      <th>Test Acc (min_df=0.3, max_df=1.0, lr=0.5, n_prototypes=[5, 5], n_updates_to_stepdrop=10, epoch=200, tresh=0.01)</th>\n",
       "      <th>Train Acc (min_df=0.3, max_df=1.0, lr=0.5, n_prototypes=[5, 5], n_updates_to_stepdrop=10, epoch=200, tresh=0.001)</th>\n",
       "      <th>Test Acc (min_df=0.3, max_df=1.0, lr=0.5, n_prototypes=[5, 5], n_updates_to_stepdrop=10, epoch=200, tresh=0.001)</th>\n",
       "      <th>Train Acc (min_df=0.3, max_df=1.0, lr=0.5, n_prototypes=[5, 5], n_updates_to_stepdrop=10, epoch=200, tresh=0.0001)</th>\n",
       "      <th>Test Acc (min_df=0.3, max_df=1.0, lr=0.5, n_prototypes=[5, 5], n_updates_to_stepdrop=10, epoch=200, tresh=0.0001)</th>\n",
       "      <th>Train Acc (min_df=0.3, max_df=1.0, lr=0.5, n_prototypes=[5, 5], n_updates_to_stepdrop=10, epoch=200, tresh=1e-100)</th>\n",
       "      <th>Test Acc (min_df=0.3, max_df=1.0, lr=0.5, n_prototypes=[5, 5], n_updates_to_stepdrop=10, epoch=200, tresh=1e-100)</th>\n",
       "    </tr>\n",
       "  </thead>\n",
       "  <tbody>\n",
       "    <tr>\n",
       "      <th>Batch-1</th>\n",
       "      <td>0.834711</td>\n",
       "      <td>0.645161</td>\n",
       "      <td>0.900826</td>\n",
       "      <td>0.612903</td>\n",
       "      <td>0.884298</td>\n",
       "      <td>0.580645</td>\n",
       "      <td>0.826446</td>\n",
       "      <td>0.612903</td>\n",
       "      <td>0.834711</td>\n",
       "      <td>0.645161</td>\n",
       "      <td>...</td>\n",
       "      <td>0.553719</td>\n",
       "      <td>0.548387</td>\n",
       "      <td>0.553719</td>\n",
       "      <td>0.548387</td>\n",
       "      <td>0.553719</td>\n",
       "      <td>0.548387</td>\n",
       "      <td>0.553719</td>\n",
       "      <td>0.548387</td>\n",
       "      <td>0.553719</td>\n",
       "      <td>0.548387</td>\n",
       "    </tr>\n",
       "    <tr>\n",
       "      <th>Batch-2</th>\n",
       "      <td>0.826446</td>\n",
       "      <td>0.612903</td>\n",
       "      <td>0.826446</td>\n",
       "      <td>0.709677</td>\n",
       "      <td>0.834711</td>\n",
       "      <td>0.741935</td>\n",
       "      <td>0.867769</td>\n",
       "      <td>0.741935</td>\n",
       "      <td>0.826446</td>\n",
       "      <td>0.612903</td>\n",
       "      <td>...</td>\n",
       "      <td>0.553719</td>\n",
       "      <td>0.548387</td>\n",
       "      <td>0.661157</td>\n",
       "      <td>0.677419</td>\n",
       "      <td>0.661157</td>\n",
       "      <td>0.677419</td>\n",
       "      <td>0.553719</td>\n",
       "      <td>0.548387</td>\n",
       "      <td>0.553719</td>\n",
       "      <td>0.548387</td>\n",
       "    </tr>\n",
       "    <tr>\n",
       "      <th>Batch-3</th>\n",
       "      <td>0.762295</td>\n",
       "      <td>0.633333</td>\n",
       "      <td>0.852459</td>\n",
       "      <td>0.633333</td>\n",
       "      <td>0.836066</td>\n",
       "      <td>0.666667</td>\n",
       "      <td>0.836066</td>\n",
       "      <td>0.666667</td>\n",
       "      <td>0.754098</td>\n",
       "      <td>0.633333</td>\n",
       "      <td>...</td>\n",
       "      <td>0.557377</td>\n",
       "      <td>0.533333</td>\n",
       "      <td>0.557377</td>\n",
       "      <td>0.533333</td>\n",
       "      <td>0.557377</td>\n",
       "      <td>0.533333</td>\n",
       "      <td>0.844262</td>\n",
       "      <td>0.900000</td>\n",
       "      <td>0.557377</td>\n",
       "      <td>0.533333</td>\n",
       "    </tr>\n",
       "    <tr>\n",
       "      <th>Batch-4</th>\n",
       "      <td>0.852459</td>\n",
       "      <td>0.700000</td>\n",
       "      <td>0.795082</td>\n",
       "      <td>0.633333</td>\n",
       "      <td>0.819672</td>\n",
       "      <td>0.566667</td>\n",
       "      <td>0.795082</td>\n",
       "      <td>0.700000</td>\n",
       "      <td>0.852459</td>\n",
       "      <td>0.700000</td>\n",
       "      <td>...</td>\n",
       "      <td>0.844262</td>\n",
       "      <td>0.833333</td>\n",
       "      <td>0.852459</td>\n",
       "      <td>0.900000</td>\n",
       "      <td>0.827869</td>\n",
       "      <td>0.800000</td>\n",
       "      <td>0.877049</td>\n",
       "      <td>0.900000</td>\n",
       "      <td>0.549180</td>\n",
       "      <td>0.566667</td>\n",
       "    </tr>\n",
       "    <tr>\n",
       "      <th>Batch-5</th>\n",
       "      <td>0.877049</td>\n",
       "      <td>0.600000</td>\n",
       "      <td>0.819672</td>\n",
       "      <td>0.633333</td>\n",
       "      <td>0.811475</td>\n",
       "      <td>0.633333</td>\n",
       "      <td>0.737705</td>\n",
       "      <td>0.566667</td>\n",
       "      <td>0.877049</td>\n",
       "      <td>0.600000</td>\n",
       "      <td>...</td>\n",
       "      <td>0.909836</td>\n",
       "      <td>0.600000</td>\n",
       "      <td>0.811475</td>\n",
       "      <td>0.500000</td>\n",
       "      <td>0.934426</td>\n",
       "      <td>0.566667</td>\n",
       "      <td>0.950820</td>\n",
       "      <td>0.600000</td>\n",
       "      <td>0.934426</td>\n",
       "      <td>0.566667</td>\n",
       "    </tr>\n",
       "    <tr>\n",
       "      <th>Average</th>\n",
       "      <td>0.830592</td>\n",
       "      <td>0.638280</td>\n",
       "      <td>0.838897</td>\n",
       "      <td>0.644516</td>\n",
       "      <td>0.837244</td>\n",
       "      <td>0.637849</td>\n",
       "      <td>0.812613</td>\n",
       "      <td>0.657634</td>\n",
       "      <td>0.828953</td>\n",
       "      <td>0.638280</td>\n",
       "      <td>...</td>\n",
       "      <td>0.683783</td>\n",
       "      <td>0.612688</td>\n",
       "      <td>0.687238</td>\n",
       "      <td>0.631828</td>\n",
       "      <td>0.706910</td>\n",
       "      <td>0.625161</td>\n",
       "      <td>0.755914</td>\n",
       "      <td>0.699355</td>\n",
       "      <td>0.629684</td>\n",
       "      <td>0.552688</td>\n",
       "    </tr>\n",
       "  </tbody>\n",
       "</table>\n",
       "<p>6 rows × 24576 columns</p>\n",
       "</div>"
      ],
      "text/plain": [
       "         Train Acc (min_df=0.0, max_df=0.5, lr=0.1, n_prototypes=[1, 1], n_updates_to_stepdrop=None, epoch=50, tresh=0.01)  \\\n",
       "Batch-1                                           0.834711                                                                   \n",
       "Batch-2                                           0.826446                                                                   \n",
       "Batch-3                                           0.762295                                                                   \n",
       "Batch-4                                           0.852459                                                                   \n",
       "Batch-5                                           0.877049                                                                   \n",
       "Average                                           0.830592                                                                   \n",
       "\n",
       "         Test Acc (min_df=0.0, max_df=0.5, lr=0.1, n_prototypes=[1, 1], n_updates_to_stepdrop=None, epoch=50, tresh=0.01)  \\\n",
       "Batch-1                                           0.645161                                                                  \n",
       "Batch-2                                           0.612903                                                                  \n",
       "Batch-3                                           0.633333                                                                  \n",
       "Batch-4                                           0.700000                                                                  \n",
       "Batch-5                                           0.600000                                                                  \n",
       "Average                                           0.638280                                                                  \n",
       "\n",
       "         Train Acc (min_df=0.0, max_df=0.5, lr=0.1, n_prototypes=[1, 1], n_updates_to_stepdrop=None, epoch=50, tresh=0.001)  \\\n",
       "Batch-1                                           0.900826                                                                    \n",
       "Batch-2                                           0.826446                                                                    \n",
       "Batch-3                                           0.852459                                                                    \n",
       "Batch-4                                           0.795082                                                                    \n",
       "Batch-5                                           0.819672                                                                    \n",
       "Average                                           0.838897                                                                    \n",
       "\n",
       "         Test Acc (min_df=0.0, max_df=0.5, lr=0.1, n_prototypes=[1, 1], n_updates_to_stepdrop=None, epoch=50, tresh=0.001)  \\\n",
       "Batch-1                                           0.612903                                                                   \n",
       "Batch-2                                           0.709677                                                                   \n",
       "Batch-3                                           0.633333                                                                   \n",
       "Batch-4                                           0.633333                                                                   \n",
       "Batch-5                                           0.633333                                                                   \n",
       "Average                                           0.644516                                                                   \n",
       "\n",
       "         Train Acc (min_df=0.0, max_df=0.5, lr=0.1, n_prototypes=[1, 1], n_updates_to_stepdrop=None, epoch=50, tresh=0.0001)  \\\n",
       "Batch-1                                           0.884298                                                                     \n",
       "Batch-2                                           0.834711                                                                     \n",
       "Batch-3                                           0.836066                                                                     \n",
       "Batch-4                                           0.819672                                                                     \n",
       "Batch-5                                           0.811475                                                                     \n",
       "Average                                           0.837244                                                                     \n",
       "\n",
       "         Test Acc (min_df=0.0, max_df=0.5, lr=0.1, n_prototypes=[1, 1], n_updates_to_stepdrop=None, epoch=50, tresh=0.0001)  \\\n",
       "Batch-1                                           0.580645                                                                    \n",
       "Batch-2                                           0.741935                                                                    \n",
       "Batch-3                                           0.666667                                                                    \n",
       "Batch-4                                           0.566667                                                                    \n",
       "Batch-5                                           0.633333                                                                    \n",
       "Average                                           0.637849                                                                    \n",
       "\n",
       "         Train Acc (min_df=0.0, max_df=0.5, lr=0.1, n_prototypes=[1, 1], n_updates_to_stepdrop=None, epoch=50, tresh=1e-100)  \\\n",
       "Batch-1                                           0.826446                                                                     \n",
       "Batch-2                                           0.867769                                                                     \n",
       "Batch-3                                           0.836066                                                                     \n",
       "Batch-4                                           0.795082                                                                     \n",
       "Batch-5                                           0.737705                                                                     \n",
       "Average                                           0.812613                                                                     \n",
       "\n",
       "         Test Acc (min_df=0.0, max_df=0.5, lr=0.1, n_prototypes=[1, 1], n_updates_to_stepdrop=None, epoch=50, tresh=1e-100)  \\\n",
       "Batch-1                                           0.612903                                                                    \n",
       "Batch-2                                           0.741935                                                                    \n",
       "Batch-3                                           0.666667                                                                    \n",
       "Batch-4                                           0.700000                                                                    \n",
       "Batch-5                                           0.566667                                                                    \n",
       "Average                                           0.657634                                                                    \n",
       "\n",
       "         Train Acc (min_df=0.0, max_df=0.5, lr=0.1, n_prototypes=[1, 1], n_updates_to_stepdrop=None, epoch=100, tresh=0.01)  \\\n",
       "Batch-1                                           0.834711                                                                    \n",
       "Batch-2                                           0.826446                                                                    \n",
       "Batch-3                                           0.754098                                                                    \n",
       "Batch-4                                           0.852459                                                                    \n",
       "Batch-5                                           0.877049                                                                    \n",
       "Average                                           0.828953                                                                    \n",
       "\n",
       "         Test Acc (min_df=0.0, max_df=0.5, lr=0.1, n_prototypes=[1, 1], n_updates_to_stepdrop=None, epoch=100, tresh=0.01)  \\\n",
       "Batch-1                                           0.645161                                                                   \n",
       "Batch-2                                           0.612903                                                                   \n",
       "Batch-3                                           0.633333                                                                   \n",
       "Batch-4                                           0.700000                                                                   \n",
       "Batch-5                                           0.600000                                                                   \n",
       "Average                                           0.638280                                                                   \n",
       "\n",
       "         ...  \\\n",
       "Batch-1  ...   \n",
       "Batch-2  ...   \n",
       "Batch-3  ...   \n",
       "Batch-4  ...   \n",
       "Batch-5  ...   \n",
       "Average  ...   \n",
       "\n",
       "         Train Acc (min_df=0.3, max_df=1.0, lr=0.5, n_prototypes=[5, 5], n_updates_to_stepdrop=10, epoch=150, tresh=1e-100)  \\\n",
       "Batch-1                                           0.553719                                                                    \n",
       "Batch-2                                           0.553719                                                                    \n",
       "Batch-3                                           0.557377                                                                    \n",
       "Batch-4                                           0.844262                                                                    \n",
       "Batch-5                                           0.909836                                                                    \n",
       "Average                                           0.683783                                                                    \n",
       "\n",
       "         Test Acc (min_df=0.3, max_df=1.0, lr=0.5, n_prototypes=[5, 5], n_updates_to_stepdrop=10, epoch=150, tresh=1e-100)  \\\n",
       "Batch-1                                           0.548387                                                                   \n",
       "Batch-2                                           0.548387                                                                   \n",
       "Batch-3                                           0.533333                                                                   \n",
       "Batch-4                                           0.833333                                                                   \n",
       "Batch-5                                           0.600000                                                                   \n",
       "Average                                           0.612688                                                                   \n",
       "\n",
       "         Train Acc (min_df=0.3, max_df=1.0, lr=0.5, n_prototypes=[5, 5], n_updates_to_stepdrop=10, epoch=200, tresh=0.01)  \\\n",
       "Batch-1                                           0.553719                                                                  \n",
       "Batch-2                                           0.661157                                                                  \n",
       "Batch-3                                           0.557377                                                                  \n",
       "Batch-4                                           0.852459                                                                  \n",
       "Batch-5                                           0.811475                                                                  \n",
       "Average                                           0.687238                                                                  \n",
       "\n",
       "         Test Acc (min_df=0.3, max_df=1.0, lr=0.5, n_prototypes=[5, 5], n_updates_to_stepdrop=10, epoch=200, tresh=0.01)  \\\n",
       "Batch-1                                           0.548387                                                                 \n",
       "Batch-2                                           0.677419                                                                 \n",
       "Batch-3                                           0.533333                                                                 \n",
       "Batch-4                                           0.900000                                                                 \n",
       "Batch-5                                           0.500000                                                                 \n",
       "Average                                           0.631828                                                                 \n",
       "\n",
       "         Train Acc (min_df=0.3, max_df=1.0, lr=0.5, n_prototypes=[5, 5], n_updates_to_stepdrop=10, epoch=200, tresh=0.001)  \\\n",
       "Batch-1                                           0.553719                                                                   \n",
       "Batch-2                                           0.661157                                                                   \n",
       "Batch-3                                           0.557377                                                                   \n",
       "Batch-4                                           0.827869                                                                   \n",
       "Batch-5                                           0.934426                                                                   \n",
       "Average                                           0.706910                                                                   \n",
       "\n",
       "         Test Acc (min_df=0.3, max_df=1.0, lr=0.5, n_prototypes=[5, 5], n_updates_to_stepdrop=10, epoch=200, tresh=0.001)  \\\n",
       "Batch-1                                           0.548387                                                                  \n",
       "Batch-2                                           0.677419                                                                  \n",
       "Batch-3                                           0.533333                                                                  \n",
       "Batch-4                                           0.800000                                                                  \n",
       "Batch-5                                           0.566667                                                                  \n",
       "Average                                           0.625161                                                                  \n",
       "\n",
       "         Train Acc (min_df=0.3, max_df=1.0, lr=0.5, n_prototypes=[5, 5], n_updates_to_stepdrop=10, epoch=200, tresh=0.0001)  \\\n",
       "Batch-1                                           0.553719                                                                    \n",
       "Batch-2                                           0.553719                                                                    \n",
       "Batch-3                                           0.844262                                                                    \n",
       "Batch-4                                           0.877049                                                                    \n",
       "Batch-5                                           0.950820                                                                    \n",
       "Average                                           0.755914                                                                    \n",
       "\n",
       "         Test Acc (min_df=0.3, max_df=1.0, lr=0.5, n_prototypes=[5, 5], n_updates_to_stepdrop=10, epoch=200, tresh=0.0001)  \\\n",
       "Batch-1                                           0.548387                                                                   \n",
       "Batch-2                                           0.548387                                                                   \n",
       "Batch-3                                           0.900000                                                                   \n",
       "Batch-4                                           0.900000                                                                   \n",
       "Batch-5                                           0.600000                                                                   \n",
       "Average                                           0.699355                                                                   \n",
       "\n",
       "         Train Acc (min_df=0.3, max_df=1.0, lr=0.5, n_prototypes=[5, 5], n_updates_to_stepdrop=10, epoch=200, tresh=1e-100)  \\\n",
       "Batch-1                                           0.553719                                                                    \n",
       "Batch-2                                           0.553719                                                                    \n",
       "Batch-3                                           0.557377                                                                    \n",
       "Batch-4                                           0.549180                                                                    \n",
       "Batch-5                                           0.934426                                                                    \n",
       "Average                                           0.629684                                                                    \n",
       "\n",
       "         Test Acc (min_df=0.3, max_df=1.0, lr=0.5, n_prototypes=[5, 5], n_updates_to_stepdrop=10, epoch=200, tresh=1e-100)  \n",
       "Batch-1                                           0.548387                                                                  \n",
       "Batch-2                                           0.548387                                                                  \n",
       "Batch-3                                           0.533333                                                                  \n",
       "Batch-4                                           0.566667                                                                  \n",
       "Batch-5                                           0.566667                                                                  \n",
       "Average                                           0.552688                                                                  \n",
       "\n",
       "[6 rows x 24576 columns]"
      ]
     },
     "execution_count": 17,
     "metadata": {},
     "output_type": "execute_result"
    }
   ],
   "source": [
    "eval_history = {}\n",
    "for i in range(NUM_PARAMS):\n",
    "    eval_history[f'Train Acc (min_df={param_combinations[i][0]}, max_df={param_combinations[i][1]}, lr={param_combinations[i][2]}, n_prototypes={param_combinations[i][3]}, n_updates_to_stepdrop={param_combinations[i][4]}, epoch={param_combinations[i][5]}, tresh={param_combinations[i][-1]})'] = train_history[i] \n",
    "    eval_history[f'Test Acc (min_df={param_combinations[i][0]}, max_df={param_combinations[i][1]}, lr={param_combinations[i][2]}, n_prototypes={param_combinations[i][3]}, n_updates_to_stepdrop={param_combinations[i][4]}, epoch={param_combinations[i][5]}, tresh={param_combinations[i][-1]})'] = test_history[i]\n",
    "       \n",
    "history_ig_tfidf = pd.DataFrame(eval_history, index=['Batch-1', 'Batch-2', 'Batch-3', \n",
    "                                                  'Batch-4', 'Batch-5', 'Average'])\n",
    "history_ig_tfidf"
   ]
  },
  {
   "cell_type": "code",
   "execution_count": 18,
   "metadata": {},
   "outputs": [
    {
     "data": {
      "text/plain": [
       "'Test Acc (min_df=0.3, max_df=1.0, lr=0.1, n_prototypes=[3, 3], n_updates_to_stepdrop=10, epoch=100, tresh=0.01)'"
      ]
     },
     "execution_count": 18,
     "metadata": {},
     "output_type": "execute_result"
    }
   ],
   "source": [
    "test_col = [col for col in history_ig_tfidf.columns if col.startswith('Test')]\n",
    "test_col[history_ig_tfidf.loc['Average', test_col].argmax()]\n"
   ]
  },
  {
   "cell_type": "code",
   "execution_count": 19,
   "metadata": {
    "scrolled": true
   },
   "outputs": [
    {
     "data": {
      "text/html": [
       "<div>\n",
       "<style scoped>\n",
       "    .dataframe tbody tr th:only-of-type {\n",
       "        vertical-align: middle;\n",
       "    }\n",
       "\n",
       "    .dataframe tbody tr th {\n",
       "        vertical-align: top;\n",
       "    }\n",
       "\n",
       "    .dataframe thead th {\n",
       "        text-align: right;\n",
       "    }\n",
       "</style>\n",
       "<table border=\"1\" class=\"dataframe\">\n",
       "  <thead>\n",
       "    <tr style=\"text-align: right;\">\n",
       "      <th></th>\n",
       "      <th>Train Acc (min_df=0.3, max_df=1.0, lr=0.1, n_prototypes=[3, 3], n_updates_to_stepdrop=10, epoch=100, tresh=0.01)</th>\n",
       "      <th>Test Acc (min_df=0.3, max_df=1.0, lr=0.1, n_prototypes=[3, 3], n_updates_to_stepdrop=10, epoch=100, tresh=0.01)</th>\n",
       "    </tr>\n",
       "  </thead>\n",
       "  <tbody>\n",
       "    <tr>\n",
       "      <th>Batch-1</th>\n",
       "      <td>0.834711</td>\n",
       "      <td>1.000000</td>\n",
       "    </tr>\n",
       "    <tr>\n",
       "      <th>Batch-2</th>\n",
       "      <td>0.851240</td>\n",
       "      <td>1.000000</td>\n",
       "    </tr>\n",
       "    <tr>\n",
       "      <th>Batch-3</th>\n",
       "      <td>0.844262</td>\n",
       "      <td>0.933333</td>\n",
       "    </tr>\n",
       "    <tr>\n",
       "      <th>Batch-4</th>\n",
       "      <td>0.852459</td>\n",
       "      <td>0.866667</td>\n",
       "    </tr>\n",
       "    <tr>\n",
       "      <th>Batch-5</th>\n",
       "      <td>0.950820</td>\n",
       "      <td>0.633333</td>\n",
       "    </tr>\n",
       "    <tr>\n",
       "      <th>Average</th>\n",
       "      <td>0.866698</td>\n",
       "      <td>0.886667</td>\n",
       "    </tr>\n",
       "  </tbody>\n",
       "</table>\n",
       "</div>"
      ],
      "text/plain": [
       "         Train Acc (min_df=0.3, max_df=1.0, lr=0.1, n_prototypes=[3, 3], n_updates_to_stepdrop=10, epoch=100, tresh=0.01)  \\\n",
       "Batch-1                                           0.834711                                                                  \n",
       "Batch-2                                           0.851240                                                                  \n",
       "Batch-3                                           0.844262                                                                  \n",
       "Batch-4                                           0.852459                                                                  \n",
       "Batch-5                                           0.950820                                                                  \n",
       "Average                                           0.866698                                                                  \n",
       "\n",
       "         Test Acc (min_df=0.3, max_df=1.0, lr=0.1, n_prototypes=[3, 3], n_updates_to_stepdrop=10, epoch=100, tresh=0.01)  \n",
       "Batch-1                                           1.000000                                                                \n",
       "Batch-2                                           1.000000                                                                \n",
       "Batch-3                                           0.933333                                                                \n",
       "Batch-4                                           0.866667                                                                \n",
       "Batch-5                                           0.633333                                                                \n",
       "Average                                           0.886667                                                                "
      ]
     },
     "execution_count": 19,
     "metadata": {},
     "output_type": "execute_result"
    }
   ],
   "source": [
    "history_ig_tfidf[['Train Acc (min_df=0.3, max_df=1.0, lr=0.1, n_prototypes=[3, 3], n_updates_to_stepdrop=10, epoch=100, tresh=0.01)', 'Test Acc (min_df=0.3, max_df=1.0, lr=0.1, n_prototypes=[3, 3], n_updates_to_stepdrop=10, epoch=100, tresh=0.01)']]"
   ]
  },
  {
   "cell_type": "markdown",
   "metadata": {},
   "source": [
    "We got <b>the best result</b> from LVQ-2 Model with \n",
    "<b>information gain</b> as feature selection with <b>treshold = 0.01</b>,\n",
    "and another parameter from TF-IDF such as \n",
    "<b>minimum</b> of word's occurrences is <b>30%</b> of total documents, \n",
    "<b>maximum</b> of word's occurrences is <b>100%</b> of total documents, \n",
    "with using <b>learning rate = 0.1</b> with <b>3 prototypes</b> each class,\n",
    "<b>10 epochs to drop learning rate</b>, and <b>epochs = 100</b>,\n",
    "that is: <h3>88.67%</h3>"
   ]
  },
  {
   "cell_type": "markdown",
   "metadata": {},
   "source": [
    "### LVQ-2 +  Chi Square + TF-IDF"
   ]
  },
  {
   "cell_type": "code",
   "execution_count": 147,
   "metadata": {},
   "outputs": [
    {
     "data": {
      "text/plain": [
       "[((1, 1), 0.0, 0.5, 'linear', 0.001, 0.0),\n",
       " ((1, 1), 0.0, 0.5, 'linear', 0.001, 0.6),\n",
       " ((1, 1), 0.0, 0.5, 'linear', 0.001, 0.7)]"
      ]
     },
     "execution_count": 147,
     "metadata": {},
     "output_type": "execute_result"
    }
   ],
   "source": [
    "min_df = [0.0, .1, .2, .3]\n",
    "max_df = [.5, .6, .7 , .8, .9, 1.0]\n",
    "step = [.1, .5]\n",
    "prototypes_per_class = [[1, 1], [2, 2], [3, 3], [5, 5]]\n",
    "n_updates_to_stepdrop = [None, 3, 5, 10]\n",
    "epochs = [50, 100, 150, 200]\n",
    "confidence_interval_list = [0.0, .6, .7, .8, .9, .95]\n",
    "\n",
    "param_combinations = list(product(min_df, max_df, step, prototypes_per_class,\n",
    "                                  n_updates_to_stepdrop, epochs, confidence_interval_list))\n",
    "len(param_combinations)\n"
   ]
  },
  {
   "cell_type": "code",
   "execution_count": 148,
   "metadata": {},
   "outputs": [
    {
     "name": "stdout",
     "output_type": "stream",
     "text": [
      "0\n",
      "1\n",
      "2\n",
      "3\n",
      "4\n",
      "Train and evaluate 354240 permutation of model completed\n"
     ]
    }
   ],
   "source": [
    "NUM_BATCHES = 5\n",
    "features = np.array(clean_comment)\n",
    "labels = np.array(df.polarity)\n",
    "train_eval, test_eval = [], []\n",
    "\n",
    "for i in range(NUM_BATCHES):\n",
    "\n",
    "    train_idx = np.load(f'dataset/train_{i+1}.npy')\n",
    "    test_idx = np.load(f'dataset/test_{i+1}.npy')\n",
    "    train_labels = labels[train_idx]\n",
    "    test_labels = labels[test_idx]\n",
    "    \n",
    "    vectorizer = CountVectorizer()\n",
    "    train_count_features = vectorizer.fit_transform(features[train_idx])\n",
    "    test_count_features = vectorizer.transform(features[test_idx])\n",
    "\n",
    "    chi2_val, p_val = chi2(train_count_features, train_labels)\n",
    "    chi2_res = list(zip(vectorizer.get_feature_names(), chi2_val, p_val))\n",
    "    print(i)\n",
    "    \n",
    "    for param in param_combinations:\n",
    "        # if p-value > alpha, then accept H0 (independent)\n",
    "        alpha = 1.0 - param[-1]\n",
    "        below_tresh = [word[0] for word in chi2_res if word[2] > alpha]\n",
    "        new_features = remove_token(below_tresh, features)\n",
    "        \n",
    "        tfidf_vectorizer = TfidfVectorizer(min_df=param[0], max_df=param[1])\n",
    "        train_features = tfidf_vectorizer.fit_transform(new_features[train_idx])\n",
    "        test_features = tfidf_vectorizer.transform(new_features[test_idx])\n",
    "        \n",
    "        # train and evaluate\n",
    "        clf = LVQ2(n_inputs=train_features.shape[1], n_classes=2, step=param[2],\n",
    "                   n_subclasses = sum(param[3]), prototypes_per_class=param[3],\n",
    "                   n_updates_to_stepdrop=param[4]*train_features.shape[0] if param[4]!=None else None)\n",
    "        clf.train(train_features, train_labels, epochs=param[5])\n",
    "        train_acc = compute_score(train_labels, clf.predict(train_features))\n",
    "        test_acc = compute_score(test_labels, clf.predict(test_features))\n",
    "\n",
    "        train_eval.append(train_acc)\n",
    "        test_eval.append(test_acc)\n",
    "        \n",
    "print(f'Train and evaluate {len(param_combinations)} permutation of model completed')"
   ]
  },
  {
   "cell_type": "code",
   "execution_count": 149,
   "metadata": {},
   "outputs": [
    {
     "name": "stdout",
     "output_type": "stream",
     "text": [
      "Done\n"
     ]
    }
   ],
   "source": [
    "NUM_PARAMS = len(param_combinations)\n",
    "train_history = [[] for i in range(NUM_PARAMS)]\n",
    "test_history = [[] for i in range(NUM_PARAMS)]\n",
    "\n",
    "for i in range(len(train_eval)):\n",
    "    idx = i % NUM_PARAMS\n",
    "    train_history[idx].append(train_eval[i])\n",
    "    test_history[idx].append(test_eval[i])\n",
    "\n",
    "# append the average accuracy\n",
    "for i in range(NUM_PARAMS):\n",
    "    train_history[i].append(sum(train_history[i])/NUM_BATCHES)\n",
    "    test_history[i].append(sum(test_history[i])/NUM_BATCHES)\n",
    "\n",
    "if len(train_history[-1]) == NUM_BATCHES+1:\n",
    "    print('Done')"
   ]
  },
  {
   "cell_type": "code",
   "execution_count": 150,
   "metadata": {
    "scrolled": true
   },
   "outputs": [
    {
     "data": {
      "text/html": [
       "<div>\n",
       "<style scoped>\n",
       "    .dataframe tbody tr th:only-of-type {\n",
       "        vertical-align: middle;\n",
       "    }\n",
       "\n",
       "    .dataframe tbody tr th {\n",
       "        vertical-align: top;\n",
       "    }\n",
       "\n",
       "    .dataframe thead th {\n",
       "        text-align: right;\n",
       "    }\n",
       "</style>\n",
       "<table border=\"1\" class=\"dataframe\">\n",
       "  <thead>\n",
       "    <tr style=\"text-align: right;\">\n",
       "      <th></th>\n",
       "      <th>Train Acc (ngram=(1, 1)), min_df=0.0, max_df=0.5, kernel=linear, C=0.001, confidence_interval=0.0)</th>\n",
       "      <th>Test Acc (ngram=(1, 1)), min_df=0.0, max_df=0.5, kernel=linear, C=0.001, confidence_interval=0.0)</th>\n",
       "      <th>Train Acc (ngram=(1, 1)), min_df=0.0, max_df=0.5, kernel=linear, C=0.001, confidence_interval=0.6)</th>\n",
       "      <th>Test Acc (ngram=(1, 1)), min_df=0.0, max_df=0.5, kernel=linear, C=0.001, confidence_interval=0.6)</th>\n",
       "      <th>Train Acc (ngram=(1, 1)), min_df=0.0, max_df=0.5, kernel=linear, C=0.001, confidence_interval=0.7)</th>\n",
       "      <th>Test Acc (ngram=(1, 1)), min_df=0.0, max_df=0.5, kernel=linear, C=0.001, confidence_interval=0.7)</th>\n",
       "      <th>Train Acc (ngram=(1, 1)), min_df=0.0, max_df=0.5, kernel=linear, C=0.001, confidence_interval=0.8)</th>\n",
       "      <th>Test Acc (ngram=(1, 1)), min_df=0.0, max_df=0.5, kernel=linear, C=0.001, confidence_interval=0.8)</th>\n",
       "      <th>Train Acc (ngram=(1, 1)), min_df=0.0, max_df=0.5, kernel=linear, C=0.001, confidence_interval=0.9)</th>\n",
       "      <th>Test Acc (ngram=(1, 1)), min_df=0.0, max_df=0.5, kernel=linear, C=0.001, confidence_interval=0.9)</th>\n",
       "      <th>...</th>\n",
       "      <th>Train Acc (ngram=(1, 3)), min_df=0.3, max_df=1.0, kernel=rbf, C=1.0, gamma=0.1, confidence_interval=0.6)</th>\n",
       "      <th>Test Acc (ngram=(1, 3)), min_df=0.3, max_df=1.0, kernel=rbf, C=1.0, gamma=0.1, confidence_interval=0.6)</th>\n",
       "      <th>Train Acc (ngram=(1, 3)), min_df=0.3, max_df=1.0, kernel=rbf, C=1.0, gamma=0.1, confidence_interval=0.7)</th>\n",
       "      <th>Test Acc (ngram=(1, 3)), min_df=0.3, max_df=1.0, kernel=rbf, C=1.0, gamma=0.1, confidence_interval=0.7)</th>\n",
       "      <th>Train Acc (ngram=(1, 3)), min_df=0.3, max_df=1.0, kernel=rbf, C=1.0, gamma=0.1, confidence_interval=0.8)</th>\n",
       "      <th>Test Acc (ngram=(1, 3)), min_df=0.3, max_df=1.0, kernel=rbf, C=1.0, gamma=0.1, confidence_interval=0.8)</th>\n",
       "      <th>Train Acc (ngram=(1, 3)), min_df=0.3, max_df=1.0, kernel=rbf, C=1.0, gamma=0.1, confidence_interval=0.9)</th>\n",
       "      <th>Test Acc (ngram=(1, 3)), min_df=0.3, max_df=1.0, kernel=rbf, C=1.0, gamma=0.1, confidence_interval=0.9)</th>\n",
       "      <th>Train Acc (ngram=(1, 3)), min_df=0.3, max_df=1.0, kernel=rbf, C=1.0, gamma=0.1, confidence_interval=0.95)</th>\n",
       "      <th>Test Acc (ngram=(1, 3)), min_df=0.3, max_df=1.0, kernel=rbf, C=1.0, gamma=0.1, confidence_interval=0.95)</th>\n",
       "    </tr>\n",
       "  </thead>\n",
       "  <tbody>\n",
       "    <tr>\n",
       "      <th>Batch-1</th>\n",
       "      <td>0.553719</td>\n",
       "      <td>0.548387</td>\n",
       "      <td>0.553719</td>\n",
       "      <td>0.548387</td>\n",
       "      <td>0.553719</td>\n",
       "      <td>0.548387</td>\n",
       "      <td>0.553719</td>\n",
       "      <td>0.548387</td>\n",
       "      <td>0.553719</td>\n",
       "      <td>0.548387</td>\n",
       "      <td>...</td>\n",
       "      <td>0.793388</td>\n",
       "      <td>0.935484</td>\n",
       "      <td>0.793388</td>\n",
       "      <td>0.935484</td>\n",
       "      <td>0.793388</td>\n",
       "      <td>0.935484</td>\n",
       "      <td>0.793388</td>\n",
       "      <td>0.935484</td>\n",
       "      <td>0.793388</td>\n",
       "      <td>0.935484</td>\n",
       "    </tr>\n",
       "    <tr>\n",
       "      <th>Batch-2</th>\n",
       "      <td>0.553719</td>\n",
       "      <td>0.548387</td>\n",
       "      <td>0.553719</td>\n",
       "      <td>0.548387</td>\n",
       "      <td>0.553719</td>\n",
       "      <td>0.548387</td>\n",
       "      <td>0.553719</td>\n",
       "      <td>0.548387</td>\n",
       "      <td>0.553719</td>\n",
       "      <td>0.548387</td>\n",
       "      <td>...</td>\n",
       "      <td>0.809917</td>\n",
       "      <td>0.870968</td>\n",
       "      <td>0.809917</td>\n",
       "      <td>0.870968</td>\n",
       "      <td>0.809917</td>\n",
       "      <td>0.870968</td>\n",
       "      <td>0.809917</td>\n",
       "      <td>0.870968</td>\n",
       "      <td>0.809917</td>\n",
       "      <td>0.870968</td>\n",
       "    </tr>\n",
       "    <tr>\n",
       "      <th>Batch-3</th>\n",
       "      <td>0.557377</td>\n",
       "      <td>0.533333</td>\n",
       "      <td>0.557377</td>\n",
       "      <td>0.533333</td>\n",
       "      <td>0.557377</td>\n",
       "      <td>0.533333</td>\n",
       "      <td>0.557377</td>\n",
       "      <td>0.533333</td>\n",
       "      <td>0.557377</td>\n",
       "      <td>0.533333</td>\n",
       "      <td>...</td>\n",
       "      <td>0.811475</td>\n",
       "      <td>0.933333</td>\n",
       "      <td>0.811475</td>\n",
       "      <td>0.933333</td>\n",
       "      <td>0.811475</td>\n",
       "      <td>0.933333</td>\n",
       "      <td>0.811475</td>\n",
       "      <td>0.933333</td>\n",
       "      <td>0.811475</td>\n",
       "      <td>0.933333</td>\n",
       "    </tr>\n",
       "    <tr>\n",
       "      <th>Batch-4</th>\n",
       "      <td>0.549180</td>\n",
       "      <td>0.566667</td>\n",
       "      <td>0.549180</td>\n",
       "      <td>0.566667</td>\n",
       "      <td>0.549180</td>\n",
       "      <td>0.566667</td>\n",
       "      <td>0.549180</td>\n",
       "      <td>0.566667</td>\n",
       "      <td>0.549180</td>\n",
       "      <td>0.566667</td>\n",
       "      <td>...</td>\n",
       "      <td>0.836066</td>\n",
       "      <td>0.833333</td>\n",
       "      <td>0.836066</td>\n",
       "      <td>0.833333</td>\n",
       "      <td>0.836066</td>\n",
       "      <td>0.833333</td>\n",
       "      <td>0.836066</td>\n",
       "      <td>0.833333</td>\n",
       "      <td>0.836066</td>\n",
       "      <td>0.833333</td>\n",
       "    </tr>\n",
       "    <tr>\n",
       "      <th>Batch-5</th>\n",
       "      <td>0.549180</td>\n",
       "      <td>0.566667</td>\n",
       "      <td>0.549180</td>\n",
       "      <td>0.566667</td>\n",
       "      <td>0.549180</td>\n",
       "      <td>0.566667</td>\n",
       "      <td>0.549180</td>\n",
       "      <td>0.566667</td>\n",
       "      <td>0.549180</td>\n",
       "      <td>0.566667</td>\n",
       "      <td>...</td>\n",
       "      <td>0.909836</td>\n",
       "      <td>0.566667</td>\n",
       "      <td>0.909836</td>\n",
       "      <td>0.566667</td>\n",
       "      <td>0.909836</td>\n",
       "      <td>0.566667</td>\n",
       "      <td>0.909836</td>\n",
       "      <td>0.566667</td>\n",
       "      <td>0.909836</td>\n",
       "      <td>0.566667</td>\n",
       "    </tr>\n",
       "    <tr>\n",
       "      <th>Average</th>\n",
       "      <td>0.552635</td>\n",
       "      <td>0.552688</td>\n",
       "      <td>0.552635</td>\n",
       "      <td>0.552688</td>\n",
       "      <td>0.552635</td>\n",
       "      <td>0.552688</td>\n",
       "      <td>0.552635</td>\n",
       "      <td>0.552688</td>\n",
       "      <td>0.552635</td>\n",
       "      <td>0.552688</td>\n",
       "      <td>...</td>\n",
       "      <td>0.832137</td>\n",
       "      <td>0.827957</td>\n",
       "      <td>0.832137</td>\n",
       "      <td>0.827957</td>\n",
       "      <td>0.832137</td>\n",
       "      <td>0.827957</td>\n",
       "      <td>0.832137</td>\n",
       "      <td>0.827957</td>\n",
       "      <td>0.832137</td>\n",
       "      <td>0.827957</td>\n",
       "    </tr>\n",
       "  </tbody>\n",
       "</table>\n",
       "<p>6 rows × 141696 columns</p>\n",
       "</div>"
      ],
      "text/plain": [
       "         Train Acc (ngram=(1, 1)), min_df=0.0, max_df=0.5, kernel=linear, C=0.001, confidence_interval=0.0)  \\\n",
       "Batch-1                                           0.553719                                                    \n",
       "Batch-2                                           0.553719                                                    \n",
       "Batch-3                                           0.557377                                                    \n",
       "Batch-4                                           0.549180                                                    \n",
       "Batch-5                                           0.549180                                                    \n",
       "Average                                           0.552635                                                    \n",
       "\n",
       "         Test Acc (ngram=(1, 1)), min_df=0.0, max_df=0.5, kernel=linear, C=0.001, confidence_interval=0.0)  \\\n",
       "Batch-1                                           0.548387                                                   \n",
       "Batch-2                                           0.548387                                                   \n",
       "Batch-3                                           0.533333                                                   \n",
       "Batch-4                                           0.566667                                                   \n",
       "Batch-5                                           0.566667                                                   \n",
       "Average                                           0.552688                                                   \n",
       "\n",
       "         Train Acc (ngram=(1, 1)), min_df=0.0, max_df=0.5, kernel=linear, C=0.001, confidence_interval=0.6)  \\\n",
       "Batch-1                                           0.553719                                                    \n",
       "Batch-2                                           0.553719                                                    \n",
       "Batch-3                                           0.557377                                                    \n",
       "Batch-4                                           0.549180                                                    \n",
       "Batch-5                                           0.549180                                                    \n",
       "Average                                           0.552635                                                    \n",
       "\n",
       "         Test Acc (ngram=(1, 1)), min_df=0.0, max_df=0.5, kernel=linear, C=0.001, confidence_interval=0.6)  \\\n",
       "Batch-1                                           0.548387                                                   \n",
       "Batch-2                                           0.548387                                                   \n",
       "Batch-3                                           0.533333                                                   \n",
       "Batch-4                                           0.566667                                                   \n",
       "Batch-5                                           0.566667                                                   \n",
       "Average                                           0.552688                                                   \n",
       "\n",
       "         Train Acc (ngram=(1, 1)), min_df=0.0, max_df=0.5, kernel=linear, C=0.001, confidence_interval=0.7)  \\\n",
       "Batch-1                                           0.553719                                                    \n",
       "Batch-2                                           0.553719                                                    \n",
       "Batch-3                                           0.557377                                                    \n",
       "Batch-4                                           0.549180                                                    \n",
       "Batch-5                                           0.549180                                                    \n",
       "Average                                           0.552635                                                    \n",
       "\n",
       "         Test Acc (ngram=(1, 1)), min_df=0.0, max_df=0.5, kernel=linear, C=0.001, confidence_interval=0.7)  \\\n",
       "Batch-1                                           0.548387                                                   \n",
       "Batch-2                                           0.548387                                                   \n",
       "Batch-3                                           0.533333                                                   \n",
       "Batch-4                                           0.566667                                                   \n",
       "Batch-5                                           0.566667                                                   \n",
       "Average                                           0.552688                                                   \n",
       "\n",
       "         Train Acc (ngram=(1, 1)), min_df=0.0, max_df=0.5, kernel=linear, C=0.001, confidence_interval=0.8)  \\\n",
       "Batch-1                                           0.553719                                                    \n",
       "Batch-2                                           0.553719                                                    \n",
       "Batch-3                                           0.557377                                                    \n",
       "Batch-4                                           0.549180                                                    \n",
       "Batch-5                                           0.549180                                                    \n",
       "Average                                           0.552635                                                    \n",
       "\n",
       "         Test Acc (ngram=(1, 1)), min_df=0.0, max_df=0.5, kernel=linear, C=0.001, confidence_interval=0.8)  \\\n",
       "Batch-1                                           0.548387                                                   \n",
       "Batch-2                                           0.548387                                                   \n",
       "Batch-3                                           0.533333                                                   \n",
       "Batch-4                                           0.566667                                                   \n",
       "Batch-5                                           0.566667                                                   \n",
       "Average                                           0.552688                                                   \n",
       "\n",
       "         Train Acc (ngram=(1, 1)), min_df=0.0, max_df=0.5, kernel=linear, C=0.001, confidence_interval=0.9)  \\\n",
       "Batch-1                                           0.553719                                                    \n",
       "Batch-2                                           0.553719                                                    \n",
       "Batch-3                                           0.557377                                                    \n",
       "Batch-4                                           0.549180                                                    \n",
       "Batch-5                                           0.549180                                                    \n",
       "Average                                           0.552635                                                    \n",
       "\n",
       "         Test Acc (ngram=(1, 1)), min_df=0.0, max_df=0.5, kernel=linear, C=0.001, confidence_interval=0.9)  \\\n",
       "Batch-1                                           0.548387                                                   \n",
       "Batch-2                                           0.548387                                                   \n",
       "Batch-3                                           0.533333                                                   \n",
       "Batch-4                                           0.566667                                                   \n",
       "Batch-5                                           0.566667                                                   \n",
       "Average                                           0.552688                                                   \n",
       "\n",
       "         ...  \\\n",
       "Batch-1  ...   \n",
       "Batch-2  ...   \n",
       "Batch-3  ...   \n",
       "Batch-4  ...   \n",
       "Batch-5  ...   \n",
       "Average  ...   \n",
       "\n",
       "         Train Acc (ngram=(1, 3)), min_df=0.3, max_df=1.0, kernel=rbf, C=1.0, gamma=0.1, confidence_interval=0.6)  \\\n",
       "Batch-1                                           0.793388                                                          \n",
       "Batch-2                                           0.809917                                                          \n",
       "Batch-3                                           0.811475                                                          \n",
       "Batch-4                                           0.836066                                                          \n",
       "Batch-5                                           0.909836                                                          \n",
       "Average                                           0.832137                                                          \n",
       "\n",
       "         Test Acc (ngram=(1, 3)), min_df=0.3, max_df=1.0, kernel=rbf, C=1.0, gamma=0.1, confidence_interval=0.6)  \\\n",
       "Batch-1                                           0.935484                                                         \n",
       "Batch-2                                           0.870968                                                         \n",
       "Batch-3                                           0.933333                                                         \n",
       "Batch-4                                           0.833333                                                         \n",
       "Batch-5                                           0.566667                                                         \n",
       "Average                                           0.827957                                                         \n",
       "\n",
       "         Train Acc (ngram=(1, 3)), min_df=0.3, max_df=1.0, kernel=rbf, C=1.0, gamma=0.1, confidence_interval=0.7)  \\\n",
       "Batch-1                                           0.793388                                                          \n",
       "Batch-2                                           0.809917                                                          \n",
       "Batch-3                                           0.811475                                                          \n",
       "Batch-4                                           0.836066                                                          \n",
       "Batch-5                                           0.909836                                                          \n",
       "Average                                           0.832137                                                          \n",
       "\n",
       "         Test Acc (ngram=(1, 3)), min_df=0.3, max_df=1.0, kernel=rbf, C=1.0, gamma=0.1, confidence_interval=0.7)  \\\n",
       "Batch-1                                           0.935484                                                         \n",
       "Batch-2                                           0.870968                                                         \n",
       "Batch-3                                           0.933333                                                         \n",
       "Batch-4                                           0.833333                                                         \n",
       "Batch-5                                           0.566667                                                         \n",
       "Average                                           0.827957                                                         \n",
       "\n",
       "         Train Acc (ngram=(1, 3)), min_df=0.3, max_df=1.0, kernel=rbf, C=1.0, gamma=0.1, confidence_interval=0.8)  \\\n",
       "Batch-1                                           0.793388                                                          \n",
       "Batch-2                                           0.809917                                                          \n",
       "Batch-3                                           0.811475                                                          \n",
       "Batch-4                                           0.836066                                                          \n",
       "Batch-5                                           0.909836                                                          \n",
       "Average                                           0.832137                                                          \n",
       "\n",
       "         Test Acc (ngram=(1, 3)), min_df=0.3, max_df=1.0, kernel=rbf, C=1.0, gamma=0.1, confidence_interval=0.8)  \\\n",
       "Batch-1                                           0.935484                                                         \n",
       "Batch-2                                           0.870968                                                         \n",
       "Batch-3                                           0.933333                                                         \n",
       "Batch-4                                           0.833333                                                         \n",
       "Batch-5                                           0.566667                                                         \n",
       "Average                                           0.827957                                                         \n",
       "\n",
       "         Train Acc (ngram=(1, 3)), min_df=0.3, max_df=1.0, kernel=rbf, C=1.0, gamma=0.1, confidence_interval=0.9)  \\\n",
       "Batch-1                                           0.793388                                                          \n",
       "Batch-2                                           0.809917                                                          \n",
       "Batch-3                                           0.811475                                                          \n",
       "Batch-4                                           0.836066                                                          \n",
       "Batch-5                                           0.909836                                                          \n",
       "Average                                           0.832137                                                          \n",
       "\n",
       "         Test Acc (ngram=(1, 3)), min_df=0.3, max_df=1.0, kernel=rbf, C=1.0, gamma=0.1, confidence_interval=0.9)  \\\n",
       "Batch-1                                           0.935484                                                         \n",
       "Batch-2                                           0.870968                                                         \n",
       "Batch-3                                           0.933333                                                         \n",
       "Batch-4                                           0.833333                                                         \n",
       "Batch-5                                           0.566667                                                         \n",
       "Average                                           0.827957                                                         \n",
       "\n",
       "         Train Acc (ngram=(1, 3)), min_df=0.3, max_df=1.0, kernel=rbf, C=1.0, gamma=0.1, confidence_interval=0.95)  \\\n",
       "Batch-1                                           0.793388                                                           \n",
       "Batch-2                                           0.809917                                                           \n",
       "Batch-3                                           0.811475                                                           \n",
       "Batch-4                                           0.836066                                                           \n",
       "Batch-5                                           0.909836                                                           \n",
       "Average                                           0.832137                                                           \n",
       "\n",
       "         Test Acc (ngram=(1, 3)), min_df=0.3, max_df=1.0, kernel=rbf, C=1.0, gamma=0.1, confidence_interval=0.95)  \n",
       "Batch-1                                           0.935484                                                         \n",
       "Batch-2                                           0.870968                                                         \n",
       "Batch-3                                           0.933333                                                         \n",
       "Batch-4                                           0.833333                                                         \n",
       "Batch-5                                           0.566667                                                         \n",
       "Average                                           0.827957                                                         \n",
       "\n",
       "[6 rows x 141696 columns]"
      ]
     },
     "execution_count": 150,
     "metadata": {},
     "output_type": "execute_result"
    }
   ],
   "source": [
    "eval_history = {}\n",
    "for i in range(NUM_PARAMS):\n",
    "    eval_history[f'Train Acc (min_df={param_combinations[i][0]}, max_df={param_combinations[i][1]}, lr={param_combinations[i][2]}, n_prototypes={param_combinations[i][3]}, n_updates_to_stepdrop={param_combinations[i][4]}, epoch={param_combinations[i][5]}, confidence_interval={param_combinations[i][-1]*100}%)'] = train_history[i] \n",
    "    eval_history[f'Test Acc (min_df={param_combinations[i][0]}, max_df={param_combinations[i][1]}, lr={param_combinations[i][2]}, n_prototypes={param_combinations[i][3]}, n_updates_to_stepdrop={param_combinations[i][4]}, epoch={param_combinations[i][5]}, confidence_interval={param_combinations[i][-1]*100}%)'] = test_history[i]\n",
    "\n",
    "history_chi2_tfidf = pd.DataFrame(eval_history, index=['Batch-1', 'Batch-2', 'Batch-3', \n",
    "                                                       'Batch-4', 'Batch-5', 'Average'])\n",
    "history_chi2_tfidf"
   ]
  },
  {
   "cell_type": "code",
   "execution_count": 60,
   "metadata": {},
   "outputs": [
    {
     "data": {
      "text/plain": [
       "'Test Acc (min_df=0.0, max_df=0.5, n_estimators=50, criterion=entropy, max_depth=20, min_samples_split=5, min_samples_leaf=5, max_samples=0.8, confidence_interval=80.0%)'"
      ]
     },
     "execution_count": 60,
     "metadata": {},
     "output_type": "execute_result"
    }
   ],
   "source": [
    "test_col = [col for col in history_chi2_tfidf.columns if col.startswith('Test')]\n",
    "test_col[history_chi2_tfidf.loc['Average', test_col].argmax()]"
   ]
  },
  {
   "cell_type": "code",
   "execution_count": 153,
   "metadata": {
    "scrolled": true
   },
   "outputs": [
    {
     "data": {
      "text/html": [
       "<div>\n",
       "<style scoped>\n",
       "    .dataframe tbody tr th:only-of-type {\n",
       "        vertical-align: middle;\n",
       "    }\n",
       "\n",
       "    .dataframe tbody tr th {\n",
       "        vertical-align: top;\n",
       "    }\n",
       "\n",
       "    .dataframe thead th {\n",
       "        text-align: right;\n",
       "    }\n",
       "</style>\n",
       "<table border=\"1\" class=\"dataframe\">\n",
       "  <thead>\n",
       "    <tr style=\"text-align: right;\">\n",
       "      <th></th>\n",
       "      <th>Train Acc (ngram=(1, 1)), min_df=0.3, max_df=0.5, kernel=poly, C=1.0, degree=2, gamma=scale, confidence_interval=0.0)</th>\n",
       "      <th>Test Acc (ngram=(1, 1)), min_df=0.3, max_df=0.5, kernel=poly, C=1.0, degree=2, gamma=scale, confidence_interval=0.0)</th>\n",
       "    </tr>\n",
       "  </thead>\n",
       "  <tbody>\n",
       "    <tr>\n",
       "      <th>Batch-1</th>\n",
       "      <td>0.867769</td>\n",
       "      <td>1.000000</td>\n",
       "    </tr>\n",
       "    <tr>\n",
       "      <th>Batch-2</th>\n",
       "      <td>0.867769</td>\n",
       "      <td>1.000000</td>\n",
       "    </tr>\n",
       "    <tr>\n",
       "      <th>Batch-3</th>\n",
       "      <td>0.885246</td>\n",
       "      <td>0.933333</td>\n",
       "    </tr>\n",
       "    <tr>\n",
       "      <th>Batch-4</th>\n",
       "      <td>0.885246</td>\n",
       "      <td>0.933333</td>\n",
       "    </tr>\n",
       "    <tr>\n",
       "      <th>Batch-5</th>\n",
       "      <td>0.967213</td>\n",
       "      <td>0.600000</td>\n",
       "    </tr>\n",
       "    <tr>\n",
       "      <th>Average</th>\n",
       "      <td>0.894648</td>\n",
       "      <td>0.893333</td>\n",
       "    </tr>\n",
       "  </tbody>\n",
       "</table>\n",
       "</div>"
      ],
      "text/plain": [
       "         Train Acc (ngram=(1, 1)), min_df=0.3, max_df=0.5, kernel=poly, C=1.0, degree=2, gamma=scale, confidence_interval=0.0)  \\\n",
       "Batch-1                                           0.867769                                                                       \n",
       "Batch-2                                           0.867769                                                                       \n",
       "Batch-3                                           0.885246                                                                       \n",
       "Batch-4                                           0.885246                                                                       \n",
       "Batch-5                                           0.967213                                                                       \n",
       "Average                                           0.894648                                                                       \n",
       "\n",
       "         Test Acc (ngram=(1, 1)), min_df=0.3, max_df=0.5, kernel=poly, C=1.0, degree=2, gamma=scale, confidence_interval=0.0)  \n",
       "Batch-1                                           1.000000                                                                     \n",
       "Batch-2                                           1.000000                                                                     \n",
       "Batch-3                                           0.933333                                                                     \n",
       "Batch-4                                           0.933333                                                                     \n",
       "Batch-5                                           0.600000                                                                     \n",
       "Average                                           0.893333                                                                     "
      ]
     },
     "execution_count": 153,
     "metadata": {},
     "output_type": "execute_result"
    }
   ],
   "source": [
    "history_chi2_tfidf[['Train Acc (min_df=0.3, max_df=0.6, lr=0.1, n_prototypes=[5, 5], n_updates_to_stepdrop=3, epoch=200, confidence_interval=60.0%)', 'Test Acc (min_df=0.3, max_df=0.6, lr=0.1, n_prototypes=[5, 5], n_updates_to_stepdrop=3, epoch=200, confidence_interval=60.0%)']]"
   ]
  },
  {
   "cell_type": "markdown",
   "metadata": {},
   "source": [
    "We got <b>the best result</b> from LVQ-2 Model with \n",
    "<b>chi-square</b> as feature selection with <b>confidence interval = 60%</b>,\n",
    "and another parameter from TF-IDF such as \n",
    "<b>minimum</b> of word's occurrences is <b>30%</b> of total documents, \n",
    "<b>maximum</b> of word's occurrences is <b>60%</b> of total documents, \n",
    "with using <b>learning rate = 0.1</b> with <b>5 prototypes</b> each class,\n",
    "<b>3 epochs to drop learning rate</b>, and <b>epochs = 200</b>,\n",
    "that is: <h3>90.02%</h3>"
   ]
  },
  {
   "cell_type": "markdown",
   "metadata": {},
   "source": [
    "### LVQ-2 +  Query Expansion Ranking + TF-IDF"
   ]
  },
  {
   "cell_type": "code",
   "execution_count": 26,
   "metadata": {},
   "outputs": [],
   "source": [
    "\n",
    "def calculate_qer_score(features, labels):\n",
    "    \"\"\"\n",
    "    When a feature has low score, the diference between the probabilities \n",
    "    for the positive and negative classes is high; therefore the feature is \n",
    "    more class specifc and more valuable for classifcation process.\n",
    "    \n",
    "    score(f) = p(f) + q(f)/ |p(f) - q(f)|\n",
    "    p(f) = df(+) + .5/ n(+) + 1.0\n",
    "    q(f) = df(-) +.5/ n(-) + .5\n",
    "    df(+) --> document of f with positive class\n",
    "    n(+) ---> total document with positive class\n",
    "    \"\"\"\n",
    "\n",
    "    # create a dataset\n",
    "    dataset = [*zip(features, labels)]\n",
    "\n",
    "    # count frequency each class labels\n",
    "    label_counts = Counter(train_labels)\n",
    "\n",
    "    # extract all features\n",
    "    count_vectorizer = CountVectorizer()\n",
    "    count_vectorizer.fit_transform(features)\n",
    "    feature_names = count_vectorizer.get_feature_names()\n",
    "\n",
    "    qer_score = {}\n",
    "    for word in feature_names:\n",
    "        doc_freq = {}\n",
    "\n",
    "        # count frequency each word at certain class labels\n",
    "        word = ' '+word+' '\n",
    "\n",
    "        for label in label_counts:\n",
    "            doc_freq[label] = 0\n",
    "\n",
    "        for doc in dataset:\n",
    "            sentence = ' '+doc[0]+' '\n",
    "            if word in sentence:\n",
    "                doc_freq[doc[1]] += 1\n",
    "\n",
    "        pf = (doc_freq[1] + .5) / (label_counts[1] + 1.0)\n",
    "        qf = (doc_freq[0] + .5) / (label_counts[0] + .5)\n",
    "        score = (pf + qf) / abs(pf - qf)\n",
    "        qer_score[word.strip()] = score\n",
    "        \n",
    "    return qer_score"
   ]
  },
  {
   "cell_type": "code",
   "execution_count": 31,
   "metadata": {},
   "outputs": [
    {
     "data": {
      "text/plain": [
       "110592"
      ]
     },
     "execution_count": 31,
     "metadata": {},
     "output_type": "execute_result"
    }
   ],
   "source": [
    "min_df = [0.0, .1, .2, .3]\n",
    "max_df = [.5, .6, .7 , .8, .9, 1.0]\n",
    "step = [.1, .5]\n",
    "prototypes_per_class = [[1, 1], [2, 2], [3, 3], [5, 5]]\n",
    "n_updates_to_stepdrop = [None, 3, 5, 10]\n",
    "epochs = [50, 100, 150, 200]\n",
    "keep_data = [.1, .2, .3, .4, .5, .6, .7, .8, .9, .95, 1.]\n",
    "\n",
    "param_combinations = list(product(min_df, max_df, step, prototypes_per_class,\n",
    "                                  n_updates_to_stepdrop, epochs, keep_data))\n",
    "len(param_combinations)\n"
   ]
  },
  {
   "cell_type": "code",
   "execution_count": 34,
   "metadata": {
    "scrolled": true
   },
   "outputs": [
    {
     "name": "stdout",
     "output_type": "stream",
     "text": [
      "===============0===============\n",
      "1000\n",
      "2000\n",
      "3000\n",
      "4000\n",
      "5000\n",
      "6000\n",
      "7000\n",
      "8000\n",
      "9000\n",
      "10000\n",
      "11000\n",
      "12000\n",
      "13000\n",
      "14000\n",
      "15000\n",
      "16000\n",
      "17000\n",
      "18000\n",
      "19000\n",
      "20000\n",
      "21000\n",
      "22000\n",
      "23000\n",
      "24000\n",
      "25000\n",
      "26000\n",
      "27000\n",
      "28000\n",
      "29000\n",
      "30000\n",
      "31000\n",
      "32000\n",
      "33000\n",
      "34000\n",
      "35000\n",
      "36000\n",
      "37000\n",
      "38000\n",
      "39000\n",
      "40000\n",
      "41000\n",
      "42000\n",
      "43000\n",
      "44000\n",
      "45000\n",
      "46000\n",
      "47000\n",
      "48000\n",
      "49000\n",
      "50000\n",
      "51000\n",
      "52000\n",
      "53000\n",
      "54000\n",
      "55000\n",
      "56000\n",
      "57000\n",
      "58000\n",
      "59000\n",
      "60000\n",
      "61000\n",
      "62000\n",
      "63000\n",
      "64000\n",
      "65000\n",
      "66000\n",
      "67000\n",
      "68000\n",
      "69000\n",
      "70000\n",
      "71000\n",
      "72000\n",
      "73000\n",
      "74000\n",
      "75000\n",
      "76000\n",
      "77000\n",
      "78000\n",
      "79000\n",
      "80000\n",
      "81000\n",
      "82000\n",
      "83000\n",
      "84000\n",
      "85000\n",
      "86000\n",
      "87000\n",
      "88000\n",
      "89000\n",
      "90000\n",
      "91000\n",
      "92000\n",
      "93000\n",
      "94000\n",
      "95000\n",
      "96000\n",
      "97000\n",
      "98000\n",
      "99000\n",
      "100000\n",
      "101000\n",
      "102000\n",
      "103000\n",
      "104000\n",
      "105000\n",
      "106000\n",
      "107000\n",
      "108000\n",
      "109000\n",
      "110000\n",
      "===============1===============\n",
      "111000\n",
      "112000\n",
      "113000\n",
      "114000\n",
      "115000\n",
      "116000\n",
      "117000\n",
      "118000\n",
      "119000\n",
      "120000\n",
      "121000\n",
      "122000\n",
      "123000\n",
      "124000\n",
      "125000\n",
      "126000\n",
      "127000\n",
      "128000\n",
      "129000\n",
      "130000\n",
      "131000\n",
      "132000\n",
      "133000\n",
      "134000\n",
      "135000\n",
      "136000\n",
      "137000\n",
      "138000\n",
      "139000\n",
      "140000\n",
      "141000\n",
      "142000\n",
      "143000\n",
      "144000\n",
      "145000\n",
      "146000\n",
      "147000\n",
      "148000\n",
      "149000\n",
      "150000\n",
      "151000\n",
      "152000\n",
      "153000\n",
      "154000\n",
      "155000\n",
      "156000\n",
      "157000\n",
      "158000\n",
      "159000\n",
      "160000\n",
      "161000\n",
      "162000\n",
      "163000\n",
      "164000\n",
      "165000\n",
      "166000\n",
      "167000\n",
      "168000\n",
      "169000\n",
      "170000\n",
      "171000\n",
      "172000\n",
      "173000\n",
      "174000\n",
      "175000\n",
      "176000\n",
      "177000\n",
      "178000\n",
      "179000\n",
      "180000\n",
      "181000\n",
      "182000\n",
      "183000\n",
      "184000\n",
      "185000\n",
      "186000\n",
      "187000\n",
      "188000\n",
      "189000\n",
      "190000\n",
      "191000\n",
      "192000\n",
      "193000\n",
      "194000\n",
      "195000\n",
      "196000\n",
      "197000\n",
      "198000\n",
      "199000\n",
      "200000\n",
      "201000\n",
      "202000\n",
      "203000\n",
      "204000\n",
      "205000\n",
      "206000\n",
      "207000\n",
      "208000\n",
      "209000\n",
      "210000\n",
      "211000\n",
      "212000\n",
      "213000\n",
      "214000\n",
      "215000\n",
      "216000\n",
      "217000\n",
      "218000\n",
      "219000\n",
      "220000\n",
      "221000\n",
      "===============2===============\n",
      "222000\n",
      "223000\n",
      "224000\n",
      "225000\n",
      "226000\n",
      "227000\n",
      "228000\n",
      "229000\n",
      "230000\n",
      "231000\n",
      "232000\n",
      "233000\n",
      "234000\n",
      "235000\n",
      "236000\n",
      "237000\n",
      "238000\n",
      "239000\n",
      "240000\n",
      "241000\n",
      "242000\n",
      "243000\n",
      "244000\n",
      "245000\n",
      "246000\n",
      "247000\n",
      "248000\n",
      "249000\n",
      "250000\n",
      "251000\n",
      "252000\n",
      "253000\n",
      "254000\n",
      "255000\n",
      "256000\n",
      "257000\n",
      "258000\n",
      "259000\n",
      "260000\n",
      "261000\n",
      "262000\n",
      "263000\n",
      "264000\n",
      "265000\n",
      "266000\n",
      "267000\n",
      "268000\n",
      "269000\n",
      "270000\n",
      "271000\n",
      "272000\n",
      "273000\n",
      "274000\n",
      "275000\n",
      "276000\n",
      "277000\n",
      "278000\n",
      "279000\n",
      "280000\n",
      "281000\n",
      "282000\n",
      "283000\n",
      "284000\n",
      "285000\n",
      "286000\n",
      "287000\n",
      "288000\n",
      "289000\n",
      "290000\n",
      "291000\n",
      "292000\n",
      "293000\n",
      "294000\n",
      "295000\n",
      "296000\n",
      "297000\n",
      "298000\n",
      "299000\n",
      "300000\n",
      "301000\n",
      "302000\n",
      "303000\n",
      "304000\n",
      "305000\n",
      "306000\n",
      "307000\n",
      "308000\n",
      "309000\n",
      "310000\n",
      "311000\n",
      "312000\n",
      "313000\n",
      "314000\n",
      "315000\n",
      "316000\n",
      "317000\n",
      "318000\n",
      "319000\n",
      "320000\n",
      "321000\n",
      "322000\n",
      "323000\n",
      "324000\n",
      "325000\n",
      "326000\n",
      "327000\n",
      "328000\n",
      "329000\n",
      "330000\n",
      "331000\n",
      "===============3===============\n",
      "332000\n",
      "333000\n",
      "334000\n",
      "335000\n",
      "336000\n",
      "337000\n",
      "338000\n",
      "339000\n",
      "340000\n",
      "341000\n",
      "342000\n",
      "343000\n",
      "344000\n",
      "345000\n",
      "346000\n",
      "347000\n",
      "348000\n",
      "349000\n",
      "350000\n",
      "351000\n",
      "352000\n",
      "353000\n",
      "354000\n",
      "355000\n",
      "356000\n",
      "357000\n",
      "358000\n",
      "359000\n",
      "360000\n",
      "361000\n",
      "362000\n",
      "363000\n",
      "364000\n",
      "365000\n",
      "366000\n",
      "367000\n",
      "368000\n",
      "369000\n",
      "370000\n",
      "371000\n",
      "372000\n",
      "373000\n",
      "374000\n",
      "375000\n",
      "376000\n",
      "377000\n",
      "378000\n",
      "379000\n",
      "380000\n",
      "381000\n",
      "382000\n",
      "383000\n",
      "384000\n",
      "385000\n",
      "386000\n",
      "387000\n",
      "388000\n",
      "389000\n",
      "390000\n",
      "391000\n",
      "392000\n",
      "393000\n",
      "394000\n",
      "395000\n",
      "396000\n",
      "397000\n",
      "398000\n",
      "399000\n",
      "400000\n",
      "401000\n",
      "402000\n",
      "403000\n",
      "404000\n",
      "405000\n",
      "406000\n",
      "407000\n",
      "408000\n",
      "409000\n",
      "410000\n",
      "411000\n",
      "412000\n",
      "413000\n",
      "414000\n",
      "415000\n",
      "416000\n",
      "417000\n",
      "418000\n",
      "419000\n",
      "420000\n",
      "421000\n",
      "422000\n",
      "423000\n",
      "424000\n",
      "425000\n",
      "426000\n",
      "427000\n",
      "428000\n",
      "429000\n",
      "430000\n",
      "431000\n",
      "432000\n",
      "433000\n",
      "434000\n",
      "435000\n",
      "436000\n",
      "437000\n",
      "438000\n",
      "439000\n",
      "440000\n",
      "441000\n",
      "442000\n",
      "===============4===============\n",
      "443000\n",
      "444000\n",
      "445000\n",
      "446000\n",
      "447000\n",
      "448000\n",
      "449000\n",
      "450000\n",
      "451000\n",
      "452000\n",
      "453000\n",
      "454000\n",
      "455000\n",
      "456000\n",
      "457000\n",
      "458000\n",
      "459000\n",
      "460000\n",
      "461000\n",
      "462000\n",
      "463000\n",
      "464000\n",
      "465000\n",
      "466000\n",
      "467000\n",
      "468000\n",
      "469000\n",
      "470000\n",
      "471000\n",
      "472000\n",
      "473000\n",
      "474000\n",
      "475000\n",
      "476000\n",
      "477000\n",
      "478000\n",
      "479000\n",
      "480000\n",
      "481000\n",
      "482000\n",
      "483000\n",
      "484000\n",
      "485000\n",
      "486000\n",
      "487000\n",
      "488000\n",
      "489000\n",
      "490000\n",
      "491000\n",
      "492000\n",
      "493000\n",
      "494000\n",
      "495000\n",
      "496000\n",
      "497000\n",
      "498000\n",
      "499000\n",
      "500000\n",
      "501000\n",
      "502000\n",
      "503000\n",
      "504000\n",
      "505000\n",
      "506000\n",
      "507000\n",
      "508000\n",
      "509000\n",
      "510000\n",
      "511000\n",
      "512000\n",
      "513000\n",
      "514000\n",
      "515000\n",
      "516000\n",
      "517000\n",
      "518000\n",
      "519000\n",
      "520000\n",
      "521000\n",
      "522000\n",
      "523000\n",
      "524000\n",
      "525000\n",
      "526000\n",
      "527000\n",
      "528000\n",
      "529000\n",
      "530000\n",
      "531000\n",
      "532000\n",
      "533000\n",
      "534000\n",
      "535000\n",
      "536000\n",
      "537000\n",
      "538000\n",
      "539000\n",
      "540000\n",
      "541000\n",
      "542000\n",
      "543000\n",
      "544000\n",
      "545000\n",
      "546000\n",
      "547000\n",
      "548000\n",
      "549000\n",
      "550000\n",
      "551000\n",
      "552000\n",
      "Train and evaluate 110592 permutation of model completed\n"
     ]
    }
   ],
   "source": [
    "NUM_BATCHES = 5\n",
    "features = np.array(clean_comment)\n",
    "labels = np.array(df.polarity)\n",
    "train_eval, test_eval = [], []\n",
    "j=0\n",
    "\n",
    "for i in range(NUM_BATCHES):\n",
    "\n",
    "    train_idx = np.load(f'dataset/train_{i+1}.npy')\n",
    "    test_idx = np.load(f'dataset/test_{i+1}.npy')\n",
    "    train_labels = labels[train_idx]\n",
    "    test_labels = labels[test_idx]\n",
    "    train_features = features[train_idx]\n",
    "    \n",
    "    vectorizer = CountVectorizer()\n",
    "    train_count_features = vectorizer.fit_transform(features[train_idx])\n",
    "    test_count_features = vectorizer.transform(features[test_idx])\n",
    "\n",
    "    # calculate qer score\n",
    "    qer_score = calculate_qer_score(train_features, train_labels)\n",
    "    size_train_features = len(qer_score)\n",
    "    sorted_qer_score = sorted(qer_score.items(), key=lambda x: x[1])\n",
    "    print(f'==============={i}===============')\n",
    "    \n",
    "    for param in param_combinations:\n",
    "        # create new features with selected good feature with qer score\n",
    "        boundary_idx = round(size_train_features * param[-1])\n",
    "        below_tresh = [word[0] for word in sorted_qer_score[boundary_idx:]]\n",
    "        new_features = remove_token(below_tresh, features)\n",
    "        \n",
    "        tfidf_vectorizer = TfidfVectorizer(min_df=param[0], max_df=param[1])\n",
    "        train_features = tfidf_vectorizer.fit_transform(new_features[train_idx])\n",
    "        test_features = tfidf_vectorizer.transform(new_features[test_idx])\n",
    "        j+=1\n",
    "        if j%1000==0:\n",
    "            print(j)\n",
    "        \n",
    "        # train and evaluate\n",
    "        clf = LVQ2(n_inputs=train_features.shape[1], n_classes=2, step=param[2],\n",
    "                   n_subclasses = sum(param[3]), prototypes_per_class=param[3],\n",
    "                   n_updates_to_stepdrop=param[4]*train_features.shape[0] if param[4]!=None else None)\n",
    "        clf.train(train_features, train_labels, epochs=param[5])\n",
    "        train_acc = compute_score(train_labels, clf.predict(train_features))\n",
    "        test_acc = compute_score(test_labels, clf.predict(test_features))\n",
    "        train_eval.append(train_acc)\n",
    "        test_eval.append(test_acc)\n",
    "        \n",
    "print(f'Train and evaluate {len(param_combinations)} permutation of model completed')"
   ]
  },
  {
   "cell_type": "code",
   "execution_count": 33,
   "metadata": {},
   "outputs": [
    {
     "data": {
      "text/plain": [
       "552960"
      ]
     },
     "execution_count": 33,
     "metadata": {},
     "output_type": "execute_result"
    }
   ],
   "source": [
    "len(param_combinations)*5"
   ]
  },
  {
   "cell_type": "code",
   "execution_count": 35,
   "metadata": {},
   "outputs": [
    {
     "name": "stdout",
     "output_type": "stream",
     "text": [
      "Done\n"
     ]
    }
   ],
   "source": [
    "NUM_PARAMS = len(param_combinations)\n",
    "train_history = [[] for i in range(NUM_PARAMS)]\n",
    "test_history = [[] for i in range(NUM_PARAMS)]\n",
    "\n",
    "for i in range(len(train_eval)):\n",
    "    idx = i % NUM_PARAMS\n",
    "    train_history[idx].append(train_eval[i])\n",
    "    test_history[idx].append(test_eval[i])\n",
    "\n",
    "# append the average accuracy\n",
    "for i in range(NUM_PARAMS):\n",
    "    train_history[i].append(sum(train_history[i])/NUM_BATCHES)\n",
    "    test_history[i].append(sum(test_history[i])/NUM_BATCHES)\n",
    "\n",
    "if len(train_history[-1]) == NUM_BATCHES+1:\n",
    "    print('Done')"
   ]
  },
  {
   "cell_type": "code",
   "execution_count": 36,
   "metadata": {},
   "outputs": [
    {
     "data": {
      "text/html": [
       "<div>\n",
       "<style scoped>\n",
       "    .dataframe tbody tr th:only-of-type {\n",
       "        vertical-align: middle;\n",
       "    }\n",
       "\n",
       "    .dataframe tbody tr th {\n",
       "        vertical-align: top;\n",
       "    }\n",
       "\n",
       "    .dataframe thead th {\n",
       "        text-align: right;\n",
       "    }\n",
       "</style>\n",
       "<table border=\"1\" class=\"dataframe\">\n",
       "  <thead>\n",
       "    <tr style=\"text-align: right;\">\n",
       "      <th></th>\n",
       "      <th>Train Acc (min_df=0.0, max_df=0.5, n_estimators=10, criterion=gini, max_depth=20, min_samples_split=1, min_samples_leaf=1, max_samples=None, keep_data=10.0%)</th>\n",
       "      <th>Test Acc (min_df=0.0, max_df=0.5, n_estimators=10, criterion=gini, max_depth=20, min_samples_split=1, min_samples_leaf=1, max_samples=None, keep_data=10.0%)</th>\n",
       "      <th>Train Acc (min_df=0.0, max_df=0.5, n_estimators=10, criterion=gini, max_depth=20, min_samples_split=1, min_samples_leaf=1, max_samples=None, keep_data=20.0%)</th>\n",
       "      <th>Test Acc (min_df=0.0, max_df=0.5, n_estimators=10, criterion=gini, max_depth=20, min_samples_split=1, min_samples_leaf=1, max_samples=None, keep_data=20.0%)</th>\n",
       "      <th>Train Acc (min_df=0.0, max_df=0.5, n_estimators=10, criterion=gini, max_depth=20, min_samples_split=1, min_samples_leaf=1, max_samples=None, keep_data=30.0%)</th>\n",
       "      <th>Test Acc (min_df=0.0, max_df=0.5, n_estimators=10, criterion=gini, max_depth=20, min_samples_split=1, min_samples_leaf=1, max_samples=None, keep_data=30.0%)</th>\n",
       "      <th>Train Acc (min_df=0.0, max_df=0.5, n_estimators=10, criterion=gini, max_depth=20, min_samples_split=1, min_samples_leaf=1, max_samples=None, keep_data=40.0%)</th>\n",
       "      <th>Test Acc (min_df=0.0, max_df=0.5, n_estimators=10, criterion=gini, max_depth=20, min_samples_split=1, min_samples_leaf=1, max_samples=None, keep_data=40.0%)</th>\n",
       "      <th>Train Acc (min_df=0.0, max_df=0.5, n_estimators=10, criterion=gini, max_depth=20, min_samples_split=1, min_samples_leaf=1, max_samples=0.6, keep_data=10.0%)</th>\n",
       "      <th>Test Acc (min_df=0.0, max_df=0.5, n_estimators=10, criterion=gini, max_depth=20, min_samples_split=1, min_samples_leaf=1, max_samples=0.6, keep_data=10.0%)</th>\n",
       "      <th>...</th>\n",
       "      <th>Train Acc (min_df=0.3, max_df=1.0, n_estimators=200, criterion=entropy, max_depth=None, min_samples_split=10, min_samples_leaf=10, max_samples=0.6, keep_data=40.0%)</th>\n",
       "      <th>Test Acc (min_df=0.3, max_df=1.0, n_estimators=200, criterion=entropy, max_depth=None, min_samples_split=10, min_samples_leaf=10, max_samples=0.6, keep_data=40.0%)</th>\n",
       "      <th>Train Acc (min_df=0.3, max_df=1.0, n_estimators=200, criterion=entropy, max_depth=None, min_samples_split=10, min_samples_leaf=10, max_samples=0.8, keep_data=10.0%)</th>\n",
       "      <th>Test Acc (min_df=0.3, max_df=1.0, n_estimators=200, criterion=entropy, max_depth=None, min_samples_split=10, min_samples_leaf=10, max_samples=0.8, keep_data=10.0%)</th>\n",
       "      <th>Train Acc (min_df=0.3, max_df=1.0, n_estimators=200, criterion=entropy, max_depth=None, min_samples_split=10, min_samples_leaf=10, max_samples=0.8, keep_data=20.0%)</th>\n",
       "      <th>Test Acc (min_df=0.3, max_df=1.0, n_estimators=200, criterion=entropy, max_depth=None, min_samples_split=10, min_samples_leaf=10, max_samples=0.8, keep_data=20.0%)</th>\n",
       "      <th>Train Acc (min_df=0.3, max_df=1.0, n_estimators=200, criterion=entropy, max_depth=None, min_samples_split=10, min_samples_leaf=10, max_samples=0.8, keep_data=30.0%)</th>\n",
       "      <th>Test Acc (min_df=0.3, max_df=1.0, n_estimators=200, criterion=entropy, max_depth=None, min_samples_split=10, min_samples_leaf=10, max_samples=0.8, keep_data=30.0%)</th>\n",
       "      <th>Train Acc (min_df=0.3, max_df=1.0, n_estimators=200, criterion=entropy, max_depth=None, min_samples_split=10, min_samples_leaf=10, max_samples=0.8, keep_data=40.0%)</th>\n",
       "      <th>Test Acc (min_df=0.3, max_df=1.0, n_estimators=200, criterion=entropy, max_depth=None, min_samples_split=10, min_samples_leaf=10, max_samples=0.8, keep_data=40.0%)</th>\n",
       "    </tr>\n",
       "  </thead>\n",
       "  <tbody>\n",
       "    <tr>\n",
       "      <th>Batch-1</th>\n",
       "      <td>0.966942</td>\n",
       "      <td>0.774194</td>\n",
       "      <td>0.958678</td>\n",
       "      <td>0.806452</td>\n",
       "      <td>0.983471</td>\n",
       "      <td>0.903226</td>\n",
       "      <td>0.950413</td>\n",
       "      <td>0.903226</td>\n",
       "      <td>0.958678</td>\n",
       "      <td>0.838710</td>\n",
       "      <td>...</td>\n",
       "      <td>0.876033</td>\n",
       "      <td>1.000000</td>\n",
       "      <td>0.876033</td>\n",
       "      <td>1.000000</td>\n",
       "      <td>0.876033</td>\n",
       "      <td>1.000000</td>\n",
       "      <td>0.876033</td>\n",
       "      <td>1.000000</td>\n",
       "      <td>0.876033</td>\n",
       "      <td>1.000000</td>\n",
       "    </tr>\n",
       "    <tr>\n",
       "      <th>Batch-2</th>\n",
       "      <td>0.958678</td>\n",
       "      <td>0.967742</td>\n",
       "      <td>0.966942</td>\n",
       "      <td>1.000000</td>\n",
       "      <td>0.958678</td>\n",
       "      <td>1.000000</td>\n",
       "      <td>0.975207</td>\n",
       "      <td>1.000000</td>\n",
       "      <td>0.942149</td>\n",
       "      <td>1.000000</td>\n",
       "      <td>...</td>\n",
       "      <td>0.876033</td>\n",
       "      <td>1.000000</td>\n",
       "      <td>0.876033</td>\n",
       "      <td>1.000000</td>\n",
       "      <td>0.876033</td>\n",
       "      <td>1.000000</td>\n",
       "      <td>0.876033</td>\n",
       "      <td>1.000000</td>\n",
       "      <td>0.876033</td>\n",
       "      <td>1.000000</td>\n",
       "    </tr>\n",
       "    <tr>\n",
       "      <th>Batch-3</th>\n",
       "      <td>0.959016</td>\n",
       "      <td>0.866667</td>\n",
       "      <td>0.959016</td>\n",
       "      <td>0.833333</td>\n",
       "      <td>0.950820</td>\n",
       "      <td>0.900000</td>\n",
       "      <td>0.959016</td>\n",
       "      <td>0.833333</td>\n",
       "      <td>0.942623</td>\n",
       "      <td>0.866667</td>\n",
       "      <td>...</td>\n",
       "      <td>0.893443</td>\n",
       "      <td>0.933333</td>\n",
       "      <td>0.893443</td>\n",
       "      <td>0.933333</td>\n",
       "      <td>0.893443</td>\n",
       "      <td>0.933333</td>\n",
       "      <td>0.893443</td>\n",
       "      <td>0.933333</td>\n",
       "      <td>0.893443</td>\n",
       "      <td>0.933333</td>\n",
       "    </tr>\n",
       "    <tr>\n",
       "      <th>Batch-4</th>\n",
       "      <td>0.975410</td>\n",
       "      <td>0.866667</td>\n",
       "      <td>0.967213</td>\n",
       "      <td>0.933333</td>\n",
       "      <td>0.983607</td>\n",
       "      <td>0.900000</td>\n",
       "      <td>0.950820</td>\n",
       "      <td>0.866667</td>\n",
       "      <td>0.918033</td>\n",
       "      <td>0.833333</td>\n",
       "      <td>...</td>\n",
       "      <td>0.893443</td>\n",
       "      <td>0.933333</td>\n",
       "      <td>0.893443</td>\n",
       "      <td>0.933333</td>\n",
       "      <td>0.893443</td>\n",
       "      <td>0.933333</td>\n",
       "      <td>0.893443</td>\n",
       "      <td>0.933333</td>\n",
       "      <td>0.893443</td>\n",
       "      <td>0.933333</td>\n",
       "    </tr>\n",
       "    <tr>\n",
       "      <th>Batch-5</th>\n",
       "      <td>0.975410</td>\n",
       "      <td>0.633333</td>\n",
       "      <td>0.975410</td>\n",
       "      <td>0.633333</td>\n",
       "      <td>0.983607</td>\n",
       "      <td>0.500000</td>\n",
       "      <td>0.983607</td>\n",
       "      <td>0.633333</td>\n",
       "      <td>0.975410</td>\n",
       "      <td>0.566667</td>\n",
       "      <td>...</td>\n",
       "      <td>0.967213</td>\n",
       "      <td>0.633333</td>\n",
       "      <td>0.967213</td>\n",
       "      <td>0.633333</td>\n",
       "      <td>0.967213</td>\n",
       "      <td>0.633333</td>\n",
       "      <td>0.967213</td>\n",
       "      <td>0.633333</td>\n",
       "      <td>0.967213</td>\n",
       "      <td>0.633333</td>\n",
       "    </tr>\n",
       "    <tr>\n",
       "      <th>Average</th>\n",
       "      <td>0.967091</td>\n",
       "      <td>0.821720</td>\n",
       "      <td>0.965452</td>\n",
       "      <td>0.841290</td>\n",
       "      <td>0.972036</td>\n",
       "      <td>0.840645</td>\n",
       "      <td>0.963812</td>\n",
       "      <td>0.847312</td>\n",
       "      <td>0.947378</td>\n",
       "      <td>0.821075</td>\n",
       "      <td>...</td>\n",
       "      <td>0.901233</td>\n",
       "      <td>0.900000</td>\n",
       "      <td>0.901233</td>\n",
       "      <td>0.900000</td>\n",
       "      <td>0.901233</td>\n",
       "      <td>0.900000</td>\n",
       "      <td>0.901233</td>\n",
       "      <td>0.900000</td>\n",
       "      <td>0.901233</td>\n",
       "      <td>0.900000</td>\n",
       "    </tr>\n",
       "  </tbody>\n",
       "</table>\n",
       "<p>6 rows × 55296 columns</p>\n",
       "</div>"
      ],
      "text/plain": [
       "         Train Acc (min_df=0.0, max_df=0.5, n_estimators=10, criterion=gini, max_depth=20, min_samples_split=1, min_samples_leaf=1, max_samples=None, keep_data=10.0%)  \\\n",
       "Batch-1                                           0.966942                                                                                                               \n",
       "Batch-2                                           0.958678                                                                                                               \n",
       "Batch-3                                           0.959016                                                                                                               \n",
       "Batch-4                                           0.975410                                                                                                               \n",
       "Batch-5                                           0.975410                                                                                                               \n",
       "Average                                           0.967091                                                                                                               \n",
       "\n",
       "         Test Acc (min_df=0.0, max_df=0.5, n_estimators=10, criterion=gini, max_depth=20, min_samples_split=1, min_samples_leaf=1, max_samples=None, keep_data=10.0%)  \\\n",
       "Batch-1                                           0.774194                                                                                                              \n",
       "Batch-2                                           0.967742                                                                                                              \n",
       "Batch-3                                           0.866667                                                                                                              \n",
       "Batch-4                                           0.866667                                                                                                              \n",
       "Batch-5                                           0.633333                                                                                                              \n",
       "Average                                           0.821720                                                                                                              \n",
       "\n",
       "         Train Acc (min_df=0.0, max_df=0.5, n_estimators=10, criterion=gini, max_depth=20, min_samples_split=1, min_samples_leaf=1, max_samples=None, keep_data=20.0%)  \\\n",
       "Batch-1                                           0.958678                                                                                                               \n",
       "Batch-2                                           0.966942                                                                                                               \n",
       "Batch-3                                           0.959016                                                                                                               \n",
       "Batch-4                                           0.967213                                                                                                               \n",
       "Batch-5                                           0.975410                                                                                                               \n",
       "Average                                           0.965452                                                                                                               \n",
       "\n",
       "         Test Acc (min_df=0.0, max_df=0.5, n_estimators=10, criterion=gini, max_depth=20, min_samples_split=1, min_samples_leaf=1, max_samples=None, keep_data=20.0%)  \\\n",
       "Batch-1                                           0.806452                                                                                                              \n",
       "Batch-2                                           1.000000                                                                                                              \n",
       "Batch-3                                           0.833333                                                                                                              \n",
       "Batch-4                                           0.933333                                                                                                              \n",
       "Batch-5                                           0.633333                                                                                                              \n",
       "Average                                           0.841290                                                                                                              \n",
       "\n",
       "         Train Acc (min_df=0.0, max_df=0.5, n_estimators=10, criterion=gini, max_depth=20, min_samples_split=1, min_samples_leaf=1, max_samples=None, keep_data=30.0%)  \\\n",
       "Batch-1                                           0.983471                                                                                                               \n",
       "Batch-2                                           0.958678                                                                                                               \n",
       "Batch-3                                           0.950820                                                                                                               \n",
       "Batch-4                                           0.983607                                                                                                               \n",
       "Batch-5                                           0.983607                                                                                                               \n",
       "Average                                           0.972036                                                                                                               \n",
       "\n",
       "         Test Acc (min_df=0.0, max_df=0.5, n_estimators=10, criterion=gini, max_depth=20, min_samples_split=1, min_samples_leaf=1, max_samples=None, keep_data=30.0%)  \\\n",
       "Batch-1                                           0.903226                                                                                                              \n",
       "Batch-2                                           1.000000                                                                                                              \n",
       "Batch-3                                           0.900000                                                                                                              \n",
       "Batch-4                                           0.900000                                                                                                              \n",
       "Batch-5                                           0.500000                                                                                                              \n",
       "Average                                           0.840645                                                                                                              \n",
       "\n",
       "         Train Acc (min_df=0.0, max_df=0.5, n_estimators=10, criterion=gini, max_depth=20, min_samples_split=1, min_samples_leaf=1, max_samples=None, keep_data=40.0%)  \\\n",
       "Batch-1                                           0.950413                                                                                                               \n",
       "Batch-2                                           0.975207                                                                                                               \n",
       "Batch-3                                           0.959016                                                                                                               \n",
       "Batch-4                                           0.950820                                                                                                               \n",
       "Batch-5                                           0.983607                                                                                                               \n",
       "Average                                           0.963812                                                                                                               \n",
       "\n",
       "         Test Acc (min_df=0.0, max_df=0.5, n_estimators=10, criterion=gini, max_depth=20, min_samples_split=1, min_samples_leaf=1, max_samples=None, keep_data=40.0%)  \\\n",
       "Batch-1                                           0.903226                                                                                                              \n",
       "Batch-2                                           1.000000                                                                                                              \n",
       "Batch-3                                           0.833333                                                                                                              \n",
       "Batch-4                                           0.866667                                                                                                              \n",
       "Batch-5                                           0.633333                                                                                                              \n",
       "Average                                           0.847312                                                                                                              \n",
       "\n",
       "         Train Acc (min_df=0.0, max_df=0.5, n_estimators=10, criterion=gini, max_depth=20, min_samples_split=1, min_samples_leaf=1, max_samples=0.6, keep_data=10.0%)  \\\n",
       "Batch-1                                           0.958678                                                                                                              \n",
       "Batch-2                                           0.942149                                                                                                              \n",
       "Batch-3                                           0.942623                                                                                                              \n",
       "Batch-4                                           0.918033                                                                                                              \n",
       "Batch-5                                           0.975410                                                                                                              \n",
       "Average                                           0.947378                                                                                                              \n",
       "\n",
       "         Test Acc (min_df=0.0, max_df=0.5, n_estimators=10, criterion=gini, max_depth=20, min_samples_split=1, min_samples_leaf=1, max_samples=0.6, keep_data=10.0%)  \\\n",
       "Batch-1                                           0.838710                                                                                                             \n",
       "Batch-2                                           1.000000                                                                                                             \n",
       "Batch-3                                           0.866667                                                                                                             \n",
       "Batch-4                                           0.833333                                                                                                             \n",
       "Batch-5                                           0.566667                                                                                                             \n",
       "Average                                           0.821075                                                                                                             \n",
       "\n",
       "         ...  \\\n",
       "Batch-1  ...   \n",
       "Batch-2  ...   \n",
       "Batch-3  ...   \n",
       "Batch-4  ...   \n",
       "Batch-5  ...   \n",
       "Average  ...   \n",
       "\n",
       "         Train Acc (min_df=0.3, max_df=1.0, n_estimators=200, criterion=entropy, max_depth=None, min_samples_split=10, min_samples_leaf=10, max_samples=0.6, keep_data=40.0%)  \\\n",
       "Batch-1                                           0.876033                                                                                                                      \n",
       "Batch-2                                           0.876033                                                                                                                      \n",
       "Batch-3                                           0.893443                                                                                                                      \n",
       "Batch-4                                           0.893443                                                                                                                      \n",
       "Batch-5                                           0.967213                                                                                                                      \n",
       "Average                                           0.901233                                                                                                                      \n",
       "\n",
       "         Test Acc (min_df=0.3, max_df=1.0, n_estimators=200, criterion=entropy, max_depth=None, min_samples_split=10, min_samples_leaf=10, max_samples=0.6, keep_data=40.0%)  \\\n",
       "Batch-1                                           1.000000                                                                                                                     \n",
       "Batch-2                                           1.000000                                                                                                                     \n",
       "Batch-3                                           0.933333                                                                                                                     \n",
       "Batch-4                                           0.933333                                                                                                                     \n",
       "Batch-5                                           0.633333                                                                                                                     \n",
       "Average                                           0.900000                                                                                                                     \n",
       "\n",
       "         Train Acc (min_df=0.3, max_df=1.0, n_estimators=200, criterion=entropy, max_depth=None, min_samples_split=10, min_samples_leaf=10, max_samples=0.8, keep_data=10.0%)  \\\n",
       "Batch-1                                           0.876033                                                                                                                      \n",
       "Batch-2                                           0.876033                                                                                                                      \n",
       "Batch-3                                           0.893443                                                                                                                      \n",
       "Batch-4                                           0.893443                                                                                                                      \n",
       "Batch-5                                           0.967213                                                                                                                      \n",
       "Average                                           0.901233                                                                                                                      \n",
       "\n",
       "         Test Acc (min_df=0.3, max_df=1.0, n_estimators=200, criterion=entropy, max_depth=None, min_samples_split=10, min_samples_leaf=10, max_samples=0.8, keep_data=10.0%)  \\\n",
       "Batch-1                                           1.000000                                                                                                                     \n",
       "Batch-2                                           1.000000                                                                                                                     \n",
       "Batch-3                                           0.933333                                                                                                                     \n",
       "Batch-4                                           0.933333                                                                                                                     \n",
       "Batch-5                                           0.633333                                                                                                                     \n",
       "Average                                           0.900000                                                                                                                     \n",
       "\n",
       "         Train Acc (min_df=0.3, max_df=1.0, n_estimators=200, criterion=entropy, max_depth=None, min_samples_split=10, min_samples_leaf=10, max_samples=0.8, keep_data=20.0%)  \\\n",
       "Batch-1                                           0.876033                                                                                                                      \n",
       "Batch-2                                           0.876033                                                                                                                      \n",
       "Batch-3                                           0.893443                                                                                                                      \n",
       "Batch-4                                           0.893443                                                                                                                      \n",
       "Batch-5                                           0.967213                                                                                                                      \n",
       "Average                                           0.901233                                                                                                                      \n",
       "\n",
       "         Test Acc (min_df=0.3, max_df=1.0, n_estimators=200, criterion=entropy, max_depth=None, min_samples_split=10, min_samples_leaf=10, max_samples=0.8, keep_data=20.0%)  \\\n",
       "Batch-1                                           1.000000                                                                                                                     \n",
       "Batch-2                                           1.000000                                                                                                                     \n",
       "Batch-3                                           0.933333                                                                                                                     \n",
       "Batch-4                                           0.933333                                                                                                                     \n",
       "Batch-5                                           0.633333                                                                                                                     \n",
       "Average                                           0.900000                                                                                                                     \n",
       "\n",
       "         Train Acc (min_df=0.3, max_df=1.0, n_estimators=200, criterion=entropy, max_depth=None, min_samples_split=10, min_samples_leaf=10, max_samples=0.8, keep_data=30.0%)  \\\n",
       "Batch-1                                           0.876033                                                                                                                      \n",
       "Batch-2                                           0.876033                                                                                                                      \n",
       "Batch-3                                           0.893443                                                                                                                      \n",
       "Batch-4                                           0.893443                                                                                                                      \n",
       "Batch-5                                           0.967213                                                                                                                      \n",
       "Average                                           0.901233                                                                                                                      \n",
       "\n",
       "         Test Acc (min_df=0.3, max_df=1.0, n_estimators=200, criterion=entropy, max_depth=None, min_samples_split=10, min_samples_leaf=10, max_samples=0.8, keep_data=30.0%)  \\\n",
       "Batch-1                                           1.000000                                                                                                                     \n",
       "Batch-2                                           1.000000                                                                                                                     \n",
       "Batch-3                                           0.933333                                                                                                                     \n",
       "Batch-4                                           0.933333                                                                                                                     \n",
       "Batch-5                                           0.633333                                                                                                                     \n",
       "Average                                           0.900000                                                                                                                     \n",
       "\n",
       "         Train Acc (min_df=0.3, max_df=1.0, n_estimators=200, criterion=entropy, max_depth=None, min_samples_split=10, min_samples_leaf=10, max_samples=0.8, keep_data=40.0%)  \\\n",
       "Batch-1                                           0.876033                                                                                                                      \n",
       "Batch-2                                           0.876033                                                                                                                      \n",
       "Batch-3                                           0.893443                                                                                                                      \n",
       "Batch-4                                           0.893443                                                                                                                      \n",
       "Batch-5                                           0.967213                                                                                                                      \n",
       "Average                                           0.901233                                                                                                                      \n",
       "\n",
       "         Test Acc (min_df=0.3, max_df=1.0, n_estimators=200, criterion=entropy, max_depth=None, min_samples_split=10, min_samples_leaf=10, max_samples=0.8, keep_data=40.0%)  \n",
       "Batch-1                                           1.000000                                                                                                                    \n",
       "Batch-2                                           1.000000                                                                                                                    \n",
       "Batch-3                                           0.933333                                                                                                                    \n",
       "Batch-4                                           0.933333                                                                                                                    \n",
       "Batch-5                                           0.633333                                                                                                                    \n",
       "Average                                           0.900000                                                                                                                    \n",
       "\n",
       "[6 rows x 55296 columns]"
      ]
     },
     "execution_count": 36,
     "metadata": {},
     "output_type": "execute_result"
    }
   ],
   "source": [
    "eval_history = {}\n",
    "for i in range(NUM_PARAMS):\n",
    "    eval_history[f'Train Acc (min_df={param_combinations[i][0]}, max_df={param_combinations[i][1]}, lr={param_combinations[i][2]}, n_prototypes={param_combinations[i][3]}, n_updates_to_stepdrop={param_combinations[i][4]}, epoch={param_combinations[i][5]}, keep_data={param_combinations[i][-1]*100}%)'] = train_history[i] \n",
    "    eval_history[f'Test Acc (min_df={param_combinations[i][0]}, max_df={param_combinations[i][1]}, lr={param_combinations[i][2]}, n_prototypes={param_combinations[i][3]}, n_updates_to_stepdrop={param_combinations[i][4]}, epoch={param_combinations[i][5]}, keep_data={param_combinations[i][-1]*100}%)'] = test_history[i]\n",
    "       \n",
    "    \n",
    "history_qer = pd.DataFrame(eval_history, index=['Batch-1', 'Batch-2', 'Batch-3', \n",
    "                                                  'Batch-4', 'Batch-5', 'Average'])\n",
    "history_qer"
   ]
  },
  {
   "cell_type": "code",
   "execution_count": 37,
   "metadata": {},
   "outputs": [
    {
     "data": {
      "text/plain": [
       "'Test Acc (min_df=0.1, max_df=0.5, n_estimators=10, criterion=entropy, max_depth=20, min_samples_split=5, min_samples_leaf=5, max_samples=0.6, keep_data=20.0%)'"
      ]
     },
     "execution_count": 37,
     "metadata": {},
     "output_type": "execute_result"
    }
   ],
   "source": [
    "test_col = [col for col in history_qer.columns if col.startswith('Test')]\n",
    "test_col[history_qer.loc['Average', test_col].argmax()]\n"
   ]
  },
  {
   "cell_type": "code",
   "execution_count": 38,
   "metadata": {},
   "outputs": [
    {
     "data": {
      "text/html": [
       "<div>\n",
       "<style scoped>\n",
       "    .dataframe tbody tr th:only-of-type {\n",
       "        vertical-align: middle;\n",
       "    }\n",
       "\n",
       "    .dataframe tbody tr th {\n",
       "        vertical-align: top;\n",
       "    }\n",
       "\n",
       "    .dataframe thead th {\n",
       "        text-align: right;\n",
       "    }\n",
       "</style>\n",
       "<table border=\"1\" class=\"dataframe\">\n",
       "  <thead>\n",
       "    <tr style=\"text-align: right;\">\n",
       "      <th></th>\n",
       "      <th>Train Acc (min_df=0.1, max_df=0.5, n_estimators=10, criterion=entropy, max_depth=20, min_samples_split=5, min_samples_leaf=5, max_samples=0.6, keep_data=20.0%)</th>\n",
       "      <th>Test Acc (min_df=0.1, max_df=0.5, n_estimators=10, criterion=entropy, max_depth=20, min_samples_split=5, min_samples_leaf=5, max_samples=0.6, keep_data=20.0%)</th>\n",
       "    </tr>\n",
       "  </thead>\n",
       "  <tbody>\n",
       "    <tr>\n",
       "      <th>Batch-1</th>\n",
       "      <td>0.892562</td>\n",
       "      <td>0.967742</td>\n",
       "    </tr>\n",
       "    <tr>\n",
       "      <th>Batch-2</th>\n",
       "      <td>0.867769</td>\n",
       "      <td>1.000000</td>\n",
       "    </tr>\n",
       "    <tr>\n",
       "      <th>Batch-3</th>\n",
       "      <td>0.893443</td>\n",
       "      <td>0.933333</td>\n",
       "    </tr>\n",
       "    <tr>\n",
       "      <th>Batch-4</th>\n",
       "      <td>0.885246</td>\n",
       "      <td>0.933333</td>\n",
       "    </tr>\n",
       "    <tr>\n",
       "      <th>Batch-5</th>\n",
       "      <td>0.959016</td>\n",
       "      <td>0.666667</td>\n",
       "    </tr>\n",
       "    <tr>\n",
       "      <th>Average</th>\n",
       "      <td>0.899607</td>\n",
       "      <td>0.900215</td>\n",
       "    </tr>\n",
       "  </tbody>\n",
       "</table>\n",
       "</div>"
      ],
      "text/plain": [
       "         Train Acc (min_df=0.1, max_df=0.5, n_estimators=10, criterion=entropy, max_depth=20, min_samples_split=5, min_samples_leaf=5, max_samples=0.6, keep_data=20.0%)  \\\n",
       "Batch-1                                           0.892562                                                                                                                 \n",
       "Batch-2                                           0.867769                                                                                                                 \n",
       "Batch-3                                           0.893443                                                                                                                 \n",
       "Batch-4                                           0.885246                                                                                                                 \n",
       "Batch-5                                           0.959016                                                                                                                 \n",
       "Average                                           0.899607                                                                                                                 \n",
       "\n",
       "         Test Acc (min_df=0.1, max_df=0.5, n_estimators=10, criterion=entropy, max_depth=20, min_samples_split=5, min_samples_leaf=5, max_samples=0.6, keep_data=20.0%)  \n",
       "Batch-1                                           0.967742                                                                                                               \n",
       "Batch-2                                           1.000000                                                                                                               \n",
       "Batch-3                                           0.933333                                                                                                               \n",
       "Batch-4                                           0.933333                                                                                                               \n",
       "Batch-5                                           0.666667                                                                                                               \n",
       "Average                                           0.900215                                                                                                               "
      ]
     },
     "execution_count": 38,
     "metadata": {},
     "output_type": "execute_result"
    }
   ],
   "source": [
    "history_qer[['Train Acc (min_df=0.2, max_df=0.5, lr=0.1, n_prototypes=[3, 3], n_updates_to_stepdrop=3, epoch=150, keep_data=70.0%)', 'Test Acc (min_df=0.2, max_df=0.5, lr=0.1, n_prototypes=[3, 3], n_updates_to_stepdrop=3, epoch=150, keep_data=70.0%)']]"
   ]
  },
  {
   "cell_type": "markdown",
   "metadata": {},
   "source": [
    "We got <b>the best result</b> from LVQ-2 Model with <b>Query Expansion Ranking</b> \n",
    "as feature selection with we <b>keep 70% of dataset's features</b>,\n",
    "and another parameter from TF-IDF such as \n",
    "<b>minimum</b> of word's occurrences is <b>20%</b> of total documents, \n",
    "<b>maximum</b> of word's occurrences is <b>50%</b> of total documents, \n",
    "with using <b>learning rate = 0.1</b> with <b>3 prototypes</b> each class,\n",
    "<b>3 epochs to drop learning rate</b>, and <b>epochs = 150</b>,\n",
    "that is: <h3>90.00%</h3>"
   ]
  },
  {
   "cell_type": "markdown",
   "metadata": {},
   "source": [
    "## Result"
   ]
  },
  {
   "cell_type": "code",
   "execution_count": 3,
   "metadata": {
    "scrolled": true
   },
   "outputs": [
    {
     "data": {
      "text/html": [
       "<div>\n",
       "<style scoped>\n",
       "    .dataframe tbody tr th:only-of-type {\n",
       "        vertical-align: middle;\n",
       "    }\n",
       "\n",
       "    .dataframe tbody tr th {\n",
       "        vertical-align: top;\n",
       "    }\n",
       "\n",
       "    .dataframe thead th {\n",
       "        text-align: right;\n",
       "    }\n",
       "</style>\n",
       "<table border=\"1\" class=\"dataframe\">\n",
       "  <thead>\n",
       "    <tr style=\"text-align: right;\">\n",
       "      <th></th>\n",
       "      <th>Model + Feature Selection</th>\n",
       "      <th>Test Accuracy</th>\n",
       "    </tr>\n",
       "  </thead>\n",
       "  <tbody>\n",
       "    <tr>\n",
       "      <th>0</th>\n",
       "      <td>LVQ-2 + TF-IDF</td>\n",
       "      <td>88.69</td>\n",
       "    </tr>\n",
       "    <tr>\n",
       "      <th>1</th>\n",
       "      <td>LVQ-2 + IG + TF-IDF</td>\n",
       "      <td>88.67</td>\n",
       "    </tr>\n",
       "    <tr>\n",
       "      <th>2</th>\n",
       "      <td>LVQ-2 + CHI2 + TF-IDF</td>\n",
       "      <td>90.02</td>\n",
       "    </tr>\n",
       "    <tr>\n",
       "      <th>3</th>\n",
       "      <td>LVQ-2 + QER + TF-IDF</td>\n",
       "      <td>90.00</td>\n",
       "    </tr>\n",
       "  </tbody>\n",
       "</table>\n",
       "</div>"
      ],
      "text/plain": [
       "  Model + Feature Selection  Test Accuracy\n",
       "0            LVQ-2 + TF-IDF          88.69\n",
       "1       LVQ-2 + IG + TF-IDF          88.67\n",
       "2     LVQ-2 + CHI2 + TF-IDF          90.02\n",
       "3      LVQ-2 + QER + TF-IDF          90.00"
      ]
     },
     "execution_count": 3,
     "metadata": {},
     "output_type": "execute_result"
    }
   ],
   "source": [
    "models = ['LVQ-2 + TF-IDF', 'LVQ-2 + IG + TF-IDF', \n",
    "          'LVQ-2 + CHI2 + TF-IDF', 'LVQ-2 + QER + TF-IDF']\n",
    "test_accuracy_avg = [88.69, 88.67, 90.02, 90.00]\n",
    "\n",
    "res_df = pd.DataFrame({'Model + Feature Selection': models, 'Test Accuracy': test_accuracy_avg})\n",
    "res_df"
   ]
  },
  {
   "cell_type": "code",
   "execution_count": 4,
   "metadata": {},
   "outputs": [
    {
     "data": {
      "text/plain": [
       "(80.0, 95.0)"
      ]
     },
     "execution_count": 4,
     "metadata": {},
     "output_type": "execute_result"
    },
    {
     "data": {
      "image/png": "[encoded data removed]",
      "text/plain": [
       "<Figure size 864x432 with 1 Axes>"
      ]
     },
     "metadata": {},
     "output_type": "display_data"
    }
   ],
   "source": [
    "sns.set_style(\"whitegrid\")\n",
    "sns.set(rc={'figure.figsize':(12, 6)})\n",
    "\n",
    "ax = sns.barplot(x='Test Accuracy', y='Model + Feature Selection', data=res_df)\n",
    "ax.set_xlabel('Test Accuracy (100%)')\n",
    "plt.xticks([i*10 for i in range(11)])\n",
    "plt.xlim([80, 95])"
   ]
  },
  {
   "cell_type": "code",
   "execution_count": null,
   "metadata": {},
   "outputs": [],
   "source": []
  }
 ],
 "metadata": {
  "kernelspec": {
   "display_name": "project_env",
   "language": "python",
   "name": "project_env"
  },
  "language_info": {
   "codemirror_mode": {
    "name": "ipython",
    "version": 3
   },
   "file_extension": ".py",
   "mimetype": "text/x-python",
   "name": "python",
   "nbconvert_exporter": "python",
   "pygments_lexer": "ipython3",
   "version": "3.7.6"
  }
 },
 "nbformat": 4,
 "nbformat_minor": 4
}
