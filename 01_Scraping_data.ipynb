{
 "cells": [
  {
   "cell_type": "markdown",
   "metadata": {},
   "source": [
    "# Task"
   ]
  },
  {
   "cell_type": "markdown",
   "metadata": {},
   "source": [
    "Untuk langkah pertama, kita mulai dari data setnya dulu. saya belum memiliki data setnya, jadi harus d scrapping dulu dari komentar di google apps store.<br><br>\n",
    "setelah d scrapping, saya yg akan melabeli data tersebut. untuk sementara itu dulu. familier dengan webscrapper kan?\n",
    "<b>komentar apps (beserta tanggalnya ya)</b> yang harus d scrap adalah:\n",
    "<ol>\n",
    "    <li>https://play.google.com/store/apps/details?id=src.com.bni</li>\n",
    "    <li>https://play.google.com/store/apps/details?id=com.bca</li>\n",
    "    <li>https://play.google.com/store/apps/details?id=bri.delivery.brimobile</li>\n",
    "    <li>https://play.google.com/store/apps/details?id=com.dwidasa.bjtm.mb.android</li>\n",
    "    <li>https://play.google.com/store/apps/details?id=com.bankmandiri.mandirionline</li>\n",
    "    <li>https://play.google.com/store/apps/details?id=com.btn</li>\n",
    "    <li>https://play.google.com/store/apps/details?id=com.panin.mobilepanin</li>\n",
    "    <li>https://play.google.com/store/apps/details?id=com.aprisma.product.primemobile.btn</li>\n",
    "</ol>\n",
    "sebanyak apa, sebanyak yg Anda bisa heheheh\n",
    "sekalian nanti buat data ujinya"
   ]
  },
  {
   "cell_type": "markdown",
   "metadata": {},
   "source": [
    "## Source\n",
    "<ul>\n",
    "    <li>https://www.curiousily.com/posts/create-dataset-for-sentiment-analysis-by-scraping-google-play-app-reviews-using-python/</li>\n",
    "    <li>https://github.com/JoMingyu/google-play-scraper</li>\n",
    "</ul>"
   ]
  },
  {
   "cell_type": "code",
   "execution_count": 99,
   "metadata": {},
   "outputs": [
    {
     "name": "stdout",
     "output_type": "stream",
     "text": [
      "0.0.3.0\n"
     ]
    }
   ],
   "source": [
    "from datetime import datetime\n",
    "import json\n",
    "import pandas as pd\n",
    "\n",
    "import google_play_scraper as gp_scrap\n",
    "print(gp_scrap.__version__)"
   ]
  },
  {
   "cell_type": "markdown",
   "metadata": {},
   "source": [
    "## Scrap the reviews"
   ]
  },
  {
   "cell_type": "code",
   "execution_count": 79,
   "metadata": {},
   "outputs": [
    {
     "data": {
      "text/plain": [
       "15679"
      ]
     },
     "execution_count": 79,
     "metadata": {},
     "output_type": "execute_result"
    }
   ],
   "source": [
    "bni_ds = gp_scrap.reviews_all(\n",
    "    'src.com.bni',\n",
    "    sleep_milliseconds=0,\n",
    "    sort=gp_scrap.Sort.MOST_RELEVANT, # defaults to Sort.MOST_RELEVANT\n",
    ")\n",
    "\n",
    "len(bni_ds)"
   ]
  },
  {
   "cell_type": "markdown",
   "metadata": {},
   "source": [
    "## Save into json file"
   ]
  },
  {
   "cell_type": "code",
   "execution_count": 80,
   "metadata": {},
   "outputs": [
    {
     "name": "stdout",
     "output_type": "stream",
     "text": [
      "done\n"
     ]
    }
   ],
   "source": [
    "def datetime_to_str(x):\n",
    "    if isinstance(x, datetime):\n",
    "        return str(x)\n",
    "    \n",
    "with open('bni_reviews.json', 'w') as file:\n",
    "    for data in bni_ds:\n",
    "        file.write(json.dumps(data, default=datetime_to_str)+'\\n')\n",
    "    \n",
    "print('done')"
   ]
  },
  {
   "cell_type": "markdown",
   "metadata": {},
   "source": [
    "## Export into excel file"
   ]
  },
  {
   "cell_type": "code",
   "execution_count": 81,
   "metadata": {},
   "outputs": [
    {
     "data": {
      "text/plain": [
       "15679"
      ]
     },
     "execution_count": 81,
     "metadata": {},
     "output_type": "execute_result"
    }
   ],
   "source": [
    "bni_reviews = []\n",
    "with open('bni_reviews.json', 'r') as file:\n",
    "    for row in file:\n",
    "        bni_reviews.append(json.loads(row))\n",
    "\n",
    "len(bni_reviews)"
   ]
  },
  {
   "cell_type": "code",
   "execution_count": 93,
   "metadata": {},
   "outputs": [
    {
     "data": {
      "text/plain": [
       "['2020-07-06 14:26:55', '2020-07-01 06:35:47', '2020-07-03 06:30:33']"
      ]
     },
     "execution_count": 93,
     "metadata": {},
     "output_type": "execute_result"
    }
   ],
   "source": [
    "dt = [bni_reviews[0]['at'],\n",
    "     bni_reviews[1]['at'],\n",
    "     bni_reviews[2]['at']]\n",
    "dt"
   ]
  },
  {
   "cell_type": "code",
   "execution_count": 84,
   "metadata": {},
   "outputs": [
    {
     "data": {
      "text/plain": [
       "{'reviewId': 'gp:AOqpTOH1X40H8aQ-pu75wG8-ddsNAtZR_vpBz949gnhuxZ0BRDsB2sswS3LgBI5ir_uA8nj9FkG4x1VN0e2aUic',\n",
       " 'userName': 'Renaning',\n",
       " 'userImage': 'https://lh3.googleusercontent.com/a-/AOh14GgkJioeHYjtABlaM730_lM1XI2Wrwo-yjYouYtFMw',\n",
       " 'content': \"I've been using it before without any problems until I reset my phone. I've tried several times re-send messages requesting for OTP code but I never got them, I've placed my registered number on SIM 1 + got enough balances for sending messages, but still [Edit: I just tried using resend feature on OTP code input page, and finally got the OTP code]\",\n",
       " 'score': 5,\n",
       " 'thumbsUpCount': 11,\n",
       " 'reviewCreatedVersion': '3.0.9.1',\n",
       " 'at': '2020-07-06 14:26:55',\n",
       " 'replyContent': 'Halo Mr /Ms Renaning, thank you for your positive review and rating for BNI Mobile Banking. It is our pleasure to provide you with best services. -Uli-',\n",
       " 'repliedAt': '2020-07-08 14:44:29'}"
      ]
     },
     "execution_count": 84,
     "metadata": {},
     "output_type": "execute_result"
    }
   ],
   "source": [
    "bni_reviews[0]"
   ]
  },
  {
   "cell_type": "code",
   "execution_count": 101,
   "metadata": {},
   "outputs": [
    {
     "data": {
      "text/plain": [
       "15679"
      ]
     },
     "execution_count": 101,
     "metadata": {},
     "output_type": "execute_result"
    }
   ],
   "source": [
    "DATETIME_FORMAT = '%Y-%m-%d %H:%M:%S'\n",
    "\n",
    "comment = []\n",
    "date = []\n",
    "for data in bni_reviews:\n",
    "    comment.append(data['content'])\n",
    "    date.append(datetime.strptime(data['at'], DATETIME_FORMAT).date())\n",
    "\n",
    "len(date)"
   ]
  },
  {
   "cell_type": "code",
   "execution_count": 102,
   "metadata": {},
   "outputs": [
    {
     "data": {
      "text/html": [
       "<div>\n",
       "<style scoped>\n",
       "    .dataframe tbody tr th:only-of-type {\n",
       "        vertical-align: middle;\n",
       "    }\n",
       "\n",
       "    .dataframe tbody tr th {\n",
       "        vertical-align: top;\n",
       "    }\n",
       "\n",
       "    .dataframe thead th {\n",
       "        text-align: right;\n",
       "    }\n",
       "</style>\n",
       "<table border=\"1\" class=\"dataframe\">\n",
       "  <thead>\n",
       "    <tr style=\"text-align: right;\">\n",
       "      <th></th>\n",
       "      <th>Date</th>\n",
       "      <th>Comment</th>\n",
       "    </tr>\n",
       "  </thead>\n",
       "  <tbody>\n",
       "    <tr>\n",
       "      <th>0</th>\n",
       "      <td>2020-07-06</td>\n",
       "      <td>I've been using it before without any problems...</td>\n",
       "    </tr>\n",
       "    <tr>\n",
       "      <th>1</th>\n",
       "      <td>2020-07-01</td>\n",
       "      <td>I never got the OTP number for some reason, I ...</td>\n",
       "    </tr>\n",
       "    <tr>\n",
       "      <th>2</th>\n",
       "      <td>2020-07-03</td>\n",
       "      <td>I have my account blocked (due to entering wro...</td>\n",
       "    </tr>\n",
       "    <tr>\n",
       "      <th>3</th>\n",
       "      <td>2020-07-05</td>\n",
       "      <td>Took me hundreds times to click the app until ...</td>\n",
       "    </tr>\n",
       "    <tr>\n",
       "      <th>4</th>\n",
       "      <td>2020-07-08</td>\n",
       "      <td>TOTALLY NOT WORKING I need to clear all app da...</td>\n",
       "    </tr>\n",
       "    <tr>\n",
       "      <th>...</th>\n",
       "      <td>...</td>\n",
       "      <td>...</td>\n",
       "    </tr>\n",
       "    <tr>\n",
       "      <th>15674</th>\n",
       "      <td>2016-09-09</td>\n",
       "      <td>Love</td>\n",
       "    </tr>\n",
       "    <tr>\n",
       "      <th>15675</th>\n",
       "      <td>2016-12-26</td>\n",
       "      <td>Good</td>\n",
       "    </tr>\n",
       "    <tr>\n",
       "      <th>15676</th>\n",
       "      <td>2015-12-01</td>\n",
       "      <td>good</td>\n",
       "    </tr>\n",
       "    <tr>\n",
       "      <th>15677</th>\n",
       "      <td>2019-12-02</td>\n",
       "      <td>Good....</td>\n",
       "    </tr>\n",
       "    <tr>\n",
       "      <th>15678</th>\n",
       "      <td>2017-02-21</td>\n",
       "      <td>None</td>\n",
       "    </tr>\n",
       "  </tbody>\n",
       "</table>\n",
       "<p>15679 rows × 2 columns</p>\n",
       "</div>"
      ],
      "text/plain": [
       "             Date                                            Comment\n",
       "0      2020-07-06  I've been using it before without any problems...\n",
       "1      2020-07-01  I never got the OTP number for some reason, I ...\n",
       "2      2020-07-03  I have my account blocked (due to entering wro...\n",
       "3      2020-07-05  Took me hundreds times to click the app until ...\n",
       "4      2020-07-08  TOTALLY NOT WORKING I need to clear all app da...\n",
       "...           ...                                                ...\n",
       "15674  2016-09-09                                               Love\n",
       "15675  2016-12-26                                               Good\n",
       "15676  2015-12-01                                               good\n",
       "15677  2019-12-02                                           Good....\n",
       "15678  2017-02-21                                               None\n",
       "\n",
       "[15679 rows x 2 columns]"
      ]
     },
     "execution_count": 102,
     "metadata": {},
     "output_type": "execute_result"
    }
   ],
   "source": [
    "df = pd.DataFrame({'Date': date, 'Comment': comment})\n",
    "df"
   ]
  },
  {
   "cell_type": "code",
   "execution_count": 103,
   "metadata": {},
   "outputs": [],
   "source": [
    "df.to_excel('bni_reviews.xlsx', index=False)"
   ]
  },
  {
   "cell_type": "markdown",
   "metadata": {},
   "source": [
    "## Scrap reviews from other apps and save it"
   ]
  },
  {
   "cell_type": "code",
   "execution_count": 107,
   "metadata": {},
   "outputs": [
    {
     "name": "stdout",
     "output_type": "stream",
     "text": [
      "41986\n"
     ]
    }
   ],
   "source": [
    "bca_ds = gp_scrap.reviews_all(\n",
    "    'com.bca',\n",
    "    sleep_milliseconds=0,\n",
    "    sort=gp_scrap.Sort.MOST_RELEVANT, # defaults to Sort.MOST_RELEVANT\n",
    ")\n",
    "\n",
    "print(len(bca_ds))\n",
    "\n",
    "with open('bca_reviews.json', 'w') as file:\n",
    "    for data in bca_ds:\n",
    "        file.write(json.dumps(data, default=datetime_to_str)+'\\n')"
   ]
  },
  {
   "cell_type": "code",
   "execution_count": 108,
   "metadata": {},
   "outputs": [
    {
     "name": "stdout",
     "output_type": "stream",
     "text": [
      "6538\n"
     ]
    }
   ],
   "source": [
    "bri_ds = gp_scrap.reviews_all(\n",
    "    'bri.delivery.brimobile',\n",
    "    sleep_milliseconds=0,\n",
    "    sort=gp_scrap.Sort.MOST_RELEVANT, # defaults to Sort.MOST_RELEVANT\n",
    ")\n",
    "\n",
    "print(len(bri_ds))\n",
    "\n",
    "with open('bri_reviews.json', 'w') as file:\n",
    "    for data in bri_ds:\n",
    "        file.write(json.dumps(data, default=datetime_to_str)+'\\n')"
   ]
  },
  {
   "cell_type": "code",
   "execution_count": 109,
   "metadata": {},
   "outputs": [
    {
     "name": "stdout",
     "output_type": "stream",
     "text": [
      "345\n"
     ]
    }
   ],
   "source": [
    "\n",
    "bjtm_ds = gp_scrap.reviews_all(\n",
    "    'com.dwidasa.bjtm.mb.android',\n",
    "    sleep_milliseconds=0,\n",
    "    sort=gp_scrap.Sort.MOST_RELEVANT, # defaults to Sort.MOST_RELEVANT\n",
    ")\n",
    "\n",
    "print(len(bjtm_ds))\n",
    "\n",
    "with open('bjtm_reviews.json', 'w') as file:\n",
    "    for data in bjtm_ds:\n",
    "        file.write(json.dumps(data, default=datetime_to_str)+'\\n')"
   ]
  },
  {
   "cell_type": "code",
   "execution_count": 110,
   "metadata": {},
   "outputs": [
    {
     "name": "stdout",
     "output_type": "stream",
     "text": [
      "22023\n"
     ]
    }
   ],
   "source": [
    "mandiri_ds = gp_scrap.reviews_all(\n",
    "    'com.bankmandiri.mandirionline',\n",
    "    sleep_milliseconds=0,\n",
    "    sort=gp_scrap.Sort.MOST_RELEVANT, # defaults to Sort.MOST_RELEVANT\n",
    ")\n",
    "\n",
    "print(len(mandiri_ds))\n",
    "\n",
    "with open('mandiri_reviews.json', 'w') as file:\n",
    "    for data in mandiri_ds:\n",
    "        file.write(json.dumps(data, default=datetime_to_str)+'\\n')"
   ]
  },
  {
   "cell_type": "code",
   "execution_count": 111,
   "metadata": {},
   "outputs": [
    {
     "name": "stdout",
     "output_type": "stream",
     "text": [
      "2081\n"
     ]
    }
   ],
   "source": [
    "btn_ds = gp_scrap.reviews_all(\n",
    "    'com.btn',\n",
    "    sleep_milliseconds=0,\n",
    "    sort=gp_scrap.Sort.MOST_RELEVANT, # defaults to Sort.MOST_RELEVANT\n",
    ")\n",
    "\n",
    "print(len(btn_ds))\n",
    "\n",
    "with open('btn_reviews.json', 'w') as file:\n",
    "    for data in btn_ds:\n",
    "        file.write(json.dumps(data, default=datetime_to_str)+'\\n')"
   ]
  },
  {
   "cell_type": "code",
   "execution_count": 113,
   "metadata": {},
   "outputs": [
    {
     "name": "stdout",
     "output_type": "stream",
     "text": [
      "444\n"
     ]
    }
   ],
   "source": [
    "panin_ds = gp_scrap.reviews_all(\n",
    "    'com.panin.mobilepanin',\n",
    "    sleep_milliseconds=0,\n",
    "    sort=gp_scrap.Sort.MOST_RELEVANT, # defaults to Sort.MOST_RELEVANT\n",
    ")\n",
    "\n",
    "print(len(panin_ds))\n",
    "\n",
    "with open('panin_reviews.json', 'w') as file:\n",
    "    for data in panin_ds:\n",
    "        file.write(json.dumps(data, default=datetime_to_str)+'\\n')"
   ]
  },
  {
   "cell_type": "code",
   "execution_count": 114,
   "metadata": {},
   "outputs": [
    {
     "name": "stdout",
     "output_type": "stream",
     "text": [
      "124\n"
     ]
    }
   ],
   "source": [
    "btnib_ds = gp_scrap.reviews_all(\n",
    "    'com.aprisma.product.primemobile.btn',\n",
    "    sleep_milliseconds=0,\n",
    "    sort=gp_scrap.Sort.MOST_RELEVANT, # defaults to Sort.MOST_RELEVANT\n",
    ")\n",
    "\n",
    "print(len(btnib_ds))\n",
    "\n",
    "with open('btnib_reviews.json', 'w') as file:\n",
    "    for data in btnib_ds:\n",
    "        file.write(json.dumps(data, default=datetime_to_str)+'\\n')"
   ]
  },
  {
   "cell_type": "markdown",
   "metadata": {},
   "source": [
    "## Wrap up all data into excel file"
   ]
  },
  {
   "cell_type": "code",
   "execution_count": 124,
   "metadata": {},
   "outputs": [],
   "source": [
    "JSON_FILES = ['bni_reviews.json', 'bca_reviews.json', 'bri_reviews.json', \n",
    "              'bjtm_reviews.json', 'mandiri_reviews.json', 'btn_reviews.json', \n",
    "              'panin_reviews.json', 'btnib_reviews.json']"
   ]
  },
  {
   "cell_type": "code",
   "execution_count": 125,
   "metadata": {},
   "outputs": [
    {
     "data": {
      "text/plain": [
       "89220"
      ]
     },
     "execution_count": 125,
     "metadata": {},
     "output_type": "execute_result"
    }
   ],
   "source": [
    "TOTAL_DATA = len(bni_ds) + len(bca_ds) + len(bri_ds) + len(bjtm_ds) + \\\n",
    "             len(mandiri_ds) + len(btn_ds) + len(panin_ds) + len(btnib_ds)\n",
    "TOTAL_DATA"
   ]
  },
  {
   "cell_type": "code",
   "execution_count": 126,
   "metadata": {},
   "outputs": [],
   "source": [
    "DATETIME_FORMAT = '%Y-%m-%d %H:%M:%S'\n",
    "\n",
    "comment = []\n",
    "date = []\n",
    "for json_file in JSON_FILES:\n",
    "    with open(json_file, 'r') as file:\n",
    "        for row in file:\n",
    "            data = json.loads(row)\n",
    "            comment.append(data['content'])\n",
    "            date.append(datetime.strptime(data['at'], DATETIME_FORMAT).date())\n",
    "\n",
    "assert len(date)==TOTAL_DATA"
   ]
  },
  {
   "cell_type": "code",
   "execution_count": 127,
   "metadata": {
    "scrolled": true
   },
   "outputs": [
    {
     "name": "stdout",
     "output_type": "stream",
     "text": [
      "<class 'pandas.core.frame.DataFrame'>\n",
      "RangeIndex: 89220 entries, 0 to 89219\n",
      "Data columns (total 2 columns):\n",
      " #   Column   Non-Null Count  Dtype \n",
      "---  ------   --------------  ----- \n",
      " 0   Date     89220 non-null  object\n",
      " 1   Comment  89163 non-null  object\n",
      "dtypes: object(2)\n",
      "memory usage: 1.4+ MB\n"
     ]
    }
   ],
   "source": [
    "dataset = pd.DataFrame({'Date': date, 'Comment': comment})\n",
    "dataset.info()"
   ]
  },
  {
   "cell_type": "code",
   "execution_count": 129,
   "metadata": {},
   "outputs": [
    {
     "data": {
      "text/plain": [
       "Date        0\n",
       "Comment    57\n",
       "dtype: int64"
      ]
     },
     "execution_count": 129,
     "metadata": {},
     "output_type": "execute_result"
    }
   ],
   "source": [
    "dataset.isnull().sum()"
   ]
  },
  {
   "cell_type": "code",
   "execution_count": 131,
   "metadata": {
    "scrolled": true
   },
   "outputs": [
    {
     "name": "stdout",
     "output_type": "stream",
     "text": [
      "<class 'pandas.core.frame.DataFrame'>\n",
      "Int64Index: 89163 entries, 0 to 89219\n",
      "Data columns (total 2 columns):\n",
      " #   Column   Non-Null Count  Dtype \n",
      "---  ------   --------------  ----- \n",
      " 0   Date     89163 non-null  object\n",
      " 1   Comment  89163 non-null  object\n",
      "dtypes: object(2)\n",
      "memory usage: 2.0+ MB\n"
     ]
    }
   ],
   "source": [
    "dataset = dataset.dropna()\n",
    "dataset.info()"
   ]
  },
  {
   "cell_type": "code",
   "execution_count": 143,
   "metadata": {},
   "outputs": [
    {
     "data": {
      "text/html": [
       "<div>\n",
       "<style scoped>\n",
       "    .dataframe tbody tr th:only-of-type {\n",
       "        vertical-align: middle;\n",
       "    }\n",
       "\n",
       "    .dataframe tbody tr th {\n",
       "        vertical-align: top;\n",
       "    }\n",
       "\n",
       "    .dataframe thead th {\n",
       "        text-align: right;\n",
       "    }\n",
       "</style>\n",
       "<table border=\"1\" class=\"dataframe\">\n",
       "  <thead>\n",
       "    <tr style=\"text-align: right;\">\n",
       "      <th></th>\n",
       "      <th>Date</th>\n",
       "      <th>Comment</th>\n",
       "    </tr>\n",
       "  </thead>\n",
       "  <tbody>\n",
       "    <tr>\n",
       "      <th>0</th>\n",
       "      <td>2012-06-06</td>\n",
       "      <td>Works well with Android ICS, should continue t...</td>\n",
       "    </tr>\n",
       "    <tr>\n",
       "      <th>1</th>\n",
       "      <td>2012-06-07</td>\n",
       "      <td>Udah bagus, semua fungsi lancar.. User Interfa...</td>\n",
       "    </tr>\n",
       "    <tr>\n",
       "      <th>2</th>\n",
       "      <td>2012-06-08</td>\n",
       "      <td>Teu jalan,,, parah,,,,</td>\n",
       "    </tr>\n",
       "    <tr>\n",
       "      <th>3</th>\n",
       "      <td>2012-06-08</td>\n",
       "      <td>Wow</td>\n",
       "    </tr>\n",
       "    <tr>\n",
       "      <th>4</th>\n",
       "      <td>2012-06-08</td>\n",
       "      <td>Akhirnya ada juga versi androidnya...</td>\n",
       "    </tr>\n",
       "  </tbody>\n",
       "</table>\n",
       "</div>"
      ],
      "text/plain": [
       "         Date                                            Comment\n",
       "0  2012-06-06  Works well with Android ICS, should continue t...\n",
       "1  2012-06-07  Udah bagus, semua fungsi lancar.. User Interfa...\n",
       "2  2012-06-08                             Teu jalan,,, parah,,,,\n",
       "3  2012-06-08                                                Wow\n",
       "4  2012-06-08              Akhirnya ada juga versi androidnya..."
      ]
     },
     "execution_count": 143,
     "metadata": {},
     "output_type": "execute_result"
    }
   ],
   "source": [
    "dataset.sort_values('Date', inplace=True)\n",
    "dataset.reset_index(drop=True, inplace=True)\n",
    "dataset.head()\n"
   ]
  },
  {
   "cell_type": "code",
   "execution_count": 147,
   "metadata": {},
   "outputs": [
    {
     "name": "stdout",
     "output_type": "stream",
     "text": [
      "saved\n"
     ]
    }
   ],
   "source": [
    "dataset.to_excel('appstore_reviews.xlsx', index=False)\n",
    "\n",
    "print('saved')"
   ]
  },
  {
   "cell_type": "code",
   "execution_count": 148,
   "metadata": {},
   "outputs": [
    {
     "data": {
      "text/plain": [
       "(89163, 2)"
      ]
     },
     "execution_count": 148,
     "metadata": {},
     "output_type": "execute_result"
    }
   ],
   "source": [
    "dataset.shape"
   ]
  },
  {
   "cell_type": "code",
   "execution_count": null,
   "metadata": {},
   "outputs": [],
   "source": []
  }
 ],
 "metadata": {
  "kernelspec": {
   "display_name": "Python 3",
   "language": "python",
   "name": "python3"
  },
  "language_info": {
   "codemirror_mode": {
    "name": "ipython",
    "version": 3
   },
   "file_extension": ".py",
   "mimetype": "text/x-python",
   "name": "python",
   "nbconvert_exporter": "python",
   "pygments_lexer": "ipython3",
   "version": "3.7.6"
  }
 },
 "nbformat": 4,
 "nbformat_minor": 4
}
