{
 "cells": [
  {
   "cell_type": "code",
   "execution_count": 26,
   "metadata": {},
   "outputs": [],
   "source": [
    "import numpy as np\n",
    "import pandas as pd\n",
    "\n",
    "from sklearn.model_selection import train_test_split, KFold, StratifiedKFold"
   ]
  },
  {
   "cell_type": "code",
   "execution_count": 2,
   "metadata": {},
   "outputs": [
    {
     "data": {
      "text/plain": [
       "(152, 2)"
      ]
     },
     "execution_count": 2,
     "metadata": {},
     "output_type": "execute_result"
    }
   ],
   "source": [
    "df = pd.read_excel('dataset/Data 1.xlsx', names=['comment', 'polarity'])\n",
    "df.shape"
   ]
  },
  {
   "cell_type": "code",
   "execution_count": 3,
   "metadata": {},
   "outputs": [
    {
     "data": {
      "text/html": [
       "<div>\n",
       "<style scoped>\n",
       "    .dataframe tbody tr th:only-of-type {\n",
       "        vertical-align: middle;\n",
       "    }\n",
       "\n",
       "    .dataframe tbody tr th {\n",
       "        vertical-align: top;\n",
       "    }\n",
       "\n",
       "    .dataframe thead th {\n",
       "        text-align: right;\n",
       "    }\n",
       "</style>\n",
       "<table border=\"1\" class=\"dataframe\">\n",
       "  <thead>\n",
       "    <tr style=\"text-align: right;\">\n",
       "      <th></th>\n",
       "      <th>comment</th>\n",
       "      <th>polarity</th>\n",
       "    </tr>\n",
       "  </thead>\n",
       "  <tbody>\n",
       "    <tr>\n",
       "      <th>0</th>\n",
       "      <td>min bnyk yg kecewa lo dgn update terbaru alih ...</td>\n",
       "      <td>1</td>\n",
       "    </tr>\n",
       "    <tr>\n",
       "      <th>1</th>\n",
       "      <td>user id password mesti ke bank ya gpplah yg pe...</td>\n",
       "      <td>1</td>\n",
       "    </tr>\n",
       "    <tr>\n",
       "      <th>2</th>\n",
       "      <td>saat transfer kadang ada muncul keterangan kon...</td>\n",
       "      <td>1</td>\n",
       "    </tr>\n",
       "    <tr>\n",
       "      <th>3</th>\n",
       "      <td>begitu saya update dan no tlpn saya statusnya ...</td>\n",
       "      <td>1</td>\n",
       "    </tr>\n",
       "    <tr>\n",
       "      <th>4</th>\n",
       "      <td>tolong tambahkan fitur fingerprint atau face r...</td>\n",
       "      <td>1</td>\n",
       "    </tr>\n",
       "  </tbody>\n",
       "</table>\n",
       "</div>"
      ],
      "text/plain": [
       "                                             comment  polarity\n",
       "0  min bnyk yg kecewa lo dgn update terbaru alih ...         1\n",
       "1  user id password mesti ke bank ya gpplah yg pe...         1\n",
       "2  saat transfer kadang ada muncul keterangan kon...         1\n",
       "3  begitu saya update dan no tlpn saya statusnya ...         1\n",
       "4  tolong tambahkan fitur fingerprint atau face r...         1"
      ]
     },
     "execution_count": 3,
     "metadata": {},
     "output_type": "execute_result"
    }
   ],
   "source": [
    "df.head()"
   ]
  },
  {
   "cell_type": "markdown",
   "metadata": {},
   "source": [
    "## Split Dataset"
   ]
  },
  {
   "cell_type": "code",
   "execution_count": 4,
   "metadata": {},
   "outputs": [
    {
     "data": {
      "text/plain": [
       "0    0.552632\n",
       "1    0.447368\n",
       "Name: polarity, dtype: float64"
      ]
     },
     "execution_count": 4,
     "metadata": {},
     "output_type": "execute_result"
    }
   ],
   "source": [
    "df.polarity.value_counts()/df.shape[0]"
   ]
  },
  {
   "cell_type": "code",
   "execution_count": 34,
   "metadata": {
    "scrolled": true
   },
   "outputs": [
    {
     "name": "stdout",
     "output_type": "stream",
     "text": [
      "Train 0    0.694215\n",
      "1    0.305785\n",
      "Name: polarity, dtype: float64\n",
      "Test 1    1.0\n",
      "Name: polarity, dtype: float64\n",
      "===================\n",
      "Train 0    0.628099\n",
      "1    0.371901\n",
      "Name: polarity, dtype: float64\n",
      "Test 1    0.741935\n",
      "0    0.258065\n",
      "Name: polarity, dtype: float64\n",
      "===================\n",
      "Train 1    0.557377\n",
      "0    0.442623\n",
      "Name: polarity, dtype: float64\n",
      "Test 0    1.0\n",
      "Name: polarity, dtype: float64\n",
      "===================\n",
      "Train 0    0.508197\n",
      "1    0.491803\n",
      "Name: polarity, dtype: float64\n",
      "Test 0    0.733333\n",
      "1    0.266667\n",
      "Name: polarity, dtype: float64\n",
      "===================\n",
      "Train 1    0.508197\n",
      "0    0.491803\n",
      "Name: polarity, dtype: float64\n",
      "Test 0    0.8\n",
      "1    0.2\n",
      "Name: polarity, dtype: float64\n",
      "===================\n"
     ]
    }
   ],
   "source": [
    "kfold = KFold(n_splits=5, random_state=0)\n",
    "for train, test in kfold.split(df.comment, df.polarity):\n",
    "    print('Train', df.iloc[train, 1].value_counts() / len(train))\n",
    "    print('Test', df.iloc[test, 1].value_counts() / len(test))\n",
    "    print('===================')"
   ]
  },
  {
   "cell_type": "code",
   "execution_count": 32,
   "metadata": {
    "scrolled": true
   },
   "outputs": [
    {
     "name": "stdout",
     "output_type": "stream",
     "text": [
      "train 1\n",
      " 0    0.553719\n",
      "1    0.446281\n",
      "Name: polarity, dtype: float64\n",
      "test 1\n",
      " 0    0.548387\n",
      "1    0.451613\n",
      "Name: polarity, dtype: float64\n",
      "===================\n",
      "train 2\n",
      " 0    0.553719\n",
      "1    0.446281\n",
      "Name: polarity, dtype: float64\n",
      "test 2\n",
      " 0    0.548387\n",
      "1    0.451613\n",
      "Name: polarity, dtype: float64\n",
      "===================\n",
      "train 3\n",
      " 0    0.557377\n",
      "1    0.442623\n",
      "Name: polarity, dtype: float64\n",
      "test 3\n",
      " 0    0.533333\n",
      "1    0.466667\n",
      "Name: polarity, dtype: float64\n",
      "===================\n",
      "train 4\n",
      " 0    0.54918\n",
      "1    0.45082\n",
      "Name: polarity, dtype: float64\n",
      "test 4\n",
      " 0    0.566667\n",
      "1    0.433333\n",
      "Name: polarity, dtype: float64\n",
      "===================\n",
      "train 5\n",
      " 0    0.54918\n",
      "1    0.45082\n",
      "Name: polarity, dtype: float64\n",
      "test 5\n",
      " 0    0.566667\n",
      "1    0.433333\n",
      "Name: polarity, dtype: float64\n",
      "===================\n"
     ]
    },
    {
     "name": "stderr",
     "output_type": "stream",
     "text": [
      "C:\\ProgramData\\Anaconda3\\lib\\site-packages\\sklearn\\model_selection\\_split.py:296: FutureWarning: Setting a random_state has no effect since shuffle is False. This will raise an error in 0.24. You should leave random_state to its default (None), or set shuffle=True.\n",
      "  FutureWarning\n"
     ]
    }
   ],
   "source": [
    "# split and save index of each batch train-test\n",
    "skf = StratifiedKFold(n_splits=5, random_state=0)\n",
    "\n",
    "i = 1\n",
    "for train, test in skf.split(df.comment, df.polarity):\n",
    "    np.save(f'dataset/train_{i}', train)\n",
    "    np.save(f'dataset/test_{i}', test)\n",
    "    print(f'train {i}\\n', df.iloc[train, 1].value_counts()/len(train))\n",
    "    print(f'test {i}\\n', df.iloc[test, 1].value_counts()/len(test))\n",
    "    print('===================')\n",
    "    i += 1"
   ]
  },
  {
   "cell_type": "markdown",
   "metadata": {},
   "source": [
    "## Preprocessing"
   ]
  },
  {
   "cell_type": "code",
   "execution_count": null,
   "metadata": {},
   "outputs": [],
   "source": []
  },
  {
   "cell_type": "code",
   "execution_count": null,
   "metadata": {},
   "outputs": [],
   "source": []
  },
  {
   "cell_type": "markdown",
   "metadata": {},
   "source": [
    "## Modelling"
   ]
  },
  {
   "cell_type": "code",
   "execution_count": null,
   "metadata": {},
   "outputs": [],
   "source": []
  },
  {
   "cell_type": "code",
   "execution_count": null,
   "metadata": {},
   "outputs": [],
   "source": []
  },
  {
   "cell_type": "code",
   "execution_count": null,
   "metadata": {},
   "outputs": [],
   "source": []
  }
 ],
 "metadata": {
  "kernelspec": {
   "display_name": "Python 3",
   "language": "python",
   "name": "python3"
  },
  "language_info": {
   "codemirror_mode": {
    "name": "ipython",
    "version": 3
   },
   "file_extension": ".py",
   "mimetype": "text/x-python",
   "name": "python",
   "nbconvert_exporter": "python",
   "pygments_lexer": "ipython3",
   "version": "3.7.6"
  }
 },
 "nbformat": 4,
 "nbformat_minor": 4
}
