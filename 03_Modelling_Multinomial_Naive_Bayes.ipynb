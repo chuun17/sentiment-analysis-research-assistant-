{
 "cells": [
  {
   "cell_type": "code",
   "execution_count": 13,
   "metadata": {},
   "outputs": [],
   "source": [
    "import numpy as np\n",
    "import pandas as pd\n",
    "\n",
    "from sklearn.model_selection import train_test_split, KFold, StratifiedKFold\n",
    "from Sastrawi.Stemmer.StemmerFactory import StemmerFactory"
   ]
  },
  {
   "cell_type": "code",
   "execution_count": 2,
   "metadata": {},
   "outputs": [
    {
     "data": {
      "text/plain": [
       "(152, 2)"
      ]
     },
     "execution_count": 2,
     "metadata": {},
     "output_type": "execute_result"
    }
   ],
   "source": [
    "df = pd.read_excel('dataset/Data 1.xlsx', names=['comment', 'polarity'])\n",
    "df.shape"
   ]
  },
  {
   "cell_type": "code",
   "execution_count": 3,
   "metadata": {},
   "outputs": [
    {
     "data": {
      "text/html": [
       "<div>\n",
       "<style scoped>\n",
       "    .dataframe tbody tr th:only-of-type {\n",
       "        vertical-align: middle;\n",
       "    }\n",
       "\n",
       "    .dataframe tbody tr th {\n",
       "        vertical-align: top;\n",
       "    }\n",
       "\n",
       "    .dataframe thead th {\n",
       "        text-align: right;\n",
       "    }\n",
       "</style>\n",
       "<table border=\"1\" class=\"dataframe\">\n",
       "  <thead>\n",
       "    <tr style=\"text-align: right;\">\n",
       "      <th></th>\n",
       "      <th>comment</th>\n",
       "      <th>polarity</th>\n",
       "    </tr>\n",
       "  </thead>\n",
       "  <tbody>\n",
       "    <tr>\n",
       "      <th>0</th>\n",
       "      <td>min bnyk yg kecewa lo dgn update terbaru alih ...</td>\n",
       "      <td>1</td>\n",
       "    </tr>\n",
       "    <tr>\n",
       "      <th>1</th>\n",
       "      <td>user id password mesti ke bank ya gpplah yg pe...</td>\n",
       "      <td>1</td>\n",
       "    </tr>\n",
       "    <tr>\n",
       "      <th>2</th>\n",
       "      <td>saat transfer kadang ada muncul keterangan kon...</td>\n",
       "      <td>1</td>\n",
       "    </tr>\n",
       "    <tr>\n",
       "      <th>3</th>\n",
       "      <td>begitu saya update dan no tlpn saya statusnya ...</td>\n",
       "      <td>1</td>\n",
       "    </tr>\n",
       "    <tr>\n",
       "      <th>4</th>\n",
       "      <td>tolong tambahkan fitur fingerprint atau face r...</td>\n",
       "      <td>1</td>\n",
       "    </tr>\n",
       "  </tbody>\n",
       "</table>\n",
       "</div>"
      ],
      "text/plain": [
       "                                             comment  polarity\n",
       "0  min bnyk yg kecewa lo dgn update terbaru alih ...         1\n",
       "1  user id password mesti ke bank ya gpplah yg pe...         1\n",
       "2  saat transfer kadang ada muncul keterangan kon...         1\n",
       "3  begitu saya update dan no tlpn saya statusnya ...         1\n",
       "4  tolong tambahkan fitur fingerprint atau face r...         1"
      ]
     },
     "execution_count": 3,
     "metadata": {},
     "output_type": "execute_result"
    }
   ],
   "source": [
    "df.head()"
   ]
  },
  {
   "cell_type": "markdown",
   "metadata": {},
   "source": [
    "## Split Dataset"
   ]
  },
  {
   "cell_type": "code",
   "execution_count": 4,
   "metadata": {},
   "outputs": [
    {
     "data": {
      "text/plain": [
       "0    0.552632\n",
       "1    0.447368\n",
       "Name: polarity, dtype: float64"
      ]
     },
     "execution_count": 4,
     "metadata": {},
     "output_type": "execute_result"
    }
   ],
   "source": [
    "df.polarity.value_counts()/df.shape[0]"
   ]
  },
  {
   "cell_type": "code",
   "execution_count": 34,
   "metadata": {
    "scrolled": true
   },
   "outputs": [
    {
     "name": "stdout",
     "output_type": "stream",
     "text": [
      "Train 0    0.694215\n",
      "1    0.305785\n",
      "Name: polarity, dtype: float64\n",
      "Test 1    1.0\n",
      "Name: polarity, dtype: float64\n",
      "===================\n",
      "Train 0    0.628099\n",
      "1    0.371901\n",
      "Name: polarity, dtype: float64\n",
      "Test 1    0.741935\n",
      "0    0.258065\n",
      "Name: polarity, dtype: float64\n",
      "===================\n",
      "Train 1    0.557377\n",
      "0    0.442623\n",
      "Name: polarity, dtype: float64\n",
      "Test 0    1.0\n",
      "Name: polarity, dtype: float64\n",
      "===================\n",
      "Train 0    0.508197\n",
      "1    0.491803\n",
      "Name: polarity, dtype: float64\n",
      "Test 0    0.733333\n",
      "1    0.266667\n",
      "Name: polarity, dtype: float64\n",
      "===================\n",
      "Train 1    0.508197\n",
      "0    0.491803\n",
      "Name: polarity, dtype: float64\n",
      "Test 0    0.8\n",
      "1    0.2\n",
      "Name: polarity, dtype: float64\n",
      "===================\n"
     ]
    }
   ],
   "source": [
    "kfold = KFold(n_splits=5, random_state=0)\n",
    "for train, test in kfold.split(df.comment, df.polarity):\n",
    "    print('Train', df.iloc[train, 1].value_counts() / len(train))\n",
    "    print('Test', df.iloc[test, 1].value_counts() / len(test))\n",
    "    print('===================')"
   ]
  },
  {
   "cell_type": "code",
   "execution_count": 32,
   "metadata": {
    "scrolled": true
   },
   "outputs": [
    {
     "name": "stdout",
     "output_type": "stream",
     "text": [
      "train 1\n",
      " 0    0.553719\n",
      "1    0.446281\n",
      "Name: polarity, dtype: float64\n",
      "test 1\n",
      " 0    0.548387\n",
      "1    0.451613\n",
      "Name: polarity, dtype: float64\n",
      "===================\n",
      "train 2\n",
      " 0    0.553719\n",
      "1    0.446281\n",
      "Name: polarity, dtype: float64\n",
      "test 2\n",
      " 0    0.548387\n",
      "1    0.451613\n",
      "Name: polarity, dtype: float64\n",
      "===================\n",
      "train 3\n",
      " 0    0.557377\n",
      "1    0.442623\n",
      "Name: polarity, dtype: float64\n",
      "test 3\n",
      " 0    0.533333\n",
      "1    0.466667\n",
      "Name: polarity, dtype: float64\n",
      "===================\n",
      "train 4\n",
      " 0    0.54918\n",
      "1    0.45082\n",
      "Name: polarity, dtype: float64\n",
      "test 4\n",
      " 0    0.566667\n",
      "1    0.433333\n",
      "Name: polarity, dtype: float64\n",
      "===================\n",
      "train 5\n",
      " 0    0.54918\n",
      "1    0.45082\n",
      "Name: polarity, dtype: float64\n",
      "test 5\n",
      " 0    0.566667\n",
      "1    0.433333\n",
      "Name: polarity, dtype: float64\n",
      "===================\n"
     ]
    },
    {
     "name": "stderr",
     "output_type": "stream",
     "text": [
      "C:\\ProgramData\\Anaconda3\\lib\\site-packages\\sklearn\\model_selection\\_split.py:296: FutureWarning: Setting a random_state has no effect since shuffle is False. This will raise an error in 0.24. You should leave random_state to its default (None), or set shuffle=True.\n",
      "  FutureWarning\n"
     ]
    }
   ],
   "source": [
    "# split and save index of each batch train-test\n",
    "skf = StratifiedKFold(n_splits=5, random_state=0)\n",
    "\n",
    "i = 1\n",
    "for train, test in skf.split(df.comment, df.polarity):\n",
    "    np.save(f'dataset/train_{i}', train)\n",
    "    np.save(f'dataset/test_{i}', test)\n",
    "    print(f'train {i}\\n', df.iloc[train, 1].value_counts()/len(train))\n",
    "    print(f'test {i}\\n', df.iloc[test, 1].value_counts()/len(test))\n",
    "    print('===================')\n",
    "    i += 1"
   ]
  },
  {
   "cell_type": "markdown",
   "metadata": {},
   "source": [
    "## Preprocessing\n",
    "\n",
    "<ol>\n",
    "    <li>Case folding <b>(done at previous notebook)</b></li>\n",
    "    <li>Cleansing <b>(done at previous notebook)</b></li>\n",
    "    <li>Formalization</li>\n",
    "    <li>Stemming</li>\n",
    "    <li>Stopword Removal</li>\n",
    "    <li>Tokenizing</li>\n",
    "</ol>\n",
    "    "
   ]
  },
  {
   "cell_type": "markdown",
   "metadata": {},
   "source": [
    "### Formalization (Manual)"
   ]
  },
  {
   "cell_type": "code",
   "execution_count": 50,
   "metadata": {},
   "outputs": [
    {
     "name": "stdout",
     "output_type": "stream",
     "text": [
      "There are 51 token pairs\n"
     ]
    }
   ],
   "source": [
    "formal_dict = {}\n",
    "with open('resources/formalization_dict.txt', 'r') as file:\n",
    "    i = 1\n",
    "    for row in file:\n",
    "        old, new = row.split('\\t')\n",
    "        i += 1\n",
    "        formal_dict[old] = new.lower().strip()\n",
    "\n",
    "print(f'There are {len(formal_dict)} token pairs')"
   ]
  },
  {
   "cell_type": "code",
   "execution_count": 53,
   "metadata": {},
   "outputs": [
    {
     "name": "stdout",
     "output_type": "stream",
     "text": [
      "We have 152 comments\n"
     ]
    }
   ],
   "source": [
    "formal_comment = []\n",
    "\n",
    "for comment in df.comment:\n",
    "    sentence = ' '+comment+' '\n",
    "    for false_word, true_word in formal_dict.items():\n",
    "        word = ' '+false_word+' '\n",
    "        sentence = sentence.replace(word, ' '+true_word+' ')\n",
    "    formal_comment.append(sentence)\n",
    "    \n",
    "print(f'We have {len(formal_comment)} comments')"
   ]
  },
  {
   "cell_type": "markdown",
   "metadata": {},
   "source": [
    "### Stemming (Sastrawi)"
   ]
  },
  {
   "cell_type": "code",
   "execution_count": 56,
   "metadata": {},
   "outputs": [
    {
     "data": {
      "text/plain": [
       "'min bnyk yang kecewa lo dengan update baru alih alih sempurna malah susah nasabah mandiri masuk saya agar kurang tindak tipu jahat waktu ada transaksi yang lebih rb rp maka bisa di tambah security upa kirim nomor verifikasi yang kirim ke nomor hp sms banking trus harus di masuk dalam applikasi mandiri online agar benar bahwa si nasabah sedang laku transaksi dengan demikian pasti tetap aman mohon perhati ya min terimakasih'"
      ]
     },
     "execution_count": 56,
     "metadata": {},
     "output_type": "execute_result"
    }
   ],
   "source": [
    "stemmer = StemmerFactory().create_stemmer()\n",
    "comment_stemmed = [stemmer.stem(formal_comment[i]) for i in range(df.shape[0])]\n",
    "\n",
    "comment_stemmed[0]"
   ]
  },
  {
   "cell_type": "code",
   "execution_count": 57,
   "metadata": {},
   "outputs": [
    {
     "data": {
      "text/plain": [
       "' min bnyk yang kecewa lo dengan update terbaru alih alih penyempurnaan malah menyusahkan nasabah mandiri masukan saya agar mengurangi tindak penipuan kejahatan sewaktu ada transaksi yang lebih rb rp maka bisa di tambahkan security berupa pengiriman nomor verifikasi yang dikirimkan ke nomor hp sms banking trus harus di masukkan dalam applikasi mandiri online agar benar bahwa si nasabah sedang melakukan transaksi dengan demikian pasti tetap aman mohon diperhatikan ya min terimakasih '"
      ]
     },
     "execution_count": 57,
     "metadata": {},
     "output_type": "execute_result"
    }
   ],
   "source": [
    "formal_comment[0]"
   ]
  },
  {
   "cell_type": "markdown",
   "metadata": {},
   "source": [
    "### Stopwords Removal (Manual)"
   ]
  },
  {
   "cell_type": "code",
   "execution_count": 58,
   "metadata": {},
   "outputs": [
    {
     "name": "stdout",
     "output_type": "stream",
     "text": [
      "There are 23 stopword list\n"
     ]
    }
   ],
   "source": [
    "stopwords = [\n",
    "    'yang', 'untuk', 'pada', 'antara', 'dan' , 'di', 'dari', 'hal', \n",
    "    'dalam', 'atau', 'kah', 'pun', 'dsb', 'dst', 'dll', 'toh', 'ya',\n",
    "    'saya', 'dengan', 'nya', 'ke', 'si', 'dah'\n",
    "]\n",
    "\n",
    "print(f'There are {len(stopwords)} stopword list')"
   ]
  },
  {
   "cell_type": "code",
   "execution_count": 66,
   "metadata": {},
   "outputs": [
    {
     "name": "stdout",
     "output_type": "stream",
     "text": [
      "We have 152 comments\n"
     ]
    }
   ],
   "source": [
    "clean_comment = []\n",
    "for comment in comment_stemmed:\n",
    "    for token in stopwords:\n",
    "        word = ' '+token+' '\n",
    "        comment = comment.replace(word, ' ')\n",
    "    if sentence.strip():\n",
    "        clean_comment.append(comment.strip())\n",
    "        \n",
    "print(f'We have {len(clean_comment)} comments')"
   ]
  },
  {
   "cell_type": "code",
   "execution_count": 67,
   "metadata": {},
   "outputs": [
    {
     "data": {
      "text/plain": [
       "'min bnyk kecewa lo update baru alih alih sempurna malah susah nasabah mandiri masuk agar kurang tindak tipu jahat waktu ada transaksi lebih rb rp maka bisa tambah security upa kirim nomor verifikasi kirim nomor hp sms banking trus harus masuk applikasi mandiri online agar benar bahwa nasabah sedang laku transaksi demikian pasti tetap aman mohon perhati min terimakasih'"
      ]
     },
     "execution_count": 67,
     "metadata": {},
     "output_type": "execute_result"
    }
   ],
   "source": [
    "clean_comment[0]"
   ]
  },
  {
   "cell_type": "markdown",
   "metadata": {},
   "source": [
    "### Tokenizing"
   ]
  },
  {
   "cell_type": "code",
   "execution_count": 68,
   "metadata": {
    "scrolled": true
   },
   "outputs": [
    {
     "data": {
      "text/plain": [
       "[['min',\n",
       "  'bnyk',\n",
       "  'kecewa',\n",
       "  'lo',\n",
       "  'update',\n",
       "  'baru',\n",
       "  'alih',\n",
       "  'alih',\n",
       "  'sempurna',\n",
       "  'malah',\n",
       "  'susah',\n",
       "  'nasabah',\n",
       "  'mandiri',\n",
       "  'masuk',\n",
       "  'agar',\n",
       "  'kurang',\n",
       "  'tindak',\n",
       "  'tipu',\n",
       "  'jahat',\n",
       "  'waktu',\n",
       "  'ada',\n",
       "  'transaksi',\n",
       "  'lebih',\n",
       "  'rb',\n",
       "  'rp',\n",
       "  'maka',\n",
       "  'bisa',\n",
       "  'tambah',\n",
       "  'security',\n",
       "  'upa',\n",
       "  'kirim',\n",
       "  'nomor',\n",
       "  'verifikasi',\n",
       "  'kirim',\n",
       "  'nomor',\n",
       "  'hp',\n",
       "  'sms',\n",
       "  'banking',\n",
       "  'trus',\n",
       "  'harus',\n",
       "  'masuk',\n",
       "  'applikasi',\n",
       "  'mandiri',\n",
       "  'online',\n",
       "  'agar',\n",
       "  'benar',\n",
       "  'bahwa',\n",
       "  'nasabah',\n",
       "  'sedang',\n",
       "  'laku',\n",
       "  'transaksi',\n",
       "  'demikian',\n",
       "  'pasti',\n",
       "  'tetap',\n",
       "  'aman',\n",
       "  'mohon',\n",
       "  'perhati',\n",
       "  'min',\n",
       "  'terimakasih'],\n",
       " ['user',\n",
       "  'id',\n",
       "  'password',\n",
       "  'mesti',\n",
       "  'bank',\n",
       "  'gpplah',\n",
       "  'penting',\n",
       "  'aman',\n",
       "  'transaksi']]"
      ]
     },
     "execution_count": 68,
     "metadata": {},
     "output_type": "execute_result"
    }
   ],
   "source": [
    "token_series = [comment.split() for comment in clean_comment]\n",
    "token_series[:2]"
   ]
  },
  {
   "cell_type": "markdown",
   "metadata": {},
   "source": [
    "## Modelling"
   ]
  },
  {
   "cell_type": "code",
   "execution_count": null,
   "metadata": {},
   "outputs": [],
   "source": []
  }
 ],
 "metadata": {
  "kernelspec": {
   "display_name": "Python 3",
   "language": "python",
   "name": "python3"
  },
  "language_info": {
   "codemirror_mode": {
    "name": "ipython",
    "version": 3
   },
   "file_extension": ".py",
   "mimetype": "text/x-python",
   "name": "python",
   "nbconvert_exporter": "python",
   "pygments_lexer": "ipython3",
   "version": "3.7.6"
  }
 },
 "nbformat": 4,
 "nbformat_minor": 4
}
