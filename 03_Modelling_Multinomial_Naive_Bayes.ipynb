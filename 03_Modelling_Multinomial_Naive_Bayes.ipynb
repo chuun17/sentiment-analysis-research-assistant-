{
 "cells": [
  {
   "cell_type": "code",
   "execution_count": 100,
   "metadata": {},
   "outputs": [],
   "source": [
    "import numpy as np\n",
    "import pandas as pd\n",
    "\n",
    "from sklearn.model_selection import train_test_split, KFold, StratifiedKFold\n",
    "from sklearn.feature_extraction.text import CountVectorizer, TfidfTransformer, TfidfVectorizer\n",
    "from sklearn.feature_selection import mutual_info_classif\n",
    "from sklearn.naive_bayes import MultinomialNB\n",
    "from Sastrawi.Stemmer.StemmerFactory import StemmerFactory\n",
    "from itertools import product"
   ]
  },
  {
   "cell_type": "code",
   "execution_count": 2,
   "metadata": {},
   "outputs": [
    {
     "data": {
      "text/plain": [
       "(152, 2)"
      ]
     },
     "execution_count": 2,
     "metadata": {},
     "output_type": "execute_result"
    }
   ],
   "source": [
    "df = pd.read_excel('dataset/Data 1.xlsx', names=['comment', 'polarity'])\n",
    "df.shape"
   ]
  },
  {
   "cell_type": "code",
   "execution_count": 3,
   "metadata": {},
   "outputs": [
    {
     "data": {
      "text/html": [
       "<div>\n",
       "<style scoped>\n",
       "    .dataframe tbody tr th:only-of-type {\n",
       "        vertical-align: middle;\n",
       "    }\n",
       "\n",
       "    .dataframe tbody tr th {\n",
       "        vertical-align: top;\n",
       "    }\n",
       "\n",
       "    .dataframe thead th {\n",
       "        text-align: right;\n",
       "    }\n",
       "</style>\n",
       "<table border=\"1\" class=\"dataframe\">\n",
       "  <thead>\n",
       "    <tr style=\"text-align: right;\">\n",
       "      <th></th>\n",
       "      <th>comment</th>\n",
       "      <th>polarity</th>\n",
       "    </tr>\n",
       "  </thead>\n",
       "  <tbody>\n",
       "    <tr>\n",
       "      <th>0</th>\n",
       "      <td>min bnyk yg kecewa lo dgn update terbaru alih ...</td>\n",
       "      <td>1</td>\n",
       "    </tr>\n",
       "    <tr>\n",
       "      <th>1</th>\n",
       "      <td>user id password mesti ke bank ya gpplah yg pe...</td>\n",
       "      <td>1</td>\n",
       "    </tr>\n",
       "    <tr>\n",
       "      <th>2</th>\n",
       "      <td>saat transfer kadang ada muncul keterangan kon...</td>\n",
       "      <td>1</td>\n",
       "    </tr>\n",
       "    <tr>\n",
       "      <th>3</th>\n",
       "      <td>begitu saya update dan no tlpn saya statusnya ...</td>\n",
       "      <td>1</td>\n",
       "    </tr>\n",
       "    <tr>\n",
       "      <th>4</th>\n",
       "      <td>tolong tambahkan fitur fingerprint atau face r...</td>\n",
       "      <td>1</td>\n",
       "    </tr>\n",
       "  </tbody>\n",
       "</table>\n",
       "</div>"
      ],
      "text/plain": [
       "                                             comment  polarity\n",
       "0  min bnyk yg kecewa lo dgn update terbaru alih ...         1\n",
       "1  user id password mesti ke bank ya gpplah yg pe...         1\n",
       "2  saat transfer kadang ada muncul keterangan kon...         1\n",
       "3  begitu saya update dan no tlpn saya statusnya ...         1\n",
       "4  tolong tambahkan fitur fingerprint atau face r...         1"
      ]
     },
     "execution_count": 3,
     "metadata": {},
     "output_type": "execute_result"
    }
   ],
   "source": [
    "df.head()"
   ]
  },
  {
   "cell_type": "markdown",
   "metadata": {},
   "source": [
    "## Preprocessing\n",
    "\n",
    "<ol>\n",
    "    <li>Case folding <b>(done at previous notebook)</b></li>\n",
    "    <li>Cleansing <b>(done at previous notebook)</b></li>\n",
    "    <li>Formalization</li>\n",
    "    <li>Stemming</li>\n",
    "    <li>Stopword Removal</li>\n",
    "    <li>Tokenizing</li>\n",
    "</ol>\n",
    "    "
   ]
  },
  {
   "cell_type": "markdown",
   "metadata": {},
   "source": [
    "### Formalization (Manual)"
   ]
  },
  {
   "cell_type": "code",
   "execution_count": 4,
   "metadata": {},
   "outputs": [
    {
     "name": "stdout",
     "output_type": "stream",
     "text": [
      "There are 51 token pairs\n"
     ]
    }
   ],
   "source": [
    "formal_dict = {}\n",
    "with open('resources/formalization_dict.txt', 'r') as file:\n",
    "    i = 1\n",
    "    for row in file:\n",
    "        old, new = row.split('\\t')\n",
    "        i += 1\n",
    "        formal_dict[old] = new.lower().strip()\n",
    "\n",
    "print(f'There are {len(formal_dict)} token pairs')"
   ]
  },
  {
   "cell_type": "code",
   "execution_count": 5,
   "metadata": {},
   "outputs": [
    {
     "name": "stdout",
     "output_type": "stream",
     "text": [
      "We have 152 comments\n"
     ]
    }
   ],
   "source": [
    "formal_comment = []\n",
    "\n",
    "for comment in df.comment:\n",
    "    sentence = ' '+comment+' '\n",
    "    for false_word, true_word in formal_dict.items():\n",
    "        word = ' '+false_word+' '\n",
    "        sentence = sentence.replace(word, ' '+true_word+' ')\n",
    "    formal_comment.append(sentence)\n",
    "    \n",
    "print(f'We have {len(formal_comment)} comments')"
   ]
  },
  {
   "cell_type": "markdown",
   "metadata": {},
   "source": [
    "### Stemming (Sastrawi)"
   ]
  },
  {
   "cell_type": "code",
   "execution_count": 6,
   "metadata": {},
   "outputs": [
    {
     "data": {
      "text/plain": [
       "'min bnyk yang kecewa lo dengan update baru alih alih sempurna malah susah nasabah mandiri masuk saya agar kurang tindak tipu jahat waktu ada transaksi yang lebih rb rp maka bisa di tambah security upa kirim nomor verifikasi yang kirim ke nomor hp sms banking trus harus di masuk dalam applikasi mandiri online agar benar bahwa si nasabah sedang laku transaksi dengan demikian pasti tetap aman mohon perhati ya min terimakasih'"
      ]
     },
     "execution_count": 6,
     "metadata": {},
     "output_type": "execute_result"
    }
   ],
   "source": [
    "stemmer = StemmerFactory().create_stemmer()\n",
    "comment_stemmed = [stemmer.stem(formal_comment[i]) for i in range(df.shape[0])]\n",
    "\n",
    "comment_stemmed[0]"
   ]
  },
  {
   "cell_type": "code",
   "execution_count": 7,
   "metadata": {},
   "outputs": [
    {
     "data": {
      "text/plain": [
       "' min bnyk yang kecewa lo dengan update terbaru alih alih penyempurnaan malah menyusahkan nasabah mandiri masukan saya agar mengurangi tindak penipuan kejahatan sewaktu ada transaksi yang lebih rb rp maka bisa di tambahkan security berupa pengiriman nomor verifikasi yang dikirimkan ke nomor hp sms banking trus harus di masukkan dalam applikasi mandiri online agar benar bahwa si nasabah sedang melakukan transaksi dengan demikian pasti tetap aman mohon diperhatikan ya min terimakasih '"
      ]
     },
     "execution_count": 7,
     "metadata": {},
     "output_type": "execute_result"
    }
   ],
   "source": [
    "formal_comment[0]"
   ]
  },
  {
   "cell_type": "markdown",
   "metadata": {},
   "source": [
    "### Stopwords Removal (Manual)"
   ]
  },
  {
   "cell_type": "code",
   "execution_count": 8,
   "metadata": {},
   "outputs": [
    {
     "name": "stdout",
     "output_type": "stream",
     "text": [
      "There are 23 stopword list\n"
     ]
    }
   ],
   "source": [
    "stopwords = [\n",
    "    'yang', 'untuk', 'pada', 'antara', 'dan' , 'di', 'dari', 'hal', \n",
    "    'dalam', 'atau', 'kah', 'pun', 'dsb', 'dst', 'dll', 'toh', 'ya',\n",
    "    'saya', 'dengan', 'nya', 'ke', 'si', 'dah'\n",
    "]\n",
    "\n",
    "print(f'There are {len(stopwords)} stopword list')"
   ]
  },
  {
   "cell_type": "code",
   "execution_count": 9,
   "metadata": {},
   "outputs": [
    {
     "name": "stdout",
     "output_type": "stream",
     "text": [
      "We have 152 comments\n"
     ]
    }
   ],
   "source": [
    "clean_comment = []\n",
    "for comment in comment_stemmed:\n",
    "    for token in stopwords:\n",
    "        word = ' '+token+' '\n",
    "        comment = comment.replace(word, ' ')\n",
    "    if sentence.strip():\n",
    "        clean_comment.append(comment.strip())\n",
    "        \n",
    "print(f'We have {len(clean_comment)} comments')"
   ]
  },
  {
   "cell_type": "code",
   "execution_count": 10,
   "metadata": {},
   "outputs": [
    {
     "data": {
      "text/plain": [
       "'min bnyk kecewa lo update baru alih alih sempurna malah susah nasabah mandiri masuk agar kurang tindak tipu jahat waktu ada transaksi lebih rb rp maka bisa tambah security upa kirim nomor verifikasi kirim nomor hp sms banking trus harus masuk applikasi mandiri online agar benar bahwa nasabah sedang laku transaksi demikian pasti tetap aman mohon perhati min terimakasih'"
      ]
     },
     "execution_count": 10,
     "metadata": {},
     "output_type": "execute_result"
    }
   ],
   "source": [
    "clean_comment[0]"
   ]
  },
  {
   "cell_type": "markdown",
   "metadata": {},
   "source": [
    "### Tokenizing"
   ]
  },
  {
   "cell_type": "code",
   "execution_count": 84,
   "metadata": {
    "scrolled": true
   },
   "outputs": [
    {
     "data": {
      "text/plain": [
       "array([array(['min', 'bnyk', 'kecewa', 'lo', 'update', 'baru', 'alih', 'alih',\n",
       "       'sempurna', 'malah', 'susah', 'nasabah', 'mandiri', 'masuk',\n",
       "       'agar', 'kurang', 'tindak', 'tipu', 'jahat', 'waktu', 'ada',\n",
       "       'transaksi', 'lebih', 'rb', 'rp', 'maka', 'bisa', 'tambah',\n",
       "       'security', 'upa', 'kirim', 'nomor', 'verifikasi', 'kirim',\n",
       "       'nomor', 'hp', 'sms', 'banking', 'trus', 'harus', 'masuk',\n",
       "       'applikasi', 'mandiri', 'online', 'agar', 'benar', 'bahwa',\n",
       "       'nasabah', 'sedang', 'laku', 'transaksi', 'demikian', 'pasti',\n",
       "       'tetap', 'aman', 'mohon', 'perhati', 'min', 'terimakasih'],\n",
       "      dtype='<U11'),\n",
       "       array(['user', 'id', 'password', 'mesti', 'bank', 'gpplah', 'penting',\n",
       "       'aman', 'transaksi'], dtype='<U9')], dtype=object)"
      ]
     },
     "execution_count": 84,
     "metadata": {},
     "output_type": "execute_result"
    }
   ],
   "source": [
    "features = np.array([np.array(comment.split()) for comment in clean_comment])\n",
    "features[:2]"
   ]
  },
  {
   "cell_type": "code",
   "execution_count": null,
   "metadata": {},
   "outputs": [],
   "source": []
  },
  {
   "cell_type": "markdown",
   "metadata": {},
   "source": [
    "## Split Dataset\n"
   ]
  },
  {
   "cell_type": "markdown",
   "metadata": {},
   "source": [
    "> <b>Warning</b>: Don't run this code if you already have separated dataset before"
   ]
  },
  {
   "cell_type": "code",
   "execution_count": 69,
   "metadata": {
    "scrolled": true
   },
   "outputs": [
    {
     "data": {
      "text/plain": [
       "0    0.552632\n",
       "1    0.447368\n",
       "Name: polarity, dtype: float64"
      ]
     },
     "execution_count": 69,
     "metadata": {},
     "output_type": "execute_result"
    }
   ],
   "source": [
    "df.polarity.value_counts()/df.shape[0]"
   ]
  },
  {
   "cell_type": "code",
   "execution_count": 86,
   "metadata": {},
   "outputs": [
    {
     "data": {
      "text/plain": [
       "152"
      ]
     },
     "execution_count": 86,
     "metadata": {},
     "output_type": "execute_result"
    }
   ],
   "source": [
    "labels = np.array(df.polarity)\n",
    "len(labels)"
   ]
  },
  {
   "cell_type": "code",
   "execution_count": 72,
   "metadata": {
    "scrolled": true
   },
   "outputs": [
    {
     "name": "stdout",
     "output_type": "stream",
     "text": [
      "Train 0    0.694215\n",
      "1    0.305785\n",
      "Name: polarity, dtype: float64\n",
      "Test 1    1.0\n",
      "Name: polarity, dtype: float64\n",
      "===================\n",
      "Train 0    0.628099\n",
      "1    0.371901\n",
      "Name: polarity, dtype: float64\n",
      "Test 1    0.741935\n",
      "0    0.258065\n",
      "Name: polarity, dtype: float64\n",
      "===================\n",
      "Train 1    0.557377\n",
      "0    0.442623\n",
      "Name: polarity, dtype: float64\n",
      "Test 0    1.0\n",
      "Name: polarity, dtype: float64\n",
      "===================\n",
      "Train 0    0.508197\n",
      "1    0.491803\n",
      "Name: polarity, dtype: float64\n",
      "Test 0    0.733333\n",
      "1    0.266667\n",
      "Name: polarity, dtype: float64\n",
      "===================\n",
      "Train 1    0.508197\n",
      "0    0.491803\n",
      "Name: polarity, dtype: float64\n",
      "Test 0    0.8\n",
      "1    0.2\n",
      "Name: polarity, dtype: float64\n",
      "===================\n"
     ]
    },
    {
     "name": "stderr",
     "output_type": "stream",
     "text": [
      "C:\\ProgramData\\Anaconda3\\lib\\site-packages\\sklearn\\model_selection\\_split.py:296: FutureWarning: Setting a random_state has no effect since shuffle is False. This will raise an error in 0.24. You should leave random_state to its default (None), or set shuffle=True.\n",
      "  FutureWarning\n"
     ]
    }
   ],
   "source": [
    "kfold = KFold(n_splits=5, random_state=0)\n",
    "for train, test in kfold.split(features, labels):\n",
    "    print('Train', df.iloc[train, 1].value_counts() / len(train))\n",
    "    print('Test', df.iloc[test, 1].value_counts() / len(test))\n",
    "    print('===================')"
   ]
  },
  {
   "cell_type": "code",
   "execution_count": 73,
   "metadata": {
    "scrolled": true
   },
   "outputs": [
    {
     "name": "stdout",
     "output_type": "stream",
     "text": [
      "train 1\n",
      " 0    0.553719\n",
      "1    0.446281\n",
      "Name: polarity, dtype: float64\n",
      "test 1\n",
      " 0    0.548387\n",
      "1    0.451613\n",
      "Name: polarity, dtype: float64\n",
      "===================\n",
      "train 2\n",
      " 0    0.553719\n",
      "1    0.446281\n",
      "Name: polarity, dtype: float64\n",
      "test 2\n",
      " 0    0.548387\n",
      "1    0.451613\n",
      "Name: polarity, dtype: float64\n",
      "===================\n",
      "train 3\n",
      " 0    0.557377\n",
      "1    0.442623\n",
      "Name: polarity, dtype: float64\n",
      "test 3\n",
      " 0    0.533333\n",
      "1    0.466667\n",
      "Name: polarity, dtype: float64\n",
      "===================\n",
      "train 4\n",
      " 0    0.54918\n",
      "1    0.45082\n",
      "Name: polarity, dtype: float64\n",
      "test 4\n",
      " 0    0.566667\n",
      "1    0.433333\n",
      "Name: polarity, dtype: float64\n",
      "===================\n",
      "train 5\n",
      " 0    0.54918\n",
      "1    0.45082\n",
      "Name: polarity, dtype: float64\n",
      "test 5\n",
      " 0    0.566667\n",
      "1    0.433333\n",
      "Name: polarity, dtype: float64\n",
      "===================\n"
     ]
    }
   ],
   "source": [
    "# split and save index of each batch train-test\n",
    "skf = StratifiedKFold(n_splits=5, random_state=0)\n",
    "\n",
    "i = 1\n",
    "for train, test in skf.split(df.comment, df.polarity):\n",
    "    np.save(f'dataset/train_{i}', train)\n",
    "    np.save(f'dataset/test_{i}', test)\n",
    "    print(f'train {i}\\n', df.iloc[train, 1].value_counts()/len(train))\n",
    "    print(f'test {i}\\n', df.iloc[test, 1].value_counts()/len(test))\n",
    "    print('===================')\n",
    "    i += 1"
   ]
  },
  {
   "cell_type": "markdown",
   "metadata": {},
   "source": [
    "## Modelling"
   ]
  },
  {
   "cell_type": "markdown",
   "metadata": {},
   "source": [
    "### Multinomial Naive Bayes"
   ]
  },
  {
   "cell_type": "code",
   "execution_count": 141,
   "metadata": {
    "scrolled": false
   },
   "outputs": [
    {
     "name": "stdout",
     "output_type": "stream",
     "text": [
      "Train and evaluate model completed\n"
     ]
    }
   ],
   "source": [
    "NUM_BATCHES = 5\n",
    "features = np.array(clean_comment)\n",
    "labels = np.array(df.polarity)\n",
    "smoothing_parameter = [1.0, .1, .01, .001]\n",
    "train_eval, test_eval = [], []\n",
    "\n",
    "for i in range(NUM_BATCHES):\n",
    "\n",
    "    train_idx = np.load(f'dataset/train_{i+1}.npy')\n",
    "    test_idx = np.load(f'dataset/test_{i+1}.npy')\n",
    "    vectorizer = CountVectorizer()\n",
    "    \n",
    "    # \n",
    "    train_features = vectorizer.fit_transform(features[train_idx])\n",
    "    test_features = vectorizer.transform(features[test_idx])\n",
    "    train_labels = labels[train_idx]\n",
    "    test_labels = labels[test_idx]\n",
    "    \n",
    "    for param in smoothing_parameter:\n",
    "        clf = MultinomialNB(alpha=param)\n",
    "        clf.fit(train_features, train_labels)\n",
    "        train_acc = clf.score(train_features, train_labels)\n",
    "        test_acc = clf.score(test_features, test_labels)\n",
    "        \n",
    "        train_eval.append(train_acc)\n",
    "        test_eval.append(test_acc)\n",
    "\n",
    "print('Train and evaluate model completed')"
   ]
  },
  {
   "cell_type": "code",
   "execution_count": 147,
   "metadata": {},
   "outputs": [
    {
     "name": "stdout",
     "output_type": "stream",
     "text": [
      "Done\n"
     ]
    }
   ],
   "source": [
    "NUM_PARAMS = len(smoothing_parameter)\n",
    "train_history = [[] for i in range(NUM_PARAMS)]\n",
    "test_history = [[] for i in range(NUM_PARAMS)]\n",
    "\n",
    "for i in range(len(train_eval)):\n",
    "    idx = i % NUM_PARAMS\n",
    "    train_history[idx].append(train_eval[i])\n",
    "    test_history[idx].append(test_eval[i])\n",
    "\n",
    "# append the average accuracy\n",
    "for i in range(NUM_PARAMS):\n",
    "    train_history[i].append(sum(train_history[i])/NUM_BATCHES)\n",
    "    test_history[i].append(sum(test_history[i])/NUM_BATCHES)\n",
    "\n",
    "if len(train_history[-1]) == NUM_BATCHES+1:\n",
    "    print('Done')"
   ]
  },
  {
   "cell_type": "code",
   "execution_count": 159,
   "metadata": {
    "scrolled": true
   },
   "outputs": [
    {
     "data": {
      "text/html": [
       "<div>\n",
       "<style scoped>\n",
       "    .dataframe tbody tr th:only-of-type {\n",
       "        vertical-align: middle;\n",
       "    }\n",
       "\n",
       "    .dataframe tbody tr th {\n",
       "        vertical-align: top;\n",
       "    }\n",
       "\n",
       "    .dataframe thead th {\n",
       "        text-align: right;\n",
       "    }\n",
       "</style>\n",
       "<table border=\"1\" class=\"dataframe\">\n",
       "  <thead>\n",
       "    <tr style=\"text-align: right;\">\n",
       "      <th></th>\n",
       "      <th>Train Acc (a=1.0)</th>\n",
       "      <th>Test Acc (a=1.0)</th>\n",
       "      <th>Train Acc (a=0.1)</th>\n",
       "      <th>Test Acc (a=0.1)</th>\n",
       "      <th>Train Acc (a=0.01)</th>\n",
       "      <th>Test Acc (a=0.01)</th>\n",
       "      <th>Train Acc (a=0.001)</th>\n",
       "      <th>Test Acc (a=0.001)</th>\n",
       "    </tr>\n",
       "  </thead>\n",
       "  <tbody>\n",
       "    <tr>\n",
       "      <th>Batch-1</th>\n",
       "      <td>0.975207</td>\n",
       "      <td>0.741935</td>\n",
       "      <td>1.000000</td>\n",
       "      <td>0.677419</td>\n",
       "      <td>1.000000</td>\n",
       "      <td>0.709677</td>\n",
       "      <td>1.000000</td>\n",
       "      <td>0.677419</td>\n",
       "    </tr>\n",
       "    <tr>\n",
       "      <th>Batch-2</th>\n",
       "      <td>0.950413</td>\n",
       "      <td>0.903226</td>\n",
       "      <td>0.975207</td>\n",
       "      <td>0.774194</td>\n",
       "      <td>0.975207</td>\n",
       "      <td>0.612903</td>\n",
       "      <td>0.975207</td>\n",
       "      <td>0.612903</td>\n",
       "    </tr>\n",
       "    <tr>\n",
       "      <th>Batch-3</th>\n",
       "      <td>0.975410</td>\n",
       "      <td>0.800000</td>\n",
       "      <td>0.975410</td>\n",
       "      <td>0.766667</td>\n",
       "      <td>0.983607</td>\n",
       "      <td>0.733333</td>\n",
       "      <td>0.983607</td>\n",
       "      <td>0.700000</td>\n",
       "    </tr>\n",
       "    <tr>\n",
       "      <th>Batch-4</th>\n",
       "      <td>0.967213</td>\n",
       "      <td>0.766667</td>\n",
       "      <td>0.983607</td>\n",
       "      <td>0.833333</td>\n",
       "      <td>0.991803</td>\n",
       "      <td>0.833333</td>\n",
       "      <td>0.991803</td>\n",
       "      <td>0.800000</td>\n",
       "    </tr>\n",
       "    <tr>\n",
       "      <th>Batch-5</th>\n",
       "      <td>0.975410</td>\n",
       "      <td>0.400000</td>\n",
       "      <td>0.991803</td>\n",
       "      <td>0.333333</td>\n",
       "      <td>0.991803</td>\n",
       "      <td>0.300000</td>\n",
       "      <td>0.991803</td>\n",
       "      <td>0.300000</td>\n",
       "    </tr>\n",
       "    <tr>\n",
       "      <th>Average</th>\n",
       "      <td>0.968731</td>\n",
       "      <td>0.722366</td>\n",
       "      <td>0.985205</td>\n",
       "      <td>0.676989</td>\n",
       "      <td>0.988484</td>\n",
       "      <td>0.637849</td>\n",
       "      <td>0.988484</td>\n",
       "      <td>0.618065</td>\n",
       "    </tr>\n",
       "  </tbody>\n",
       "</table>\n",
       "</div>"
      ],
      "text/plain": [
       "         Train Acc (a=1.0)  Test Acc (a=1.0)  Train Acc (a=0.1)  \\\n",
       "Batch-1           0.975207          0.741935           1.000000   \n",
       "Batch-2           0.950413          0.903226           0.975207   \n",
       "Batch-3           0.975410          0.800000           0.975410   \n",
       "Batch-4           0.967213          0.766667           0.983607   \n",
       "Batch-5           0.975410          0.400000           0.991803   \n",
       "Average           0.968731          0.722366           0.985205   \n",
       "\n",
       "         Test Acc (a=0.1)  Train Acc (a=0.01)  Test Acc (a=0.01)  \\\n",
       "Batch-1          0.677419            1.000000           0.709677   \n",
       "Batch-2          0.774194            0.975207           0.612903   \n",
       "Batch-3          0.766667            0.983607           0.733333   \n",
       "Batch-4          0.833333            0.991803           0.833333   \n",
       "Batch-5          0.333333            0.991803           0.300000   \n",
       "Average          0.676989            0.988484           0.637849   \n",
       "\n",
       "         Train Acc (a=0.001)  Test Acc (a=0.001)  \n",
       "Batch-1             1.000000            0.677419  \n",
       "Batch-2             0.975207            0.612903  \n",
       "Batch-3             0.983607            0.700000  \n",
       "Batch-4             0.991803            0.800000  \n",
       "Batch-5             0.991803            0.300000  \n",
       "Average             0.988484            0.618065  "
      ]
     },
     "execution_count": 159,
     "metadata": {},
     "output_type": "execute_result"
    }
   ],
   "source": [
    "eval_history = {}\n",
    "for i in range(NUM_PARAMS):\n",
    "    eval_history[f'Train Acc (a={smoothing_parameter[i]})'] = train_history[i] \n",
    "    eval_history[f'Test Acc (a={smoothing_parameter[i]})'] = test_history[i]\n",
    "    \n",
    "history = pd.DataFrame(eval_history, index=['Batch-1', 'Batch-2', 'Batch-3', \n",
    "                                            'Batch-4', 'Batch-5', 'Average'])\n",
    "history"
   ]
  },
  {
   "cell_type": "markdown",
   "metadata": {},
   "source": [
    "the lower the alpha value, the lower the accuracy value on the test data (Overfitting)\n",
    "\n",
    "We got <b>the best result</b> from Multinomial Naive Bayes Model with <b>alpha = 1.0</b> that is: <h3>72.24%</h3>"
   ]
  },
  {
   "cell_type": "markdown",
   "metadata": {},
   "source": [
    "### Multinomial Naive Bayes + TF-IDF"
   ]
  },
  {
   "cell_type": "markdown",
   "metadata": {},
   "source": [
    "<h3>Important</h3>\n",
    "<ol>\n",
    "    <li>ngram_range</li>\n",
    "    <li>max_df: occurred in too many documents(common word)</li>\n",
    "    <li>min_df: occurred in too few documents (typo, alay)</li>\n",
    "</ol>"
   ]
  },
  {
   "cell_type": "code",
   "execution_count": 94,
   "metadata": {},
   "outputs": [
    {
     "data": {
      "text/plain": [
       "[((1, 1), 0.0, 0.4), ((1, 1), 0.0, 0.5), ((1, 1), 0.0, 0.6)]"
      ]
     },
     "execution_count": 94,
     "metadata": {},
     "output_type": "execute_result"
    }
   ],
   "source": [
    "ngram = [(1, 1), (1, 2), (1, 3)]\n",
    "min_df = [0.0, .1, .2, .3]\n",
    "max_df = [.4, .5, .6, .7 , .8, .9, 1.0]\n",
    "\n",
    "param_combinations = list(product(ngram, min_df, max_df))\n",
    "param_combinations[:3]"
   ]
  },
  {
   "cell_type": "code",
   "execution_count": 95,
   "metadata": {},
   "outputs": [
    {
     "name": "stdout",
     "output_type": "stream",
     "text": [
      "Train and evaluate model completed\n"
     ]
    }
   ],
   "source": [
    "NUM_BATCHES = 5\n",
    "features = np.array(clean_comment)\n",
    "labels = np.array(df.polarity)\n",
    "train_eval, test_eval = [], []\n",
    "\n",
    "for i in range(NUM_BATCHES):\n",
    "\n",
    "    train_idx = np.load(f'dataset/train_{i+1}.npy')\n",
    "    test_idx = np.load(f'dataset/test_{i+1}.npy')\n",
    "    train_labels = labels[train_idx]\n",
    "    test_labels = labels[test_idx]\n",
    "    \n",
    "    for param in param_combinations:\n",
    "        tfidf_vectorizer = TfidfVectorizer(ngram_range=param[0], min_df=param[1], max_df=param[2])\n",
    "        train_features = tfidf_vectorizer.fit_transform(features[train_idx])\n",
    "        test_features = tfidf_vectorizer.transform(features[test_idx])\n",
    "        \n",
    "        # train and evaluate\n",
    "        clf = MultinomialNB()\n",
    "        clf.fit(train_features, train_labels)\n",
    "        train_acc = clf.score(train_features, train_labels)\n",
    "        test_acc = clf.score(test_features, test_labels)\n",
    "        \n",
    "        train_eval.append(train_acc)\n",
    "        test_eval.append(test_acc)\n",
    "        \n",
    "print('Train and evaluate model completed')"
   ]
  },
  {
   "cell_type": "code",
   "execution_count": 96,
   "metadata": {},
   "outputs": [
    {
     "name": "stdout",
     "output_type": "stream",
     "text": [
      "Done\n"
     ]
    }
   ],
   "source": [
    "NUM_PARAMS = len(param_combinations)\n",
    "train_history = [[] for i in range(NUM_PARAMS)]\n",
    "test_history = [[] for i in range(NUM_PARAMS)]\n",
    "\n",
    "for i in range(len(train_eval)):\n",
    "    idx = i % NUM_PARAMS\n",
    "    train_history[idx].append(train_eval[i])\n",
    "    test_history[idx].append(test_eval[i])\n",
    "\n",
    "# append the average accuracy\n",
    "for i in range(NUM_PARAMS):\n",
    "    train_history[i].append(sum(train_history[i])/NUM_BATCHES)\n",
    "    test_history[i].append(sum(test_history[i])/NUM_BATCHES)\n",
    "\n",
    "if len(train_history[-1]) == NUM_BATCHES+1:\n",
    "    print('Done')"
   ]
  },
  {
   "cell_type": "code",
   "execution_count": 97,
   "metadata": {},
   "outputs": [
    {
     "data": {
      "text/html": [
       "<div>\n",
       "<style scoped>\n",
       "    .dataframe tbody tr th:only-of-type {\n",
       "        vertical-align: middle;\n",
       "    }\n",
       "\n",
       "    .dataframe tbody tr th {\n",
       "        vertical-align: top;\n",
       "    }\n",
       "\n",
       "    .dataframe thead th {\n",
       "        text-align: right;\n",
       "    }\n",
       "</style>\n",
       "<table border=\"1\" class=\"dataframe\">\n",
       "  <thead>\n",
       "    <tr style=\"text-align: right;\">\n",
       "      <th></th>\n",
       "      <th>Train Acc (ngram=(1, 1)), min_df=0.0, max_df=0.4</th>\n",
       "      <th>Test Acc (ngram=(1, 1)), min_df=0.0, max_df=0.4</th>\n",
       "      <th>Train Acc (ngram=(1, 1)), min_df=0.0, max_df=0.5</th>\n",
       "      <th>Test Acc (ngram=(1, 1)), min_df=0.0, max_df=0.5</th>\n",
       "      <th>Train Acc (ngram=(1, 1)), min_df=0.0, max_df=0.6</th>\n",
       "      <th>Test Acc (ngram=(1, 1)), min_df=0.0, max_df=0.6</th>\n",
       "      <th>Train Acc (ngram=(1, 1)), min_df=0.0, max_df=0.7</th>\n",
       "      <th>Test Acc (ngram=(1, 1)), min_df=0.0, max_df=0.7</th>\n",
       "      <th>Train Acc (ngram=(1, 1)), min_df=0.0, max_df=0.8</th>\n",
       "      <th>Test Acc (ngram=(1, 1)), min_df=0.0, max_df=0.8</th>\n",
       "      <th>...</th>\n",
       "      <th>Train Acc (ngram=(1, 3)), min_df=0.3, max_df=0.6</th>\n",
       "      <th>Test Acc (ngram=(1, 3)), min_df=0.3, max_df=0.6</th>\n",
       "      <th>Train Acc (ngram=(1, 3)), min_df=0.3, max_df=0.7</th>\n",
       "      <th>Test Acc (ngram=(1, 3)), min_df=0.3, max_df=0.7</th>\n",
       "      <th>Train Acc (ngram=(1, 3)), min_df=0.3, max_df=0.8</th>\n",
       "      <th>Test Acc (ngram=(1, 3)), min_df=0.3, max_df=0.8</th>\n",
       "      <th>Train Acc (ngram=(1, 3)), min_df=0.3, max_df=0.9</th>\n",
       "      <th>Test Acc (ngram=(1, 3)), min_df=0.3, max_df=0.9</th>\n",
       "      <th>Train Acc (ngram=(1, 3)), min_df=0.3, max_df=1.0</th>\n",
       "      <th>Test Acc (ngram=(1, 3)), min_df=0.3, max_df=1.0</th>\n",
       "    </tr>\n",
       "  </thead>\n",
       "  <tbody>\n",
       "    <tr>\n",
       "      <th>Batch-1</th>\n",
       "      <td>0.991736</td>\n",
       "      <td>0.709677</td>\n",
       "      <td>0.991736</td>\n",
       "      <td>0.709677</td>\n",
       "      <td>0.991736</td>\n",
       "      <td>0.709677</td>\n",
       "      <td>0.991736</td>\n",
       "      <td>0.709677</td>\n",
       "      <td>0.991736</td>\n",
       "      <td>0.709677</td>\n",
       "      <td>...</td>\n",
       "      <td>0.834711</td>\n",
       "      <td>0.935484</td>\n",
       "      <td>0.834711</td>\n",
       "      <td>0.935484</td>\n",
       "      <td>0.834711</td>\n",
       "      <td>0.935484</td>\n",
       "      <td>0.834711</td>\n",
       "      <td>0.935484</td>\n",
       "      <td>0.834711</td>\n",
       "      <td>0.935484</td>\n",
       "    </tr>\n",
       "    <tr>\n",
       "      <th>Batch-2</th>\n",
       "      <td>0.975207</td>\n",
       "      <td>0.774194</td>\n",
       "      <td>0.975207</td>\n",
       "      <td>0.774194</td>\n",
       "      <td>0.975207</td>\n",
       "      <td>0.774194</td>\n",
       "      <td>0.975207</td>\n",
       "      <td>0.774194</td>\n",
       "      <td>0.975207</td>\n",
       "      <td>0.774194</td>\n",
       "      <td>...</td>\n",
       "      <td>0.826446</td>\n",
       "      <td>0.935484</td>\n",
       "      <td>0.826446</td>\n",
       "      <td>0.935484</td>\n",
       "      <td>0.826446</td>\n",
       "      <td>0.935484</td>\n",
       "      <td>0.826446</td>\n",
       "      <td>0.935484</td>\n",
       "      <td>0.826446</td>\n",
       "      <td>0.935484</td>\n",
       "    </tr>\n",
       "    <tr>\n",
       "      <th>Batch-3</th>\n",
       "      <td>0.975410</td>\n",
       "      <td>0.700000</td>\n",
       "      <td>0.975410</td>\n",
       "      <td>0.700000</td>\n",
       "      <td>0.975410</td>\n",
       "      <td>0.700000</td>\n",
       "      <td>0.975410</td>\n",
       "      <td>0.700000</td>\n",
       "      <td>0.975410</td>\n",
       "      <td>0.700000</td>\n",
       "      <td>...</td>\n",
       "      <td>0.860656</td>\n",
       "      <td>0.933333</td>\n",
       "      <td>0.860656</td>\n",
       "      <td>0.933333</td>\n",
       "      <td>0.860656</td>\n",
       "      <td>0.933333</td>\n",
       "      <td>0.860656</td>\n",
       "      <td>0.933333</td>\n",
       "      <td>0.860656</td>\n",
       "      <td>0.933333</td>\n",
       "    </tr>\n",
       "    <tr>\n",
       "      <th>Batch-4</th>\n",
       "      <td>0.975410</td>\n",
       "      <td>0.800000</td>\n",
       "      <td>0.975410</td>\n",
       "      <td>0.733333</td>\n",
       "      <td>0.975410</td>\n",
       "      <td>0.733333</td>\n",
       "      <td>0.975410</td>\n",
       "      <td>0.733333</td>\n",
       "      <td>0.975410</td>\n",
       "      <td>0.733333</td>\n",
       "      <td>...</td>\n",
       "      <td>0.868852</td>\n",
       "      <td>0.900000</td>\n",
       "      <td>0.868852</td>\n",
       "      <td>0.900000</td>\n",
       "      <td>0.868852</td>\n",
       "      <td>0.900000</td>\n",
       "      <td>0.868852</td>\n",
       "      <td>0.900000</td>\n",
       "      <td>0.868852</td>\n",
       "      <td>0.900000</td>\n",
       "    </tr>\n",
       "    <tr>\n",
       "      <th>Batch-5</th>\n",
       "      <td>0.959016</td>\n",
       "      <td>0.466667</td>\n",
       "      <td>0.959016</td>\n",
       "      <td>0.533333</td>\n",
       "      <td>0.959016</td>\n",
       "      <td>0.533333</td>\n",
       "      <td>0.959016</td>\n",
       "      <td>0.533333</td>\n",
       "      <td>0.959016</td>\n",
       "      <td>0.533333</td>\n",
       "      <td>...</td>\n",
       "      <td>0.868852</td>\n",
       "      <td>0.600000</td>\n",
       "      <td>0.868852</td>\n",
       "      <td>0.600000</td>\n",
       "      <td>0.868852</td>\n",
       "      <td>0.600000</td>\n",
       "      <td>0.868852</td>\n",
       "      <td>0.600000</td>\n",
       "      <td>0.868852</td>\n",
       "      <td>0.600000</td>\n",
       "    </tr>\n",
       "    <tr>\n",
       "      <th>Average</th>\n",
       "      <td>0.975356</td>\n",
       "      <td>0.690108</td>\n",
       "      <td>0.975356</td>\n",
       "      <td>0.690108</td>\n",
       "      <td>0.975356</td>\n",
       "      <td>0.690108</td>\n",
       "      <td>0.975356</td>\n",
       "      <td>0.690108</td>\n",
       "      <td>0.975356</td>\n",
       "      <td>0.690108</td>\n",
       "      <td>...</td>\n",
       "      <td>0.851904</td>\n",
       "      <td>0.860860</td>\n",
       "      <td>0.851904</td>\n",
       "      <td>0.860860</td>\n",
       "      <td>0.851904</td>\n",
       "      <td>0.860860</td>\n",
       "      <td>0.851904</td>\n",
       "      <td>0.860860</td>\n",
       "      <td>0.851904</td>\n",
       "      <td>0.860860</td>\n",
       "    </tr>\n",
       "  </tbody>\n",
       "</table>\n",
       "<p>6 rows × 168 columns</p>\n",
       "</div>"
      ],
      "text/plain": [
       "         Train Acc (ngram=(1, 1)), min_df=0.0, max_df=0.4  \\\n",
       "Batch-1                                          0.991736   \n",
       "Batch-2                                          0.975207   \n",
       "Batch-3                                          0.975410   \n",
       "Batch-4                                          0.975410   \n",
       "Batch-5                                          0.959016   \n",
       "Average                                          0.975356   \n",
       "\n",
       "         Test Acc (ngram=(1, 1)), min_df=0.0, max_df=0.4  \\\n",
       "Batch-1                                         0.709677   \n",
       "Batch-2                                         0.774194   \n",
       "Batch-3                                         0.700000   \n",
       "Batch-4                                         0.800000   \n",
       "Batch-5                                         0.466667   \n",
       "Average                                         0.690108   \n",
       "\n",
       "         Train Acc (ngram=(1, 1)), min_df=0.0, max_df=0.5  \\\n",
       "Batch-1                                          0.991736   \n",
       "Batch-2                                          0.975207   \n",
       "Batch-3                                          0.975410   \n",
       "Batch-4                                          0.975410   \n",
       "Batch-5                                          0.959016   \n",
       "Average                                          0.975356   \n",
       "\n",
       "         Test Acc (ngram=(1, 1)), min_df=0.0, max_df=0.5  \\\n",
       "Batch-1                                         0.709677   \n",
       "Batch-2                                         0.774194   \n",
       "Batch-3                                         0.700000   \n",
       "Batch-4                                         0.733333   \n",
       "Batch-5                                         0.533333   \n",
       "Average                                         0.690108   \n",
       "\n",
       "         Train Acc (ngram=(1, 1)), min_df=0.0, max_df=0.6  \\\n",
       "Batch-1                                          0.991736   \n",
       "Batch-2                                          0.975207   \n",
       "Batch-3                                          0.975410   \n",
       "Batch-4                                          0.975410   \n",
       "Batch-5                                          0.959016   \n",
       "Average                                          0.975356   \n",
       "\n",
       "         Test Acc (ngram=(1, 1)), min_df=0.0, max_df=0.6  \\\n",
       "Batch-1                                         0.709677   \n",
       "Batch-2                                         0.774194   \n",
       "Batch-3                                         0.700000   \n",
       "Batch-4                                         0.733333   \n",
       "Batch-5                                         0.533333   \n",
       "Average                                         0.690108   \n",
       "\n",
       "         Train Acc (ngram=(1, 1)), min_df=0.0, max_df=0.7  \\\n",
       "Batch-1                                          0.991736   \n",
       "Batch-2                                          0.975207   \n",
       "Batch-3                                          0.975410   \n",
       "Batch-4                                          0.975410   \n",
       "Batch-5                                          0.959016   \n",
       "Average                                          0.975356   \n",
       "\n",
       "         Test Acc (ngram=(1, 1)), min_df=0.0, max_df=0.7  \\\n",
       "Batch-1                                         0.709677   \n",
       "Batch-2                                         0.774194   \n",
       "Batch-3                                         0.700000   \n",
       "Batch-4                                         0.733333   \n",
       "Batch-5                                         0.533333   \n",
       "Average                                         0.690108   \n",
       "\n",
       "         Train Acc (ngram=(1, 1)), min_df=0.0, max_df=0.8  \\\n",
       "Batch-1                                          0.991736   \n",
       "Batch-2                                          0.975207   \n",
       "Batch-3                                          0.975410   \n",
       "Batch-4                                          0.975410   \n",
       "Batch-5                                          0.959016   \n",
       "Average                                          0.975356   \n",
       "\n",
       "         Test Acc (ngram=(1, 1)), min_df=0.0, max_df=0.8  ...  \\\n",
       "Batch-1                                         0.709677  ...   \n",
       "Batch-2                                         0.774194  ...   \n",
       "Batch-3                                         0.700000  ...   \n",
       "Batch-4                                         0.733333  ...   \n",
       "Batch-5                                         0.533333  ...   \n",
       "Average                                         0.690108  ...   \n",
       "\n",
       "         Train Acc (ngram=(1, 3)), min_df=0.3, max_df=0.6  \\\n",
       "Batch-1                                          0.834711   \n",
       "Batch-2                                          0.826446   \n",
       "Batch-3                                          0.860656   \n",
       "Batch-4                                          0.868852   \n",
       "Batch-5                                          0.868852   \n",
       "Average                                          0.851904   \n",
       "\n",
       "         Test Acc (ngram=(1, 3)), min_df=0.3, max_df=0.6  \\\n",
       "Batch-1                                         0.935484   \n",
       "Batch-2                                         0.935484   \n",
       "Batch-3                                         0.933333   \n",
       "Batch-4                                         0.900000   \n",
       "Batch-5                                         0.600000   \n",
       "Average                                         0.860860   \n",
       "\n",
       "         Train Acc (ngram=(1, 3)), min_df=0.3, max_df=0.7  \\\n",
       "Batch-1                                          0.834711   \n",
       "Batch-2                                          0.826446   \n",
       "Batch-3                                          0.860656   \n",
       "Batch-4                                          0.868852   \n",
       "Batch-5                                          0.868852   \n",
       "Average                                          0.851904   \n",
       "\n",
       "         Test Acc (ngram=(1, 3)), min_df=0.3, max_df=0.7  \\\n",
       "Batch-1                                         0.935484   \n",
       "Batch-2                                         0.935484   \n",
       "Batch-3                                         0.933333   \n",
       "Batch-4                                         0.900000   \n",
       "Batch-5                                         0.600000   \n",
       "Average                                         0.860860   \n",
       "\n",
       "         Train Acc (ngram=(1, 3)), min_df=0.3, max_df=0.8  \\\n",
       "Batch-1                                          0.834711   \n",
       "Batch-2                                          0.826446   \n",
       "Batch-3                                          0.860656   \n",
       "Batch-4                                          0.868852   \n",
       "Batch-5                                          0.868852   \n",
       "Average                                          0.851904   \n",
       "\n",
       "         Test Acc (ngram=(1, 3)), min_df=0.3, max_df=0.8  \\\n",
       "Batch-1                                         0.935484   \n",
       "Batch-2                                         0.935484   \n",
       "Batch-3                                         0.933333   \n",
       "Batch-4                                         0.900000   \n",
       "Batch-5                                         0.600000   \n",
       "Average                                         0.860860   \n",
       "\n",
       "         Train Acc (ngram=(1, 3)), min_df=0.3, max_df=0.9  \\\n",
       "Batch-1                                          0.834711   \n",
       "Batch-2                                          0.826446   \n",
       "Batch-3                                          0.860656   \n",
       "Batch-4                                          0.868852   \n",
       "Batch-5                                          0.868852   \n",
       "Average                                          0.851904   \n",
       "\n",
       "         Test Acc (ngram=(1, 3)), min_df=0.3, max_df=0.9  \\\n",
       "Batch-1                                         0.935484   \n",
       "Batch-2                                         0.935484   \n",
       "Batch-3                                         0.933333   \n",
       "Batch-4                                         0.900000   \n",
       "Batch-5                                         0.600000   \n",
       "Average                                         0.860860   \n",
       "\n",
       "         Train Acc (ngram=(1, 3)), min_df=0.3, max_df=1.0  \\\n",
       "Batch-1                                          0.834711   \n",
       "Batch-2                                          0.826446   \n",
       "Batch-3                                          0.860656   \n",
       "Batch-4                                          0.868852   \n",
       "Batch-5                                          0.868852   \n",
       "Average                                          0.851904   \n",
       "\n",
       "         Test Acc (ngram=(1, 3)), min_df=0.3, max_df=1.0  \n",
       "Batch-1                                         0.935484  \n",
       "Batch-2                                         0.935484  \n",
       "Batch-3                                         0.933333  \n",
       "Batch-4                                         0.900000  \n",
       "Batch-5                                         0.600000  \n",
       "Average                                         0.860860  \n",
       "\n",
       "[6 rows x 168 columns]"
      ]
     },
     "execution_count": 97,
     "metadata": {},
     "output_type": "execute_result"
    }
   ],
   "source": [
    "eval_history = {}\n",
    "for i in range(NUM_PARAMS):\n",
    "    eval_history[f'Train Acc (ngram={param_combinations[i][0]}), min_df={param_combinations[i][1]}, max_df={param_combinations[i][2]}'] = train_history[i] \n",
    "    eval_history[f'Test Acc (ngram={param_combinations[i][0]}), min_df={param_combinations[i][1]}, max_df={param_combinations[i][2]}'] = test_history[i]\n",
    "    \n",
    "history_tfidf = pd.DataFrame(eval_history, index=['Batch-1', 'Batch-2', 'Batch-3', \n",
    "                                                  'Batch-4', 'Batch-5', 'Average'])\n",
    "history_tfidf"
   ]
  },
  {
   "cell_type": "code",
   "execution_count": 98,
   "metadata": {},
   "outputs": [
    {
     "data": {
      "text/plain": [
       "'Test Acc (ngram=(1, 1)), min_df=0.3, max_df=0.5'"
      ]
     },
     "execution_count": 98,
     "metadata": {},
     "output_type": "execute_result"
    }
   ],
   "source": [
    "test_col = [col for col in history_tfidf.columns if col.startswith('Test')]\n",
    "test_col[history_tfidf.loc['Average', test_col].argmax()]"
   ]
  },
  {
   "cell_type": "code",
   "execution_count": 99,
   "metadata": {},
   "outputs": [
    {
     "data": {
      "text/html": [
       "<div>\n",
       "<style scoped>\n",
       "    .dataframe tbody tr th:only-of-type {\n",
       "        vertical-align: middle;\n",
       "    }\n",
       "\n",
       "    .dataframe tbody tr th {\n",
       "        vertical-align: top;\n",
       "    }\n",
       "\n",
       "    .dataframe thead th {\n",
       "        text-align: right;\n",
       "    }\n",
       "</style>\n",
       "<table border=\"1\" class=\"dataframe\">\n",
       "  <thead>\n",
       "    <tr style=\"text-align: right;\">\n",
       "      <th></th>\n",
       "      <th>Train Acc (ngram=(1, 1)), min_df=0.3, max_df=0.5</th>\n",
       "      <th>Test Acc (ngram=(1, 1)), min_df=0.3, max_df=0.5</th>\n",
       "    </tr>\n",
       "  </thead>\n",
       "  <tbody>\n",
       "    <tr>\n",
       "      <th>Batch-1</th>\n",
       "      <td>0.834711</td>\n",
       "      <td>0.935484</td>\n",
       "    </tr>\n",
       "    <tr>\n",
       "      <th>Batch-2</th>\n",
       "      <td>0.826446</td>\n",
       "      <td>0.935484</td>\n",
       "    </tr>\n",
       "    <tr>\n",
       "      <th>Batch-3</th>\n",
       "      <td>0.860656</td>\n",
       "      <td>0.933333</td>\n",
       "    </tr>\n",
       "    <tr>\n",
       "      <th>Batch-4</th>\n",
       "      <td>0.868852</td>\n",
       "      <td>0.900000</td>\n",
       "    </tr>\n",
       "    <tr>\n",
       "      <th>Batch-5</th>\n",
       "      <td>0.868852</td>\n",
       "      <td>0.600000</td>\n",
       "    </tr>\n",
       "    <tr>\n",
       "      <th>Average</th>\n",
       "      <td>0.851904</td>\n",
       "      <td>0.860860</td>\n",
       "    </tr>\n",
       "  </tbody>\n",
       "</table>\n",
       "</div>"
      ],
      "text/plain": [
       "         Train Acc (ngram=(1, 1)), min_df=0.3, max_df=0.5  \\\n",
       "Batch-1                                          0.834711   \n",
       "Batch-2                                          0.826446   \n",
       "Batch-3                                          0.860656   \n",
       "Batch-4                                          0.868852   \n",
       "Batch-5                                          0.868852   \n",
       "Average                                          0.851904   \n",
       "\n",
       "         Test Acc (ngram=(1, 1)), min_df=0.3, max_df=0.5  \n",
       "Batch-1                                         0.935484  \n",
       "Batch-2                                         0.935484  \n",
       "Batch-3                                         0.933333  \n",
       "Batch-4                                         0.900000  \n",
       "Batch-5                                         0.600000  \n",
       "Average                                         0.860860  "
      ]
     },
     "execution_count": 99,
     "metadata": {},
     "output_type": "execute_result"
    }
   ],
   "source": [
    "history_tfidf[['Train Acc (ngram=(1, 1)), min_df=0.3, max_df=0.5', 'Test Acc (ngram=(1, 1)), min_df=0.3, max_df=0.5']]"
   ]
  },
  {
   "cell_type": "markdown",
   "metadata": {},
   "source": [
    "\n",
    "We got <b>the best result</b> from Multinomial Naive Bayes Model with \n",
    "<b>minimum</b> of word's occurrences is <b>30%</b> of total documents, \n",
    "<b>maximum</b> of word's occurrences is <b>50%</b> of total documents, \n",
    "and <b>only use 1 gram</b> that is: <h3>86.01%</h3>"
   ]
  },
  {
   "cell_type": "markdown",
   "metadata": {},
   "source": [
    "### Multinomial Naive Bayes +  Information Gain"
   ]
  },
  {
   "cell_type": "code",
   "execution_count": 166,
   "metadata": {},
   "outputs": [
    {
     "data": {
      "text/plain": [
       "[('aman', 0.3195094428637498),\n",
       " ('bahaya', 0.1436441992148773),\n",
       " ('hati', 0.07445484833759905),\n",
       " ('kalau', 0.07350923605698463),\n",
       " ('hack', 0.06330048710739114)]"
      ]
     },
     "execution_count": 166,
     "metadata": {},
     "output_type": "execute_result"
    }
   ],
   "source": [
    "train_idx = np.load(f'dataset/train_1.npy')\n",
    "test_idx = np.load(f'dataset/test_1.npy')\n",
    "train_labels = labels[train_idx]\n",
    "test_labels = labels[test_idx]\n",
    "\n",
    "vectorizer = CountVectorizer()\n",
    "train_count_features = vectorizer.fit_transform(features[train_idx])\n",
    "test_count_features = vectorizer.transform(features[test_idx])\n",
    "\n",
    "ig_res = dict(zip(vectorizer.get_feature_names(),\n",
    "                  mutual_info_classif(train_count_features, train_labels, discrete_features=True)\n",
    "               ))\n",
    "ig_res = sorted(ig_res.items(), key=lambda x: x[1], reverse=True)\n",
    "ig_res[:5]"
   ]
  },
  {
   "cell_type": "code",
   "execution_count": 212,
   "metadata": {},
   "outputs": [],
   "source": [
    "def remove_token(bad_token, dataset):\n",
    "    clean_dataset = []\n",
    "    for comment in dataset:\n",
    "        comment = ' '+comment+' '\n",
    "        for token in bad_token:\n",
    "            word = ' '+token+' '\n",
    "            comment = comment.replace(word, ' ')\n",
    "        \n",
    "        clean_dataset.append(comment.strip())\n",
    "        \n",
    "    return np.array(clean_dataset)\n"
   ]
  },
  {
   "cell_type": "code",
   "execution_count": 213,
   "metadata": {},
   "outputs": [
    {
     "name": "stdout",
     "output_type": "stream",
     "text": [
      "Train and evaluate model completed\n"
     ]
    }
   ],
   "source": [
    "NUM_BATCHES = 5\n",
    "ig_tresh = [1e-2, 1e-3, 1e-4, 1e-100]\n",
    "features = np.array(clean_comment)\n",
    "labels = np.array(df.polarity)\n",
    "train_eval, test_eval = [], []\n",
    "\n",
    "for i in range(NUM_BATCHES):\n",
    "\n",
    "    train_idx = np.load(f'dataset/train_{i+1}.npy')\n",
    "    test_idx = np.load(f'dataset/test_{i+1}.npy')\n",
    "    train_labels = labels[train_idx]\n",
    "    test_labels = labels[test_idx]\n",
    "    \n",
    "    vectorizer = CountVectorizer()\n",
    "    train_count_features = vectorizer.fit_transform(features[train_idx])\n",
    "    test_count_features = vectorizer.transform(features[test_idx])\n",
    "\n",
    "    ig_res = dict(zip(vectorizer.get_feature_names(),\n",
    "                      mutual_info_classif(train_count_features, train_labels, discrete_features=True)\n",
    "                   ))\n",
    "    ig_res = sorted(ig_res.items(), key=lambda x: x[1], reverse=True)\n",
    "\n",
    "    below_tresh = []\n",
    "    for j in range(len(ig_tresh)):\n",
    "        below_tresh.append([ig[0] for ig in ig_res if ig[1] < ig_tresh[j]])\n",
    "    \n",
    "        new_features = remove_token(below_tresh[j], features)\n",
    "\n",
    "        tfidf_vectorizer = TfidfVectorizer()\n",
    "        train_features = tfidf_vectorizer.fit_transform(new_features[train_idx])\n",
    "        test_features = tfidf_vectorizer.transform(new_features[test_idx])\n",
    "\n",
    "        # train and evaluate\n",
    "        clf = MultinomialNB()\n",
    "        clf.fit(train_features, train_labels)\n",
    "        train_acc = clf.score(train_features, train_labels)\n",
    "        test_acc = clf.score(test_features, test_labels)\n",
    "\n",
    "        train_eval.append(train_acc)\n",
    "        test_eval.append(test_acc)\n",
    "\n",
    "print('Train and evaluate model completed')"
   ]
  },
  {
   "cell_type": "code",
   "execution_count": 215,
   "metadata": {},
   "outputs": [
    {
     "name": "stdout",
     "output_type": "stream",
     "text": [
      "Done\n"
     ]
    }
   ],
   "source": [
    "NUM_PARAMS = len(ig_tresh)\n",
    "train_history = [[] for i in range(NUM_PARAMS)]\n",
    "test_history = [[] for i in range(NUM_PARAMS)]\n",
    "\n",
    "for i in range(len(train_eval)):\n",
    "    idx = i % NUM_PARAMS\n",
    "    train_history[idx].append(train_eval[i])\n",
    "    test_history[idx].append(test_eval[i])\n",
    "\n",
    "# append the average accuracy\n",
    "for i in range(NUM_PARAMS):\n",
    "    train_history[i].append(sum(train_history[i])/NUM_BATCHES)\n",
    "    test_history[i].append(sum(test_history[i])/NUM_BATCHES)\n",
    "\n",
    "if len(train_history[-1]) == NUM_BATCHES+1:\n",
    "    print('Done')"
   ]
  },
  {
   "cell_type": "code",
   "execution_count": 217,
   "metadata": {},
   "outputs": [
    {
     "data": {
      "text/html": [
       "<div>\n",
       "<style scoped>\n",
       "    .dataframe tbody tr th:only-of-type {\n",
       "        vertical-align: middle;\n",
       "    }\n",
       "\n",
       "    .dataframe tbody tr th {\n",
       "        vertical-align: top;\n",
       "    }\n",
       "\n",
       "    .dataframe thead th {\n",
       "        text-align: right;\n",
       "    }\n",
       "</style>\n",
       "<table border=\"1\" class=\"dataframe\">\n",
       "  <thead>\n",
       "    <tr style=\"text-align: right;\">\n",
       "      <th></th>\n",
       "      <th>Train Acc (tresh=0.01)</th>\n",
       "      <th>Test Acc (tresh=0.01)</th>\n",
       "      <th>Train Acc (tresh=0.001)</th>\n",
       "      <th>Test Acc (tresh=0.001)</th>\n",
       "      <th>Train Acc (tresh=0.0001)</th>\n",
       "      <th>Test Acc (tresh=0.0001)</th>\n",
       "      <th>Train Acc (tresh=1e-100)</th>\n",
       "      <th>Test Acc (tresh=1e-100)</th>\n",
       "    </tr>\n",
       "  </thead>\n",
       "  <tbody>\n",
       "    <tr>\n",
       "      <th>Batch-1</th>\n",
       "      <td>0.950413</td>\n",
       "      <td>0.677419</td>\n",
       "      <td>1.000000</td>\n",
       "      <td>0.677419</td>\n",
       "      <td>1.000000</td>\n",
       "      <td>0.709677</td>\n",
       "      <td>0.991736</td>\n",
       "      <td>0.709677</td>\n",
       "    </tr>\n",
       "    <tr>\n",
       "      <th>Batch-2</th>\n",
       "      <td>0.942149</td>\n",
       "      <td>0.870968</td>\n",
       "      <td>0.975207</td>\n",
       "      <td>0.806452</td>\n",
       "      <td>0.975207</td>\n",
       "      <td>0.774194</td>\n",
       "      <td>0.975207</td>\n",
       "      <td>0.774194</td>\n",
       "    </tr>\n",
       "    <tr>\n",
       "      <th>Batch-3</th>\n",
       "      <td>0.967213</td>\n",
       "      <td>0.766667</td>\n",
       "      <td>0.975410</td>\n",
       "      <td>0.733333</td>\n",
       "      <td>0.975410</td>\n",
       "      <td>0.700000</td>\n",
       "      <td>0.975410</td>\n",
       "      <td>0.700000</td>\n",
       "    </tr>\n",
       "    <tr>\n",
       "      <th>Batch-4</th>\n",
       "      <td>0.934426</td>\n",
       "      <td>0.733333</td>\n",
       "      <td>0.983607</td>\n",
       "      <td>0.733333</td>\n",
       "      <td>0.975410</td>\n",
       "      <td>0.766667</td>\n",
       "      <td>0.975410</td>\n",
       "      <td>0.733333</td>\n",
       "    </tr>\n",
       "    <tr>\n",
       "      <th>Batch-5</th>\n",
       "      <td>0.975410</td>\n",
       "      <td>0.466667</td>\n",
       "      <td>0.967213</td>\n",
       "      <td>0.533333</td>\n",
       "      <td>0.959016</td>\n",
       "      <td>0.466667</td>\n",
       "      <td>0.959016</td>\n",
       "      <td>0.533333</td>\n",
       "    </tr>\n",
       "    <tr>\n",
       "      <th>Average</th>\n",
       "      <td>0.953922</td>\n",
       "      <td>0.703011</td>\n",
       "      <td>0.980287</td>\n",
       "      <td>0.696774</td>\n",
       "      <td>0.977009</td>\n",
       "      <td>0.683441</td>\n",
       "      <td>0.975356</td>\n",
       "      <td>0.690108</td>\n",
       "    </tr>\n",
       "  </tbody>\n",
       "</table>\n",
       "</div>"
      ],
      "text/plain": [
       "         Train Acc (tresh=0.01)  Test Acc (tresh=0.01)  \\\n",
       "Batch-1                0.950413               0.677419   \n",
       "Batch-2                0.942149               0.870968   \n",
       "Batch-3                0.967213               0.766667   \n",
       "Batch-4                0.934426               0.733333   \n",
       "Batch-5                0.975410               0.466667   \n",
       "Average                0.953922               0.703011   \n",
       "\n",
       "         Train Acc (tresh=0.001)  Test Acc (tresh=0.001)  \\\n",
       "Batch-1                 1.000000                0.677419   \n",
       "Batch-2                 0.975207                0.806452   \n",
       "Batch-3                 0.975410                0.733333   \n",
       "Batch-4                 0.983607                0.733333   \n",
       "Batch-5                 0.967213                0.533333   \n",
       "Average                 0.980287                0.696774   \n",
       "\n",
       "         Train Acc (tresh=0.0001)  Test Acc (tresh=0.0001)  \\\n",
       "Batch-1                  1.000000                 0.709677   \n",
       "Batch-2                  0.975207                 0.774194   \n",
       "Batch-3                  0.975410                 0.700000   \n",
       "Batch-4                  0.975410                 0.766667   \n",
       "Batch-5                  0.959016                 0.466667   \n",
       "Average                  0.977009                 0.683441   \n",
       "\n",
       "         Train Acc (tresh=1e-100)  Test Acc (tresh=1e-100)  \n",
       "Batch-1                  0.991736                 0.709677  \n",
       "Batch-2                  0.975207                 0.774194  \n",
       "Batch-3                  0.975410                 0.700000  \n",
       "Batch-4                  0.975410                 0.733333  \n",
       "Batch-5                  0.959016                 0.533333  \n",
       "Average                  0.975356                 0.690108  "
      ]
     },
     "execution_count": 217,
     "metadata": {},
     "output_type": "execute_result"
    }
   ],
   "source": [
    "eval_history = {}\n",
    "for i in range(NUM_PARAMS):\n",
    "    eval_history[f'Train Acc (tresh={ig_tresh[i]})'] = train_history[i] \n",
    "    eval_history[f'Test Acc (tresh={ig_tresh[i]})'] = test_history[i]\n",
    "    \n",
    "history_ig = pd.DataFrame(eval_history, index=['Batch-1', 'Batch-2', 'Batch-3', \n",
    "                                                  'Batch-4', 'Batch-5', 'Average'])\n",
    "history_ig"
   ]
  },
  {
   "cell_type": "markdown",
   "metadata": {},
   "source": [
    "If we compare with model that <b>not using information gain</b>, we get <b>72.24%</b> for test accuracy.\n",
    "And with <b>using information gain</b> with the best parameter we get:\n",
    "<h3>70.3%</h3>\n",
    "\n",
    "> Recommend to not use INFORMATION GAIN"
   ]
  },
  {
   "cell_type": "markdown",
   "metadata": {},
   "source": [
    "### Multinomial Naive Bayes +  Information Gain + TF-IDF"
   ]
  },
  {
   "cell_type": "code",
   "execution_count": 218,
   "metadata": {},
   "outputs": [
    {
     "data": {
      "text/plain": [
       "[((1, 1), 0.0, 0.4, 0.01),\n",
       " ((1, 1), 0.0, 0.4, 0.001),\n",
       " ((1, 1), 0.0, 0.4, 0.0001)]"
      ]
     },
     "execution_count": 218,
     "metadata": {},
     "output_type": "execute_result"
    }
   ],
   "source": [
    "ngram = [(1, 1), (1, 2), (1, 3)]\n",
    "min_df = [0.0, .1, .2, .3]\n",
    "max_df = [.4, .5, .6, .7 , .8, .9, 1.0]\n",
    "ig_tresh = [1e-2, 1e-3, 1e-4, 1e-100]\n",
    "\n",
    "param_combinations = list(product(ngram, min_df, max_df, ig_tresh))\n",
    "param_combinations[:3]"
   ]
  },
  {
   "cell_type": "code",
   "execution_count": 219,
   "metadata": {},
   "outputs": [
    {
     "name": "stdout",
     "output_type": "stream",
     "text": [
      "Train and evaluate model completed\n"
     ]
    }
   ],
   "source": [
    "NUM_BATCHES = 5\n",
    "features = np.array(clean_comment)\n",
    "labels = np.array(df.polarity)\n",
    "train_eval, test_eval = [], []\n",
    "\n",
    "for i in range(NUM_BATCHES):\n",
    "\n",
    "    train_idx = np.load(f'dataset/train_{i+1}.npy')\n",
    "    test_idx = np.load(f'dataset/test_{i+1}.npy')\n",
    "    train_labels = labels[train_idx]\n",
    "    test_labels = labels[test_idx]\n",
    "    \n",
    "    vectorizer = CountVectorizer()\n",
    "    train_count_features = vectorizer.fit_transform(features[train_idx])\n",
    "    test_count_features = vectorizer.transform(features[test_idx])\n",
    "\n",
    "    ig_res = dict(zip(vectorizer.get_feature_names(),\n",
    "                      mutual_info_classif(train_count_features, train_labels, discrete_features=True)\n",
    "                   ))\n",
    "    ig_res = sorted(ig_res.items(), key=lambda x: x[1], reverse=True)\n",
    "    \n",
    "    for param in param_combinations:\n",
    "        below_tresh = [ig[0] for ig in ig_res if ig[1] < param[-1]]\n",
    "        new_features = remove_token(below_tresh, features)\n",
    "\n",
    "        tfidf_vectorizer = TfidfVectorizer(ngram_range=param[0], min_df=param[1], max_df=param[2])\n",
    "        train_features = tfidf_vectorizer.fit_transform(new_features[train_idx])\n",
    "        test_features = tfidf_vectorizer.transform(new_features[test_idx])\n",
    "\n",
    "        # train and evaluate\n",
    "        clf = MultinomialNB()\n",
    "        clf.fit(train_features, train_labels)\n",
    "        train_acc = clf.score(train_features, train_labels)\n",
    "        test_acc = clf.score(test_features, test_labels)\n",
    "\n",
    "        train_eval.append(train_acc)\n",
    "        test_eval.append(test_acc)\n",
    "\n",
    "print('Train and evaluate model completed')"
   ]
  },
  {
   "cell_type": "code",
   "execution_count": 220,
   "metadata": {},
   "outputs": [
    {
     "name": "stdout",
     "output_type": "stream",
     "text": [
      "Done\n"
     ]
    }
   ],
   "source": [
    "NUM_PARAMS = len(param_combinations)\n",
    "train_history = [[] for i in range(NUM_PARAMS)]\n",
    "test_history = [[] for i in range(NUM_PARAMS)]\n",
    "\n",
    "for i in range(len(train_eval)):\n",
    "    idx = i % NUM_PARAMS\n",
    "    train_history[idx].append(train_eval[i])\n",
    "    test_history[idx].append(test_eval[i])\n",
    "\n",
    "# append the average accuracy\n",
    "for i in range(NUM_PARAMS):\n",
    "    train_history[i].append(sum(train_history[i])/NUM_BATCHES)\n",
    "    test_history[i].append(sum(test_history[i])/NUM_BATCHES)\n",
    "\n",
    "if len(train_history[-1]) == NUM_BATCHES+1:\n",
    "    print('Done')"
   ]
  },
  {
   "cell_type": "code",
   "execution_count": 223,
   "metadata": {},
   "outputs": [
    {
     "data": {
      "text/html": [
       "<div>\n",
       "<style scoped>\n",
       "    .dataframe tbody tr th:only-of-type {\n",
       "        vertical-align: middle;\n",
       "    }\n",
       "\n",
       "    .dataframe tbody tr th {\n",
       "        vertical-align: top;\n",
       "    }\n",
       "\n",
       "    .dataframe thead th {\n",
       "        text-align: right;\n",
       "    }\n",
       "</style>\n",
       "<table border=\"1\" class=\"dataframe\">\n",
       "  <thead>\n",
       "    <tr style=\"text-align: right;\">\n",
       "      <th></th>\n",
       "      <th>Train Acc (ngram=(1, 1)), min_df=0.0, max_df=0.4, tresh=0.01</th>\n",
       "      <th>Test Acc (ngram=(1, 1)), min_df=0.0, max_df=0.4, tresh=0.01</th>\n",
       "      <th>Train Acc (ngram=(1, 1)), min_df=0.0, max_df=0.4, tresh=0.001</th>\n",
       "      <th>Test Acc (ngram=(1, 1)), min_df=0.0, max_df=0.4, tresh=0.001</th>\n",
       "      <th>Train Acc (ngram=(1, 1)), min_df=0.0, max_df=0.4, tresh=0.0001</th>\n",
       "      <th>Test Acc (ngram=(1, 1)), min_df=0.0, max_df=0.4, tresh=0.0001</th>\n",
       "      <th>Train Acc (ngram=(1, 1)), min_df=0.0, max_df=0.4, tresh=1e-100</th>\n",
       "      <th>Test Acc (ngram=(1, 1)), min_df=0.0, max_df=0.4, tresh=1e-100</th>\n",
       "      <th>Train Acc (ngram=(1, 1)), min_df=0.0, max_df=0.5, tresh=0.01</th>\n",
       "      <th>Test Acc (ngram=(1, 1)), min_df=0.0, max_df=0.5, tresh=0.01</th>\n",
       "      <th>...</th>\n",
       "      <th>Train Acc (ngram=(1, 3)), min_df=0.3, max_df=0.9, tresh=1e-100</th>\n",
       "      <th>Test Acc (ngram=(1, 3)), min_df=0.3, max_df=0.9, tresh=1e-100</th>\n",
       "      <th>Train Acc (ngram=(1, 3)), min_df=0.3, max_df=1.0, tresh=0.01</th>\n",
       "      <th>Test Acc (ngram=(1, 3)), min_df=0.3, max_df=1.0, tresh=0.01</th>\n",
       "      <th>Train Acc (ngram=(1, 3)), min_df=0.3, max_df=1.0, tresh=0.001</th>\n",
       "      <th>Test Acc (ngram=(1, 3)), min_df=0.3, max_df=1.0, tresh=0.001</th>\n",
       "      <th>Train Acc (ngram=(1, 3)), min_df=0.3, max_df=1.0, tresh=0.0001</th>\n",
       "      <th>Test Acc (ngram=(1, 3)), min_df=0.3, max_df=1.0, tresh=0.0001</th>\n",
       "      <th>Train Acc (ngram=(1, 3)), min_df=0.3, max_df=1.0, tresh=1e-100</th>\n",
       "      <th>Test Acc (ngram=(1, 3)), min_df=0.3, max_df=1.0, tresh=1e-100</th>\n",
       "    </tr>\n",
       "  </thead>\n",
       "  <tbody>\n",
       "    <tr>\n",
       "      <th>Batch-1</th>\n",
       "      <td>0.950413</td>\n",
       "      <td>0.677419</td>\n",
       "      <td>1.000000</td>\n",
       "      <td>0.677419</td>\n",
       "      <td>0.991736</td>\n",
       "      <td>0.709677</td>\n",
       "      <td>0.991736</td>\n",
       "      <td>0.709677</td>\n",
       "      <td>0.950413</td>\n",
       "      <td>0.677419</td>\n",
       "      <td>...</td>\n",
       "      <td>0.834711</td>\n",
       "      <td>0.935484</td>\n",
       "      <td>0.834711</td>\n",
       "      <td>0.935484</td>\n",
       "      <td>0.834711</td>\n",
       "      <td>0.935484</td>\n",
       "      <td>0.834711</td>\n",
       "      <td>0.935484</td>\n",
       "      <td>0.834711</td>\n",
       "      <td>0.935484</td>\n",
       "    </tr>\n",
       "    <tr>\n",
       "      <th>Batch-2</th>\n",
       "      <td>0.942149</td>\n",
       "      <td>0.870968</td>\n",
       "      <td>0.975207</td>\n",
       "      <td>0.806452</td>\n",
       "      <td>0.975207</td>\n",
       "      <td>0.806452</td>\n",
       "      <td>0.975207</td>\n",
       "      <td>0.774194</td>\n",
       "      <td>0.942149</td>\n",
       "      <td>0.870968</td>\n",
       "      <td>...</td>\n",
       "      <td>0.826446</td>\n",
       "      <td>0.935484</td>\n",
       "      <td>0.826446</td>\n",
       "      <td>0.935484</td>\n",
       "      <td>0.826446</td>\n",
       "      <td>0.935484</td>\n",
       "      <td>0.826446</td>\n",
       "      <td>0.935484</td>\n",
       "      <td>0.826446</td>\n",
       "      <td>0.935484</td>\n",
       "    </tr>\n",
       "    <tr>\n",
       "      <th>Batch-3</th>\n",
       "      <td>0.967213</td>\n",
       "      <td>0.766667</td>\n",
       "      <td>0.975410</td>\n",
       "      <td>0.733333</td>\n",
       "      <td>0.975410</td>\n",
       "      <td>0.700000</td>\n",
       "      <td>0.975410</td>\n",
       "      <td>0.700000</td>\n",
       "      <td>0.967213</td>\n",
       "      <td>0.766667</td>\n",
       "      <td>...</td>\n",
       "      <td>0.860656</td>\n",
       "      <td>0.933333</td>\n",
       "      <td>0.860656</td>\n",
       "      <td>0.933333</td>\n",
       "      <td>0.860656</td>\n",
       "      <td>0.933333</td>\n",
       "      <td>0.860656</td>\n",
       "      <td>0.933333</td>\n",
       "      <td>0.860656</td>\n",
       "      <td>0.933333</td>\n",
       "    </tr>\n",
       "    <tr>\n",
       "      <th>Batch-4</th>\n",
       "      <td>0.934426</td>\n",
       "      <td>0.766667</td>\n",
       "      <td>0.983607</td>\n",
       "      <td>0.766667</td>\n",
       "      <td>0.975410</td>\n",
       "      <td>0.800000</td>\n",
       "      <td>0.975410</td>\n",
       "      <td>0.800000</td>\n",
       "      <td>0.934426</td>\n",
       "      <td>0.733333</td>\n",
       "      <td>...</td>\n",
       "      <td>0.868852</td>\n",
       "      <td>0.900000</td>\n",
       "      <td>0.868852</td>\n",
       "      <td>0.900000</td>\n",
       "      <td>0.868852</td>\n",
       "      <td>0.900000</td>\n",
       "      <td>0.868852</td>\n",
       "      <td>0.900000</td>\n",
       "      <td>0.868852</td>\n",
       "      <td>0.900000</td>\n",
       "    </tr>\n",
       "    <tr>\n",
       "      <th>Batch-5</th>\n",
       "      <td>0.909836</td>\n",
       "      <td>0.533333</td>\n",
       "      <td>0.959016</td>\n",
       "      <td>0.433333</td>\n",
       "      <td>0.959016</td>\n",
       "      <td>0.466667</td>\n",
       "      <td>0.959016</td>\n",
       "      <td>0.466667</td>\n",
       "      <td>0.975410</td>\n",
       "      <td>0.466667</td>\n",
       "      <td>...</td>\n",
       "      <td>0.868852</td>\n",
       "      <td>0.600000</td>\n",
       "      <td>0.868852</td>\n",
       "      <td>0.600000</td>\n",
       "      <td>0.868852</td>\n",
       "      <td>0.600000</td>\n",
       "      <td>0.868852</td>\n",
       "      <td>0.600000</td>\n",
       "      <td>0.868852</td>\n",
       "      <td>0.600000</td>\n",
       "    </tr>\n",
       "    <tr>\n",
       "      <th>Average</th>\n",
       "      <td>0.940807</td>\n",
       "      <td>0.723011</td>\n",
       "      <td>0.978648</td>\n",
       "      <td>0.683441</td>\n",
       "      <td>0.975356</td>\n",
       "      <td>0.696559</td>\n",
       "      <td>0.975356</td>\n",
       "      <td>0.690108</td>\n",
       "      <td>0.953922</td>\n",
       "      <td>0.703011</td>\n",
       "      <td>...</td>\n",
       "      <td>0.851904</td>\n",
       "      <td>0.860860</td>\n",
       "      <td>0.851904</td>\n",
       "      <td>0.860860</td>\n",
       "      <td>0.851904</td>\n",
       "      <td>0.860860</td>\n",
       "      <td>0.851904</td>\n",
       "      <td>0.860860</td>\n",
       "      <td>0.851904</td>\n",
       "      <td>0.860860</td>\n",
       "    </tr>\n",
       "  </tbody>\n",
       "</table>\n",
       "<p>6 rows × 672 columns</p>\n",
       "</div>"
      ],
      "text/plain": [
       "         Train Acc (ngram=(1, 1)), min_df=0.0, max_df=0.4, tresh=0.01  \\\n",
       "Batch-1                                           0.950413              \n",
       "Batch-2                                           0.942149              \n",
       "Batch-3                                           0.967213              \n",
       "Batch-4                                           0.934426              \n",
       "Batch-5                                           0.909836              \n",
       "Average                                           0.940807              \n",
       "\n",
       "         Test Acc (ngram=(1, 1)), min_df=0.0, max_df=0.4, tresh=0.01  \\\n",
       "Batch-1                                           0.677419             \n",
       "Batch-2                                           0.870968             \n",
       "Batch-3                                           0.766667             \n",
       "Batch-4                                           0.766667             \n",
       "Batch-5                                           0.533333             \n",
       "Average                                           0.723011             \n",
       "\n",
       "         Train Acc (ngram=(1, 1)), min_df=0.0, max_df=0.4, tresh=0.001  \\\n",
       "Batch-1                                           1.000000               \n",
       "Batch-2                                           0.975207               \n",
       "Batch-3                                           0.975410               \n",
       "Batch-4                                           0.983607               \n",
       "Batch-5                                           0.959016               \n",
       "Average                                           0.978648               \n",
       "\n",
       "         Test Acc (ngram=(1, 1)), min_df=0.0, max_df=0.4, tresh=0.001  \\\n",
       "Batch-1                                           0.677419              \n",
       "Batch-2                                           0.806452              \n",
       "Batch-3                                           0.733333              \n",
       "Batch-4                                           0.766667              \n",
       "Batch-5                                           0.433333              \n",
       "Average                                           0.683441              \n",
       "\n",
       "         Train Acc (ngram=(1, 1)), min_df=0.0, max_df=0.4, tresh=0.0001  \\\n",
       "Batch-1                                           0.991736                \n",
       "Batch-2                                           0.975207                \n",
       "Batch-3                                           0.975410                \n",
       "Batch-4                                           0.975410                \n",
       "Batch-5                                           0.959016                \n",
       "Average                                           0.975356                \n",
       "\n",
       "         Test Acc (ngram=(1, 1)), min_df=0.0, max_df=0.4, tresh=0.0001  \\\n",
       "Batch-1                                           0.709677               \n",
       "Batch-2                                           0.806452               \n",
       "Batch-3                                           0.700000               \n",
       "Batch-4                                           0.800000               \n",
       "Batch-5                                           0.466667               \n",
       "Average                                           0.696559               \n",
       "\n",
       "         Train Acc (ngram=(1, 1)), min_df=0.0, max_df=0.4, tresh=1e-100  \\\n",
       "Batch-1                                           0.991736                \n",
       "Batch-2                                           0.975207                \n",
       "Batch-3                                           0.975410                \n",
       "Batch-4                                           0.975410                \n",
       "Batch-5                                           0.959016                \n",
       "Average                                           0.975356                \n",
       "\n",
       "         Test Acc (ngram=(1, 1)), min_df=0.0, max_df=0.4, tresh=1e-100  \\\n",
       "Batch-1                                           0.709677               \n",
       "Batch-2                                           0.774194               \n",
       "Batch-3                                           0.700000               \n",
       "Batch-4                                           0.800000               \n",
       "Batch-5                                           0.466667               \n",
       "Average                                           0.690108               \n",
       "\n",
       "         Train Acc (ngram=(1, 1)), min_df=0.0, max_df=0.5, tresh=0.01  \\\n",
       "Batch-1                                           0.950413              \n",
       "Batch-2                                           0.942149              \n",
       "Batch-3                                           0.967213              \n",
       "Batch-4                                           0.934426              \n",
       "Batch-5                                           0.975410              \n",
       "Average                                           0.953922              \n",
       "\n",
       "         Test Acc (ngram=(1, 1)), min_df=0.0, max_df=0.5, tresh=0.01  ...  \\\n",
       "Batch-1                                           0.677419            ...   \n",
       "Batch-2                                           0.870968            ...   \n",
       "Batch-3                                           0.766667            ...   \n",
       "Batch-4                                           0.733333            ...   \n",
       "Batch-5                                           0.466667            ...   \n",
       "Average                                           0.703011            ...   \n",
       "\n",
       "         Train Acc (ngram=(1, 3)), min_df=0.3, max_df=0.9, tresh=1e-100  \\\n",
       "Batch-1                                           0.834711                \n",
       "Batch-2                                           0.826446                \n",
       "Batch-3                                           0.860656                \n",
       "Batch-4                                           0.868852                \n",
       "Batch-5                                           0.868852                \n",
       "Average                                           0.851904                \n",
       "\n",
       "         Test Acc (ngram=(1, 3)), min_df=0.3, max_df=0.9, tresh=1e-100  \\\n",
       "Batch-1                                           0.935484               \n",
       "Batch-2                                           0.935484               \n",
       "Batch-3                                           0.933333               \n",
       "Batch-4                                           0.900000               \n",
       "Batch-5                                           0.600000               \n",
       "Average                                           0.860860               \n",
       "\n",
       "         Train Acc (ngram=(1, 3)), min_df=0.3, max_df=1.0, tresh=0.01  \\\n",
       "Batch-1                                           0.834711              \n",
       "Batch-2                                           0.826446              \n",
       "Batch-3                                           0.860656              \n",
       "Batch-4                                           0.868852              \n",
       "Batch-5                                           0.868852              \n",
       "Average                                           0.851904              \n",
       "\n",
       "         Test Acc (ngram=(1, 3)), min_df=0.3, max_df=1.0, tresh=0.01  \\\n",
       "Batch-1                                           0.935484             \n",
       "Batch-2                                           0.935484             \n",
       "Batch-3                                           0.933333             \n",
       "Batch-4                                           0.900000             \n",
       "Batch-5                                           0.600000             \n",
       "Average                                           0.860860             \n",
       "\n",
       "         Train Acc (ngram=(1, 3)), min_df=0.3, max_df=1.0, tresh=0.001  \\\n",
       "Batch-1                                           0.834711               \n",
       "Batch-2                                           0.826446               \n",
       "Batch-3                                           0.860656               \n",
       "Batch-4                                           0.868852               \n",
       "Batch-5                                           0.868852               \n",
       "Average                                           0.851904               \n",
       "\n",
       "         Test Acc (ngram=(1, 3)), min_df=0.3, max_df=1.0, tresh=0.001  \\\n",
       "Batch-1                                           0.935484              \n",
       "Batch-2                                           0.935484              \n",
       "Batch-3                                           0.933333              \n",
       "Batch-4                                           0.900000              \n",
       "Batch-5                                           0.600000              \n",
       "Average                                           0.860860              \n",
       "\n",
       "         Train Acc (ngram=(1, 3)), min_df=0.3, max_df=1.0, tresh=0.0001  \\\n",
       "Batch-1                                           0.834711                \n",
       "Batch-2                                           0.826446                \n",
       "Batch-3                                           0.860656                \n",
       "Batch-4                                           0.868852                \n",
       "Batch-5                                           0.868852                \n",
       "Average                                           0.851904                \n",
       "\n",
       "         Test Acc (ngram=(1, 3)), min_df=0.3, max_df=1.0, tresh=0.0001  \\\n",
       "Batch-1                                           0.935484               \n",
       "Batch-2                                           0.935484               \n",
       "Batch-3                                           0.933333               \n",
       "Batch-4                                           0.900000               \n",
       "Batch-5                                           0.600000               \n",
       "Average                                           0.860860               \n",
       "\n",
       "         Train Acc (ngram=(1, 3)), min_df=0.3, max_df=1.0, tresh=1e-100  \\\n",
       "Batch-1                                           0.834711                \n",
       "Batch-2                                           0.826446                \n",
       "Batch-3                                           0.860656                \n",
       "Batch-4                                           0.868852                \n",
       "Batch-5                                           0.868852                \n",
       "Average                                           0.851904                \n",
       "\n",
       "         Test Acc (ngram=(1, 3)), min_df=0.3, max_df=1.0, tresh=1e-100  \n",
       "Batch-1                                           0.935484              \n",
       "Batch-2                                           0.935484              \n",
       "Batch-3                                           0.933333              \n",
       "Batch-4                                           0.900000              \n",
       "Batch-5                                           0.600000              \n",
       "Average                                           0.860860              \n",
       "\n",
       "[6 rows x 672 columns]"
      ]
     },
     "execution_count": 223,
     "metadata": {},
     "output_type": "execute_result"
    }
   ],
   "source": [
    "eval_history = {}\n",
    "for i in range(NUM_PARAMS):\n",
    "    eval_history[f'Train Acc (ngram={param_combinations[i][0]}), min_df={param_combinations[i][1]}, max_df={param_combinations[i][2]}, tresh={param_combinations[i][-1]}'] = train_history[i] \n",
    "    eval_history[f'Test Acc (ngram={param_combinations[i][0]}), min_df={param_combinations[i][1]}, max_df={param_combinations[i][2]}, tresh={param_combinations[i][-1]}'] = test_history[i]\n",
    "    , tresh={}\n",
    "history_ig_tfidf = pd.DataFrame(eval_history, index=['Batch-1', 'Batch-2', 'Batch-3', \n",
    "                                                  'Batch-4', 'Batch-5', 'Average'])\n",
    "history_ig_tfidf"
   ]
  },
  {
   "cell_type": "code",
   "execution_count": 224,
   "metadata": {},
   "outputs": [
    {
     "data": {
      "text/plain": [
       "'Test Acc (ngram=(1, 1)), min_df=0.3, max_df=0.5, tresh=0.01'"
      ]
     },
     "execution_count": 224,
     "metadata": {},
     "output_type": "execute_result"
    }
   ],
   "source": [
    "test_col = [col for col in history_ig_tfidf.columns if col.startswith('Test')]\n",
    "test_col[history_ig_tfidf.loc['Average', test_col].argmax()]\n"
   ]
  },
  {
   "cell_type": "code",
   "execution_count": 225,
   "metadata": {},
   "outputs": [
    {
     "data": {
      "text/html": [
       "<div>\n",
       "<style scoped>\n",
       "    .dataframe tbody tr th:only-of-type {\n",
       "        vertical-align: middle;\n",
       "    }\n",
       "\n",
       "    .dataframe tbody tr th {\n",
       "        vertical-align: top;\n",
       "    }\n",
       "\n",
       "    .dataframe thead th {\n",
       "        text-align: right;\n",
       "    }\n",
       "</style>\n",
       "<table border=\"1\" class=\"dataframe\">\n",
       "  <thead>\n",
       "    <tr style=\"text-align: right;\">\n",
       "      <th></th>\n",
       "      <th>Train Acc (ngram=(1, 1)), min_df=0.3, max_df=0.5, tresh=0.01</th>\n",
       "      <th>Test Acc (ngram=(1, 1)), min_df=0.3, max_df=0.5, tresh=0.01</th>\n",
       "    </tr>\n",
       "  </thead>\n",
       "  <tbody>\n",
       "    <tr>\n",
       "      <th>Batch-1</th>\n",
       "      <td>0.834711</td>\n",
       "      <td>0.935484</td>\n",
       "    </tr>\n",
       "    <tr>\n",
       "      <th>Batch-2</th>\n",
       "      <td>0.826446</td>\n",
       "      <td>0.935484</td>\n",
       "    </tr>\n",
       "    <tr>\n",
       "      <th>Batch-3</th>\n",
       "      <td>0.860656</td>\n",
       "      <td>0.933333</td>\n",
       "    </tr>\n",
       "    <tr>\n",
       "      <th>Batch-4</th>\n",
       "      <td>0.868852</td>\n",
       "      <td>0.900000</td>\n",
       "    </tr>\n",
       "    <tr>\n",
       "      <th>Batch-5</th>\n",
       "      <td>0.868852</td>\n",
       "      <td>0.600000</td>\n",
       "    </tr>\n",
       "    <tr>\n",
       "      <th>Average</th>\n",
       "      <td>0.851904</td>\n",
       "      <td>0.860860</td>\n",
       "    </tr>\n",
       "  </tbody>\n",
       "</table>\n",
       "</div>"
      ],
      "text/plain": [
       "         Train Acc (ngram=(1, 1)), min_df=0.3, max_df=0.5, tresh=0.01  \\\n",
       "Batch-1                                           0.834711              \n",
       "Batch-2                                           0.826446              \n",
       "Batch-3                                           0.860656              \n",
       "Batch-4                                           0.868852              \n",
       "Batch-5                                           0.868852              \n",
       "Average                                           0.851904              \n",
       "\n",
       "         Test Acc (ngram=(1, 1)), min_df=0.3, max_df=0.5, tresh=0.01  \n",
       "Batch-1                                           0.935484            \n",
       "Batch-2                                           0.935484            \n",
       "Batch-3                                           0.933333            \n",
       "Batch-4                                           0.900000            \n",
       "Batch-5                                           0.600000            \n",
       "Average                                           0.860860            "
      ]
     },
     "execution_count": 225,
     "metadata": {},
     "output_type": "execute_result"
    }
   ],
   "source": [
    "history_ig_tfidf[['Train Acc (ngram=(1, 1)), min_df=0.3, max_df=0.5, tresh=0.01', 'Test Acc (ngram=(1, 1)), min_df=0.3, max_df=0.5, tresh=0.01']]"
   ]
  },
  {
   "cell_type": "code",
   "execution_count": 227,
   "metadata": {},
   "outputs": [
    {
     "data": {
      "text/html": [
       "<div>\n",
       "<style scoped>\n",
       "    .dataframe tbody tr th:only-of-type {\n",
       "        vertical-align: middle;\n",
       "    }\n",
       "\n",
       "    .dataframe tbody tr th {\n",
       "        vertical-align: top;\n",
       "    }\n",
       "\n",
       "    .dataframe thead th {\n",
       "        text-align: right;\n",
       "    }\n",
       "</style>\n",
       "<table border=\"1\" class=\"dataframe\">\n",
       "  <thead>\n",
       "    <tr style=\"text-align: right;\">\n",
       "      <th></th>\n",
       "      <th>Train Acc (ngram=(1, 1)), min_df=0.3, max_df=0.5, tresh=1e-100</th>\n",
       "      <th>Test Acc (ngram=(1, 1)), min_df=0.3, max_df=0.5, tresh=1e-100</th>\n",
       "    </tr>\n",
       "  </thead>\n",
       "  <tbody>\n",
       "    <tr>\n",
       "      <th>Batch-1</th>\n",
       "      <td>0.834711</td>\n",
       "      <td>0.935484</td>\n",
       "    </tr>\n",
       "    <tr>\n",
       "      <th>Batch-2</th>\n",
       "      <td>0.826446</td>\n",
       "      <td>0.935484</td>\n",
       "    </tr>\n",
       "    <tr>\n",
       "      <th>Batch-3</th>\n",
       "      <td>0.860656</td>\n",
       "      <td>0.933333</td>\n",
       "    </tr>\n",
       "    <tr>\n",
       "      <th>Batch-4</th>\n",
       "      <td>0.868852</td>\n",
       "      <td>0.900000</td>\n",
       "    </tr>\n",
       "    <tr>\n",
       "      <th>Batch-5</th>\n",
       "      <td>0.868852</td>\n",
       "      <td>0.600000</td>\n",
       "    </tr>\n",
       "    <tr>\n",
       "      <th>Average</th>\n",
       "      <td>0.851904</td>\n",
       "      <td>0.860860</td>\n",
       "    </tr>\n",
       "  </tbody>\n",
       "</table>\n",
       "</div>"
      ],
      "text/plain": [
       "         Train Acc (ngram=(1, 1)), min_df=0.3, max_df=0.5, tresh=1e-100  \\\n",
       "Batch-1                                           0.834711                \n",
       "Batch-2                                           0.826446                \n",
       "Batch-3                                           0.860656                \n",
       "Batch-4                                           0.868852                \n",
       "Batch-5                                           0.868852                \n",
       "Average                                           0.851904                \n",
       "\n",
       "         Test Acc (ngram=(1, 1)), min_df=0.3, max_df=0.5, tresh=1e-100  \n",
       "Batch-1                                           0.935484              \n",
       "Batch-2                                           0.935484              \n",
       "Batch-3                                           0.933333              \n",
       "Batch-4                                           0.900000              \n",
       "Batch-5                                           0.600000              \n",
       "Average                                           0.860860              "
      ]
     },
     "execution_count": 227,
     "metadata": {},
     "output_type": "execute_result"
    }
   ],
   "source": [
    "history_ig_tfidf[['Train Acc (ngram=(1, 1)), min_df=0.3, max_df=0.5, tresh=1e-100', 'Test Acc (ngram=(1, 1)), min_df=0.3, max_df=0.5, tresh=1e-100']]"
   ]
  },
  {
   "cell_type": "markdown",
   "metadata": {},
   "source": [
    "We get same score for using and without using information gain that is:\n",
    "<h3>86.01%</h3>\n",
    "\n",
    "> Recommend to not use INFORMATION GAIN"
   ]
  },
  {
   "cell_type": "markdown",
   "metadata": {},
   "source": [
    "### Multinomial Naive Bayes +  Chi Square"
   ]
  },
  {
   "cell_type": "code",
   "execution_count": null,
   "metadata": {},
   "outputs": [],
   "source": []
  }
 ],
 "metadata": {
  "kernelspec": {
   "display_name": "Python 3",
   "language": "python",
   "name": "python3"
  },
  "language_info": {
   "codemirror_mode": {
    "name": "ipython",
    "version": 3
   },
   "file_extension": ".py",
   "mimetype": "text/x-python",
   "name": "python",
   "nbconvert_exporter": "python",
   "pygments_lexer": "ipython3",
   "version": "3.7.6"
  }
 },
 "nbformat": 4,
 "nbformat_minor": 4
}
